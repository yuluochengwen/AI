{
 "cells": [
  {
   "cell_type": "markdown",
   "id": "cfa66bf1",
   "metadata": {},
   "source": [
    "#### PAT-1036"
   ]
  },
  {
   "cell_type": "markdown",
   "id": "a37e8250",
   "metadata": {},
   "source": [
    "1. 用给定的字符打印一个正方形\n",
    "2. 注意到行间隔比列间隔小，要求行数是列数的50%，要求四舍五入，但观察到行数不整除的情况下，**都是向前进位**，so，不需要使用round()函数(主要是不太好用)\n",
    "    ```python\n",
    "    if N%2 == 0:\n",
    "        row = N//2\n",
    "    else:\n",
    "        row = N//2 + 1\n",
    "    ```\n",
    "    或者\n",
    "    ```python\n",
    "    row = int(N/2+0.5)\n",
    "    ```\n",
    "3. 注意到**首尾行**要打满，但中间行只有**行首行尾**需要打印\n",
    "    ```python\n",
    "    for i in range(row):\n",
    "        if i == 0 or i == row-1:\n",
    "            print(symbol * N)\n",
    "        else:\n",
    "            print(symbol +' ' * (N-2) + symbol)\n",
    "    ```"
   ]
  },
  {
   "cell_type": "code",
   "execution_count": null,
   "id": "c536b6a8",
   "metadata": {},
   "outputs": [
    {
     "name": "stdout",
     "output_type": "stream",
     "text": [
      "aaaaaaaaaaa\n",
      "a         a\n",
      "a         a\n",
      "a         a\n",
      "a         a\n",
      "aaaaaaaaaaa\n"
     ]
    }
   ],
   "source": [
    "N, symbol = input().split()  # 从输入读取两个以空格分隔的值：列数 N 和绘制用的字符 symbol\n",
    "N = int(N)  # 将 N 转为整数，便于后续算术计算\n",
    "\n",
    "if N % 2 == 0:  # 如果 N 为偶数，行数就是列数的一半\n",
    "    row = N // 2  # 地板除，等同于 int(N/2)\n",
    "else:  # 如果 N 为奇数，需要向上取整以满足行数≈列数的 50%\n",
    "    row = N // 2 + 1  # 等价于 ceil(N/2)\n",
    "\n",
    "# 逐行输出图形，共 row 行\n",
    "for i in range(row):  # i 为当前行索引，从 0 到 row-1\n",
    "    if i == 0 or i == row - 1:  # 首行或尾行：整行用 symbol 填满\n",
    "        print(symbol * N)  # 打印 N 个 symbol，形成实心边框\n",
    "    else:  # 中间行：只在行首与行尾打印 symbol，中间留空格\n",
    "        print(symbol + ' ' * (N - 2) + symbol)  # 左 1 个 symbol + 中间 (N-2) 个空格 + 右 1 个 symbol\n",
    "\n",
    "# 说明：题目通常保证 N >= 3；若 N 很小（如 N=1），中间行计算 (N-2) 会为负，实际使用时需加特判处理"
   ]
  },
  {
   "cell_type": "markdown",
   "id": "5ce5eb25",
   "metadata": {},
   "source": [
    "#### PAT-1082"
   ]
  },
  {
   "cell_type": "markdown",
   "id": "7f8fd006",
   "metadata": {},
   "source": [
    "1. 坐标内两点间的距离计算公式：\n",
    "$$d=\\sqrt{(x_2-x_1)^2+(y_2-y_1)^2}$$\n",
    "2. 要求**一行内输出**得分最高者（）和最低者（）的**编号**，中间用空格隔开。\n",
    "3. 想到可以使用**字典**来存储每个人的得分，然后根据字典的键值对进行排序，输出第一和倒一的键值对的**键值**，想按分数拿到key，可以用下面的方法。\n",
    "    ```python\n",
    "    scores = {'A': 90, 'B': 80, 'C': 70, 'D': 60}\n",
    "    # max()函数遍历scores字典，max()拿到的实际上是键值对的键，scores.get()方法获取每个键对应的值，然后交给key参数进行排序\n",
    "    max_k = max(scores, key=scores.get) \n",
    "    min_k = min(scores, key=scores.get)\n",
    "    print(max_s, min_s)\n",
    "    ```\n",
    "4. 又想到可以用`max_s`和`min_s`变量直接记录当前最大距离和最小距离，最后可以直接输出，但需要注意，**max_s是菜鸟，min_s是高手**。"
   ]
  },
  {
   "cell_type": "code",
   "execution_count": null,
   "id": "3d380c92",
   "metadata": {},
   "outputs": [],
   "source": [
    "# 变量存储\n",
    "N = int(input())\n",
    "max_s = -1\n",
    "min_s = -1\n",
    "cai = ''\n",
    "top1 = ''\n",
    "for _ in range(N):\n",
    "    num, x, y = input().split()\n",
    "    x = int(x)\n",
    "    y = int(y)\n",
    "    distance = (x ** 2 + y ** 2) ** 0.5\n",
    "    if distance > max_s:\n",
    "        max_s = distance\n",
    "        cai = num\n",
    "    if distance < min_s or min_s == -1:\n",
    "        min_s = distance\n",
    "        top1 = num\n",
    "print(top1, cai)\n"
   ]
  },
  {
   "cell_type": "code",
   "execution_count": null,
   "id": "f6143e63",
   "metadata": {},
   "outputs": [],
   "source": [
    "# 字典存储\n",
    "N = int(input())\n",
    "data = {}\n",
    "\n",
    "def distance(x, y):\n",
    "    # 不开方，效果相同，避免浮点数精度困扰\n",
    "    return (x**2 + y**2)\n",
    "\n",
    "for i in range(N):\n",
    "    num, x, y = input().split()\n",
    "    x = int(x)\n",
    "    y = int(y)\n",
    "    if num not in data:\n",
    "        data[num] = distance(x, y)\n",
    "\n",
    "# 找出值最大和最小的键\n",
    "loser = max(data, key=data.get)\n",
    "winner = min(data, key=data.get)\n",
    "\n",
    "print(winner, loser)"
   ]
  },
  {
   "cell_type": "code",
   "execution_count": null,
   "id": "215a747f",
   "metadata": {},
   "outputs": [],
   "source": [
    "a = int(input())\n",
    "dic = {}\n",
    "for i in range(a):\n",
    "    id,x,y = input().split()\n",
    "    sco = int(x)**2+int(y)**2\n",
    "    dic[sco]=id\n",
    "print(dic[min(dic)]+' '+dic[max(dic)])"
   ]
  },
  {
   "cell_type": "markdown",
   "id": "37bf06f3",
   "metadata": {},
   "source": [
    "#### PAT-1090"
   ]
  },
  {
   "cell_type": "markdown",
   "id": "7ab0a616",
   "metadata": {},
   "source": [
    "1. 观察到，同**一件货物**可能会与**多件货物不相**容，那么是否可以建立这样一个字典，键为货物的名称，值为货物的**不相容列表**？似乎可行\n",
    "2. 字典建立后，如何按照字典判断要运送的货物里是否有不相容的货物？\n",
    "3. **遍历**待送货物列表，以其值为键，取出不相容货物列表，然后**遍历**不相容列表，判断其值是否在待送货物列表中，如果有，则返回“No”；否则，返回“Yes”。\n",
    "4. 不相容列表可以尝试改为**集合**，这样可以更高效地判断是否存在不相容项，集合的交运算。"
   ]
  },
  {
   "cell_type": "code",
   "execution_count": null,
   "id": "03d67284",
   "metadata": {},
   "outputs": [],
   "source": [
    "# 不相容列表\n",
    "N, M = map(int, input().split())\n",
    "warning = {}\n",
    "for i in range(N):\n",
    "    a, b = input().split()\n",
    "    if a in warning:\n",
    "        warning[a].append(b)\n",
    "    else:\n",
    "        warning[a] = [b]\n",
    "\n",
    "    if b in warning:\n",
    "        warning[b].append(a)\n",
    "    else:\n",
    "        warning[b] = [a]\n",
    "\n",
    "\n",
    "for i in range(M):                      # 这层循环将会逐行读入待查货物\n",
    "    input_str = list(input().split())\n",
    "    for j in input_str[1:]:             # 这层循环将会对每个货物逐个判断，判断它是否存于warning字典中\n",
    "        found = False                   # 标记是否找到了匹配的警告词      \n",
    "        if j in warning:\n",
    "            for k in warning[j]:        # 这一层循环逐个警告词判断是否存在于输入的货物中\n",
    "                if k in input_str[1:]:\n",
    "                    print('No')\n",
    "                    found = True        # 找到了匹配的警告词，跳出循环，并将found标记为True\n",
    "                    break\n",
    "        if found:                       # 如果找到了匹配的警告词，跳出第二层循环  \n",
    "            break\n",
    "    else:                               # for...else语句，即for循环正常结束，则执行else语句\n",
    "        print('Yes')        "
   ]
  },
  {
   "cell_type": "code",
   "execution_count": null,
   "id": "a82e6caf",
   "metadata": {},
   "outputs": [],
   "source": [
    "# 不相容集合\n",
    "N, M = map(int, input().split())\n",
    "warning = set()\n",
    "for i in range(N):\n",
    "    a, b = input().split()\n",
    "    if a in warning:\n",
    "        warning[a].append(b)\n",
    "    else:\n",
    "        warning[a] = [b]\n",
    "\n",
    "    if b in warning:\n",
    "        warning[b].append(a)\n",
    "    else:\n",
    "        warning[b] = [a]\n",
    "\n",
    "\n",
    "for i in range(M):                      # 这层循环将会逐行读入待查货物\n",
    "    input_str = list(input().split())\n",
    "    for j in input_str[1:]:             # 这层循环将会对每个货物逐个判断，判断它是否存于warning字典中\n",
    "        found = False                   # 标记是否找到了匹配的警告词      \n",
    "        if j in warning:\n",
    "            for k in warning[j]:        # 这一层循环逐个警告词判断是否存在于输入的货物中\n",
    "                if k in input_str[1:]:\n",
    "                    print('No')\n",
    "                    found = True        # 找到了匹配的警告词，跳出循环，并将found标记为True\n",
    "                    break\n",
    "        if found:                       # 如果找到了匹配的警告词，跳出第二层循环  \n",
    "            break\n",
    "    else:                               # for...else语句，即for循环正常结束，则执行else语句\n",
    "        print('Yes')  "
   ]
  },
  {
   "cell_type": "code",
   "execution_count": null,
   "id": "69043588",
   "metadata": {},
   "outputs": [],
   "source": [
    "# 集合实现（新增单元）：使用 set 存储不相容关系，查询 O(1) 判断\n",
    "# 输入：\n",
    "#   第1行：N M\n",
    "#   接下来的 N 行：每行两个货物名，表示不相容\n",
    "#   随后 M 行：每行形如 \"k item1 item2 ... itemk\"\n",
    "# 输出：每行查询分别输出 Yes/No\n",
    "\n",
    "N, M = map(int, input().split())\n",
    "\n",
    "# 统一将不相容对按 (min, max) 形式存储，避免顺序影响\n",
    "bad = set()\n",
    "for _ in range(N):\n",
    "    a, b = input().split()\n",
    "    if a > b:\n",
    "        a, b = b, a\n",
    "    bad.add((a, b))\n",
    "\n",
    "for _ in range(M):\n",
    "    parts = input().split()\n",
    "    items = parts[1:]  # 跳过数量 k\n",
    "    # 去重，避免同一货物重复导致无意义比较\n",
    "    uniq = list(set(items))\n",
    "\n",
    "    ok = True\n",
    "    L = len(uniq)\n",
    "    for i in range(L):\n",
    "        for j in range(i + 1, L):\n",
    "            x, y = uniq[i], uniq[j]\n",
    "            if x > y:\n",
    "                x, y = y, x\n",
    "            if (x, y) in bad:\n",
    "                print('No')\n",
    "                ok = False\n",
    "                break\n",
    "        if not ok:\n",
    "            break\n",
    "    if ok:\n",
    "        print('Yes')"
   ]
  }
 ],
 "metadata": {
  "kernelspec": {
   "display_name": "base",
   "language": "python",
   "name": "python3"
  },
  "language_info": {
   "codemirror_mode": {
    "name": "ipython",
    "version": 3
   },
   "file_extension": ".py",
   "mimetype": "text/x-python",
   "name": "python",
   "nbconvert_exporter": "python",
   "pygments_lexer": "ipython3",
   "version": "3.12.4"
  }
 },
 "nbformat": 4,
 "nbformat_minor": 5
}
