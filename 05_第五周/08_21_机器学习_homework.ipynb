{
 "cells": [
  {
   "cell_type": "markdown",
   "id": "cfa66bf1",
   "metadata": {},
   "source": [
    "#### PAT-1036"
   ]
  },
  {
   "cell_type": "markdown",
   "id": "a37e8250",
   "metadata": {},
   "source": [
    "1. 用给定的字符打印一个正方形\n",
    "2. 注意到行间隔比列间隔小，要求行数是列数的50%，要求四舍五入，但观察到行数不整除的情况下，**都是向前进位**，so，不需要使用round()函数\n",
    "    ```python\n",
    "    if N%2 == 0:\n",
    "        row = N//2\n",
    "    else:\n",
    "        row = N//2 + 1\n",
    "    ```\n",
    "3. 注意到**首尾行**要打满，但中间行只有**行首行尾**需要打印\n",
    "    ```python\n",
    "    for i in range(row):\n",
    "        if i == 0 or i == row-1:\n",
    "            print(symbol * N)\n",
    "        else:\n",
    "            print(symbol +' ' * (N-2) + symbol)\n",
    "    ```"
   ]
  },
  {
   "cell_type": "code",
   "execution_count": 3,
   "id": "c536b6a8",
   "metadata": {},
   "outputs": [
    {
     "name": "stdout",
     "output_type": "stream",
     "text": [
      "aaaaaaaaaaa\n",
      "a         a\n",
      "a         a\n",
      "a         a\n",
      "a         a\n",
      "aaaaaaaaaaa\n"
     ]
    }
   ],
   "source": [
    "N, symbol = input().split()\n",
    "N = int(N)\n",
    "if N%2 == 0:\n",
    "    row = N//2\n",
    "else:\n",
    "    row = N//2 + 1\n",
    "\n",
    "for i in range(row):\n",
    "    if i == 0 or i == row-1:\n",
    "        print(symbol * N)\n",
    "    else:\n",
    "        print(symbol +' ' * (N-2) + symbol)"
   ]
  },
  {
   "cell_type": "markdown",
   "id": "5ce5eb25",
   "metadata": {},
   "source": [
    "#### PAT-1082"
   ]
  },
  {
   "cell_type": "markdown",
   "id": "7f8fd006",
   "metadata": {},
   "source": [
    "1. 坐标内两点间的距离计算公式：\n",
    "$$d=\\sqrt{(x_2-x_1)^2+(y_2-y_1)^2}$$\n",
    "2. 要求**一行内输出**得分最高者（）和最低者（）的**编号**，中间用空格隔开。\n",
    "3. 想到可以使用**字典**来存储每个人的得分，然后根据字典的键值对进行排序，输出第一和倒一的键值对的**键值**，想按分数拿到key，可以用下面的方法。\n",
    "    ```python\n",
    "    scores = {'A': 90, 'B': 80, 'C': 70, 'D': 60}\n",
    "    # max()函数遍历scores字典，max()拿到的实际上是键值对的键，scores.get()方法获取每个键对应的值，然后交给key参数进行排序\n",
    "    max_k = max(scores, key=scores.get) \n",
    "    min_k = min(scores, key=scores.get)\n",
    "    print(max_s, min_s)\n",
    "    ```\n",
    "4. 又想到可以用`max_s`和`min_s`变量直接记录当前最大距离和最小距离，最后可以直接输出，但需要注意，**max_s是菜鸟，min_s是高手**。"
   ]
  },
  {
   "cell_type": "code",
   "execution_count": null,
   "id": "3d380c92",
   "metadata": {},
   "outputs": [],
   "source": [
    "# 变量存储\n",
    "N = int(input())\n",
    "max_s = -1\n",
    "min_s = -1\n",
    "cai = ''\n",
    "top1 = ''\n",
    "for _ in range(N):\n",
    "    num, x, y = input().split()\n",
    "    x = int(x)\n",
    "    y = int(y)\n",
    "    distance = (x ** 2 + y ** 2) ** 0.5\n",
    "    if distance > max_s:\n",
    "        max_s = distance\n",
    "        cai = num\n",
    "    if distance < min_s or min_s == -1:\n",
    "        min_s = distance\n",
    "        top1 = num\n",
    "print(top1, cai)\n"
   ]
  },
  {
   "cell_type": "code",
   "execution_count": null,
   "id": "f6143e63",
   "metadata": {},
   "outputs": [],
   "source": [
    "# 字典存储\n",
    "N = int(input())\n",
    "data = {}\n",
    "\n",
    "def distance(x, y):\n",
    "    # 不开方，效果相同，避免浮点数精度困扰\n",
    "    return (x**2 + y**2)\n",
    "\n",
    "for i in range(N):\n",
    "    num, x, y = input().split()\n",
    "    x = int(x)\n",
    "    y = int(y)\n",
    "    if num not in data:\n",
    "        data[num] = distance(x, y)\n",
    "\n",
    "# 找出值最大和最小的键\n",
    "loser = max(data, key=data.get)\n",
    "winner = min(data, key=data.get)\n",
    "\n",
    "print(winner, loser)"
   ]
  },
  {
   "cell_type": "markdown",
   "id": "37bf06f3",
   "metadata": {},
   "source": [
    "#### PAT-1090"
   ]
  },
  {
   "cell_type": "markdown",
   "id": "7ab0a616",
   "metadata": {},
   "source": [
    "1. 观察到，同**一件货物**可能会与**多件货物不相**容，那么是否可以建立这样一个字典，键为货物的名称，值为货物的**不相容列表**？似乎可行\n",
    "2. 字典建立后，如何按照字典判断要运送的货物里是否有不相容的货物？\n",
    "3. **遍历**待送货物列表，以其值为键，取出不相容货物列表，然后**遍历**不相容列表，判断其值是否在待送货物列表中，如果有，则返回“No”；否则，返回“Yes”。"
   ]
  },
  {
   "cell_type": "code",
   "execution_count": null,
   "id": "03d67284",
   "metadata": {},
   "outputs": [],
   "source": [
    "N, M = map(int, input().split())\n",
    "warning = {}\n",
    "for i in range(N):\n",
    "    a, b = input().split()\n",
    "    if a in warning:\n",
    "        warning[a].append(b)\n",
    "    else:\n",
    "        warning[a] = [b]\n",
    "\n",
    "    if b in warning:\n",
    "        warning[b].append(a)\n",
    "    else:\n",
    "        warning[b] = [a]\n",
    "\n",
    "\n",
    "for i in range(M):                      # 这层循环将会逐行读入待查货物\n",
    "    input_str = list(input().split())\n",
    "    for j in input_str[1:]:             # 这层循环将会对每个货物逐个判断，判断它是否存于warning字典中\n",
    "        found = False                   # 标记是否找到了匹配的警告词      \n",
    "        if j in warning:\n",
    "            for k in warning[j]:        # 这一层循环逐个警告词判断是否存在于输入的货物中\n",
    "                if k in input_str[1:]:\n",
    "                    print('No')\n",
    "                    found = True        # 找到了匹配的警告词，跳出循环，并将found标记为True\n",
    "                    break\n",
    "        if found:                       # 如果找到了匹配的警告词，跳出第二层循环  \n",
    "            break\n",
    "    else:                               # for...else语句，即for循环正常结束，则执行else语句\n",
    "        print('Yes')        "
   ]
  }
 ],
 "metadata": {
  "kernelspec": {
   "display_name": "base",
   "language": "python",
   "name": "python3"
  },
  "language_info": {
   "codemirror_mode": {
    "name": "ipython",
    "version": 3
   },
   "file_extension": ".py",
   "mimetype": "text/x-python",
   "name": "python",
   "nbconvert_exporter": "python",
   "pygments_lexer": "ipython3",
   "version": "3.12.4"
  }
 },
 "nbformat": 4,
 "nbformat_minor": 5
}
