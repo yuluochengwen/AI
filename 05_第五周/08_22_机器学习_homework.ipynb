{
 "cells": [
  {
   "cell_type": "markdown",
   "id": "c53ed16a",
   "metadata": {},
   "source": [
    "#### PAT-1091"
   ]
  },
  {
   "cell_type": "code",
   "execution_count": 14,
   "id": "32fac3b5",
   "metadata": {},
   "outputs": [
    {
     "name": "stdout",
     "output_type": "stream",
     "text": [
      "3 25392\n",
      "1 25\n",
      "No\n"
     ]
    }
   ],
   "source": [
    "M = int(input())\n",
    "k = list(input().split())\n",
    "for j in range(M):\n",
    "    K = k[j]\n",
    "    for i in range(1, 10):\n",
    "        temp = i * int(K)**2\n",
    "        temp = str(temp)\n",
    "        if K == temp[len(temp)-len(K):]:\n",
    "            print(i,end=' ')\n",
    "            print(temp)\n",
    "            break\n",
    "    else:\n",
    "        print('No')"
   ]
  },
  {
   "cell_type": "code",
   "execution_count": null,
   "id": "d14dd7ad",
   "metadata": {},
   "outputs": [],
   "source": [
    "# PAT-1091 优化版本\n",
    "# 优化点：\n",
    "# 1. 减少重复的字符串转换和切片操作\n",
    "# 2. 预计算 K 的长度和数值，避免重复转换\n",
    "# 3. 使用更直观的后缀匹配逻辑\n",
    "\n",
    "M = int(input())\n",
    "k_list = input().split()\n",
    "\n",
    "for K in k_list:\n",
    "    K_len = len(K)\n",
    "    K_int = int(K)\n",
    "    K_squared = K_int * K_int\n",
    "    \n",
    "    found = False\n",
    "    for i in range(1, 10):\n",
    "        product = i * K_squared\n",
    "        product_str = str(product)\n",
    "        \n",
    "        # 检查 product_str 是否以 K 结尾\n",
    "        if len(product_str) >= K_len and product_str.endswith(K):\n",
    "            print(f\"{i} {product_str}\")\n",
    "            found = True\n",
    "            break\n",
    "    \n",
    "    if not found:\n",
    "        print('No')"
   ]
  },
  {
   "cell_type": "markdown",
   "id": "20c73be9",
   "metadata": {},
   "source": [
    "#### PAT-1092\n",
    "1. numpy数组的使用\n",
    "2. flatnonzero()函数用于返回非零元素的索引\n",
    "3. `idx_desc = np.argsort(-total, kind='stable')`\n",
    "4. **PAT无法使用第三方包，numpy属于第三方包**"
   ]
  },
  {
   "cell_type": "code",
   "execution_count": null,
   "id": "c6c798e2",
   "metadata": {},
   "outputs": [],
   "source": [
    "import numpy as np\n",
    "N, M = map(int, input().split())\n",
    "total = np.zeros(N)\n",
    "for i in range(M):\n",
    "    #temp = np.array(list(map(int, input().split())))\n",
    "    temp = np.fromstring(input(), dtype=int, sep=' ')  # 简洁高效的解析：直接从字符串按空格读取为整型数组\n",
    "    total += temp\n",
    "\n",
    "idx_desc = np.argsort(-total, kind='stable')  # 降序且稳定,稳定就是按照出现的先后返回索引\n",
    "idx_max = np.flatnonzero(total == total.max())  # 等价于 np.where(total == total.max())[0]\n",
    "print(total.max())\n",
    "print(' '.join(map(str, idx_max + 1)))"
   ]
  },
  {
   "cell_type": "code",
   "execution_count": null,
   "id": "c1442220",
   "metadata": {},
   "outputs": [],
   "source": [
    "N, M = map(int, input().split())\n",
    "total = [0] * N\n",
    "\n",
    "for i in range(M):\n",
    "    temp = list(map(int, input().split()))\n",
    "    for j in range(N):\n",
    "        total[j] += temp[j]\n",
    "\n",
    "max_val = max(total)\n",
    "max_indices = [i + 1 for i, val in enumerate(total) if val == max_val]\n",
    "\n",
    "print(max_val)\n",
    "print(' '.join(map(str, max_indices)))"
   ]
  },
  {
   "cell_type": "markdown",
   "id": "713d0e86",
   "metadata": {},
   "source": [
    "#### PAT-1093\n",
    "1. 在这个代码中，`dict.fromkeys(input_string)` 会创建一个字典，其中键是字符串中的字符，值是 None。由于**字典保证了键的插入顺序（python3.7以上才支持）**，因此可以保持字符原有的顺序。最后，通过 `''.join(...) `将字典的键连接成一个去重后的字符串。\n",
    "\n"
   ]
  },
  {
   "cell_type": "code",
   "execution_count": 1,
   "id": "c7605849",
   "metadata": {},
   "outputs": [
    {
     "name": "stdout",
     "output_type": "stream",
     "text": [
      "This ampletowyu_Hrk\n"
     ]
    }
   ],
   "source": [
    "A = input()\n",
    "B = input()\n",
    "res = ''.join(dict.fromkeys(A+B))\n",
    "print(res)"
   ]
  }
 ],
 "metadata": {
  "kernelspec": {
   "display_name": "base",
   "language": "python",
   "name": "python3"
  },
  "language_info": {
   "codemirror_mode": {
    "name": "ipython",
    "version": 3
   },
   "file_extension": ".py",
   "mimetype": "text/x-python",
   "name": "python",
   "nbconvert_exporter": "python",
   "pygments_lexer": "ipython3",
   "version": "3.12.4"
  }
 },
 "nbformat": 4,
 "nbformat_minor": 5
}
