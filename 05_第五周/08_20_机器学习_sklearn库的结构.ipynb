{
 "cells": [
  {
   "cell_type": "markdown",
   "id": "6e2207d5",
   "metadata": {},
   "source": [
    "### sklearn库的结构"
   ]
  },
  {
   "cell_type": "markdown",
   "id": "4d25eadc",
   "metadata": {},
   "source": [
    "#### 按功能模块分类"
   ]
  },
  {
   "cell_type": "markdown",
   "id": "dea0965b",
   "metadata": {},
   "source": [
    "##### 核心模块"
   ]
  },
  {
   "cell_type": "markdown",
   "id": "a89bc696",
   "metadata": {},
   "source": [
    "1. sklearn.model_selection模块\n",
    "    - 该模块用于模型选择、训练和测试数据集划分。\n",
    "    - 包括：\n",
    "        - train_test_split()：用于将数据集划分为训练集和测试集。\n",
    "        - cross_val_score()：用于交叉验证，评估模型的泛化能力。\n",
    "        - GridSearchCV()：用于网格搜索，自动搜索最优参数组合。\n",
    "        - RandomizedSearchCV()：用于随机搜索，自动搜索最优参数组合。\n",
    "2. sklearn.datasets模块\n",
    "    - 该模块用于加载常用数据集。\n",
    "    - 包括：\n",
    "        - load_iris()：加载鸢尾花数据集。\n",
    "        - load_diabetes()：加载糖尿病数据集。\n",
    "        - load_digits()：加载手写数字数据集。\n",
    "        - make_moons()：生成半月形数据集。\n",
    "        - make_circles()：生成圆形数据集。\n",
    "        - make_classification()：生成二分类数据集。\n",
    "        - make_regression()：生成回归数据集。\n",
    "3. sklearn.preprocessing模块\n",
    "    - 该模块用于数据预处理。\n",
    "    - 包括：\n",
    "        - StandardScaler()：用于标准化数据。\n",
    "        - MinMaxScaler()：用于归一化数据。\n",
    "        - MaxAbsScaler()：用于将数据映射到[-1,1]范围。\n",
    "        - RobustScaler()：用于将数据映射到[0,1]范围。\n",
    "        - Normalizer()：用于将数据映射到单位范数。\n",
    "        - Binarizer()：用于二值化数据。\n",
    "        - PolynomialFeatures()：用于多项式特征转换。\n",
    "        - FunctionTransformer()：用于自定义函数转换。\n",
    "4. sklearn.feature_extraction模块\n",
    "    - 该模块用于特征提取。\n",
    "    - 包括：\n",
    "        - DictVectorizer()：用于将字典转换为向量。\n",
    "        - FeatureHasher()：用于将文本数据转换为向量。\n",
    "        - CountVectorizer()：用于将文本数据转换为词频矩阵。\n",
    "        - TfidfTransformer()：用于将词频矩阵转换为TF-IDF矩阵。\n",
    "        - TfidfVectorizer()：用于将文本数据转换为TF-IDF矩阵。\n",
    "5. sklearn.decomposition模块\n",
    "    - 该模块用于降维。\n",
    "    - 包括：\n",
    "        - PCA()：用于主成分分析。\n",
    "        - IncrementalPCA()：用于增量主成分分析。\n",
    "        - TruncatedSVD()：用于奇异值分解。\n",
    "        - KernelPCA()：用于核主成分分析。\n",
    "        - SparsePCA()：用于稀疏主成分分析。\n",
    "        - MiniBatchSparsePCA()：用于稀疏主成分分析的小批量版本。\n",
    "6. sklearn.impute模块\n",
    "    - 该模块用于缺失值处理。\n",
    "    - 包括：\n",
    "        - SimpleImputer()：用于用均值、中位数或众数替换缺失值。\n",
    "        - KNNImputer()：用于用K近邻法填补缺失值。\n",
    "        - MissingIndicator()：用于标记缺失值。\n",
    "8. sklearn.compose模块\n",
    "    - 该模块用于数据集的组合。\n",
    "    - 包括：\n",
    "        - ColumnTransformer()：用于将多个特征列组合成一个特征向量。\n",
    "        - make_column_transformer()：用于快速创建ColumnTransformer。\n",
    "        \n"
   ]
  },
  {
   "cell_type": "markdown",
   "id": "4ab37952",
   "metadata": {},
   "source": [
    "##### 模型(估计器)模块"
   ]
  },
  {
   "cell_type": "markdown",
   "id": "7a758967",
   "metadata": {},
   "source": [
    "1. sklearn.linear_model模块\n",
    "    - 线性模型\n",
    "    - 包括：\n",
    "        - LinearRegression：线性回归\n",
    "        - Ridge：岭回归\n",
    "        - Lasso：套索回归\n",
    "        - LogisticRegression：逻辑回归\n",
    "2. sklearn.tree模块\n",
    "    - 决策树\n",
    "    - 包括：\n",
    "        - DecisionTreeClassifier：决策树分类器\n",
    "        - DecisionTreeRegressor：决策树回归器\n",
    "3. sklearn.ensemble模块\n",
    "    - 集成学习\n",
    "    - 包括：\n",
    "        - RandomForestClassifier：随机森林分类器\n",
    "        - RandomForestRegressor：随机森林回归器\n",
    "4. sklearn.svm模块\n",
    "    - 支持向量机\n",
    "    - 包括：\n",
    "        - SVC：支持向量分类器\n",
    "        - SVR：支持向量回归器\n",
    "4. sklearn.neighboors模块\n",
    "    - 近邻算法\n",
    "    - 包括：\n",
    "        - KNeighborsClassifier：K近邻分类器\n",
    "        - KNeighborsRegressor：K近邻回归器\n",
    "5. sklearn.cluster模块\n",
    "    - 聚类\n",
    "    - 包括：\n",
    "        - KMeans：K-均值聚类算法\n",
    "6. sklearn.metrics模块\n",
    "    - 评估指标\n",
    "    - 包括：\n",
    "        - accuracy_score：准确率\n",
    "        - precision_score：精确率\n",
    "        - recall_score：召回率\n",
    "        - r2_score：R-平方值\n",
    "        - mean_squared_error：均方误差\n",
    "        - mean_absolute_error：平均绝对误差\n",
    "7. sklearn.pipeline模块\n",
    "    - 管道\n",
    "    - 包括：\n",
    "        - Pipeline：管道\n",
    "\n",
    "        "
   ]
  },
  {
   "cell_type": "markdown",
   "id": "8010fe65",
   "metadata": {},
   "source": [
    "#### 按对象类型划分"
   ]
  },
  {
   "cell_type": "markdown",
   "id": "900fd03d",
   "metadata": {},
   "source": [
    "**sklearn库几乎所有功能都围绕三种核心对象类型构建，它们都遵循统一的 API 接口。**\n",
    "\n",
    "这三个核心对象类型是：\n",
    "\n",
    "1. Estimators（估计器）：\n",
    "    - 任何可以基于数据学习一些参数的对象都叫做估计器。它可能是分类器、回归器、聚类器、转换器（如 PCA）等。\n",
    "    - 用于模型训练和预测的对象，可以被实例化并调用其 `fit()` 方法来训练模型，并调用其 `predict()` 方法来预测目标变量。\n",
    "\n",
    "2. Transformers（转换器）：\n",
    "    - 转换器是一种特殊的估计器，用于将数据从一种形式转换为另一种形式。\n",
    "    - 用于数据预处理的对象，可以被实例化并调用其 `fit_transform()` 方法来拟合和转换数据。\n",
    "\n",
    "3. Predictors（预测器）：\n",
    "    - 预测器是一种特殊的估计器，用于根据输入数据进行预测。\n",
    "    - 用于模型评估和选择的对象，可以被实例化并调用其 `score()` 方法来评估模型的性能。\n"
   ]
  }
 ],
 "metadata": {
  "kernelspec": {
   "display_name": "base",
   "language": "python",
   "name": "python3"
  },
  "language_info": {
   "name": "python",
   "version": "3.12.4"
  }
 },
 "nbformat": 4,
 "nbformat_minor": 5
}
