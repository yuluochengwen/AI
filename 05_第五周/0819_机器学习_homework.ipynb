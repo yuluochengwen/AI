{
 "cells": [
  {
   "cell_type": "markdown",
   "id": "779109c4",
   "metadata": {},
   "source": [
    "#### PAT-1086"
   ]
  },
  {
   "cell_type": "code",
   "execution_count": null,
   "id": "837129a9",
   "metadata": {},
   "outputs": [
    {
     "name": "stdout",
     "output_type": "stream",
     "text": [
      "5\n"
     ]
    }
   ],
   "source": [
    "a, b = input().split()\n",
    "ab = int(a) * int(b)\n",
    "result = int(str(ab)[::-1])\n",
    "print(result)"
   ]
  },
  {
   "cell_type": "markdown",
   "id": "b2706aac",
   "metadata": {},
   "source": [
    "#### PAT-1087"
   ]
  },
  {
   "cell_type": "code",
   "execution_count": 8,
   "id": "261b492f",
   "metadata": {},
   "outputs": [
    {
     "name": "stdout",
     "output_type": "stream",
     "text": [
      "1480\n"
     ]
    }
   ],
   "source": [
    "N = int(input())\n",
    "\n",
    "result = set()\n",
    "\n",
    "for i in range(1,N+1):\n",
    "    temp = i//2 + i//3 + i//5\n",
    "    result.add(temp)\n",
    "\n",
    "print(len(result))"
   ]
  },
  {
   "cell_type": "markdown",
   "id": "6c7e29b4",
   "metadata": {},
   "source": [
    "#### PAT-1015\n"
   ]
  },
  {
   "cell_type": "markdown",
   "id": "d39f50af",
   "metadata": {},
   "source": [
    "![](./data/皇榜.png)"
   ]
  },
  {
   "cell_type": "code",
   "execution_count": null,
   "id": "4acb7a39",
   "metadata": {},
   "outputs": [],
   "source": [
    "def is_pass(scores,L,H):\n",
    "    if scores[1] > L and scores[2] > L:\n",
    "        return True\n",
    "\n",
    "def is_noe_class(scores,L,H):\n",
    "    if scores[1] >= H and scores[2] >= H:\n",
    "        return True\n",
    "\n",
    "def is_two_class(scores,L,H):\n",
    "    if scores[1] >= H and H > scores[2] > L:\n",
    "        return True\n",
    "\n",
    "def is_three_class(scores,L,H):\n",
    "    if H > scores[1] > L and H > scores[2] > L and scores[1] >= scores[2]:\n",
    "        return True\n",
    "\n",
    "\n",
    "if __name__ == '__main__':\n",
    "\n",
    "    one_class = []\n",
    "    two_class = []\n",
    "    three_class = []\n",
    "    four_class = []\n",
    "    N, L, H = map(int, input().split())\n",
    "    scores = list(map(int, input().split()))\n",
    "    for i in range(N-1):\n",
    "        if is_pass(scores,L,H):\n",
    "            if is_noe_class(scores,L,H):\n",
    "                one_class.append(scores)\n",
    "            elif is_two_class(scores,L,H):\n",
    "                two_class.append(scores)\n",
    "            elif is_three_class(scores,L,H):\n",
    "                three_class.append(scores)\n",
    "            else:\n",
    "                four_class.append(scores)\n",
    "\n",
    "    one_class = sorted(one_class, key=lambda x: x[1]+x[2])\n",
    "    two_class = sorted(two_class, key=lambda x: x[1]+x[2])\n",
    "    three_class = sorted(three_class, key=lambda x: x[1]+x[2])\n",
    "    four_class = sorted(four_class, key=lambda x: x[1]+x[2])\n",
    "\n",
    "    for i in one_class:\n",
    "        print(*i)\n",
    "    for i in two_class:\n",
    "        print(*i)\n",
    "    for i in three_class:\n",
    "        print(*i)\n",
    "    for i in four_class:\n",
    "        print(*i)\n",
    "    print(len(one_class)+len(two_class)+len(three_class)+len(four_class))\n",
    "\n",
    "\n",
    "\n"
   ]
  },
  {
   "cell_type": "code",
   "execution_count": null,
   "id": "3a1b7d17",
   "metadata": {},
   "outputs": [],
   "source": [
    "def is_pass(scores, L, H):\n",
    "    \"\"\"判断是否及格：德分和才分都高于最低线L\"\"\"\n",
    "    return scores[1] >= L and scores[2] >= L\n",
    "\n",
    "def is_one_class(scores, L, H):\n",
    "    \"\"\"判断第一类考生：德才均优（都高于H）\"\"\"\n",
    "    return scores[1] >= H and scores[2] >= H\n",
    "\n",
    "def is_two_class(scores, L, H):\n",
    "    \"\"\"判断第二类考生：德优才良（德>=H，H>才>=L）\"\"\"\n",
    "    return scores[1] >= H and L <= scores[2] < H\n",
    "\n",
    "def is_three_class(scores, L, H):\n",
    "    \"\"\"判断第三类考生：德才均良且德优于才（都在L-H之间，且德>=才）\"\"\"\n",
    "    return (L <= scores[1] < H and L <= scores[2] < H and \n",
    "            scores[1] >= scores[2])\n",
    "\n",
    "def custom_sort_key(score):\n",
    "    \"\"\"自定义排序规则：总分降序 -> 德分降序 -> 准考证号升序\"\"\"\n",
    "    total = score[1] + score[2]\n",
    "    return (-total, -score[1], score[0])\n",
    "\n",
    "if __name__ == '__main__':\n",
    "    one_class = []      # 第一类：德才全优\n",
    "    two_class = []      # 第二类：德优才良  \n",
    "    three_class = []    # 第三类：德才均良且德优于才\n",
    "    four_class = []     # 第四类：其他及格考生（德才均过L但才分>德分）\n",
    "\n",
    "    N, L, H = map(int, input().split())\n",
    "\n",
    "    for i in range(N):  # 修复：应该是range(N)而不是range(N-1)\n",
    "        scores = list(map(int, input().split()))\n",
    "        \n",
    "        if is_pass(scores, L, H):\n",
    "            if is_one_class(scores, L, H):\n",
    "                one_class.append(scores)\n",
    "            elif is_two_class(scores, L, H):\n",
    "                two_class.append(scores)\n",
    "            elif is_three_class(scores, L, H):\n",
    "                three_class.append(scores)\n",
    "            else:\n",
    "                # 第四类：德才均过L，但才分高于德分或不符合前三类条件\n",
    "                four_class.append(scores)\n",
    "\n",
    "    # 对每类考生按自定义规则排序\n",
    "    one_class.sort(key=custom_sort_key)\n",
    "    two_class.sort(key=custom_sort_key)\n",
    "    three_class.sort(key=custom_sort_key)\n",
    "    four_class.sort(key=custom_sort_key)\n",
    "    \n",
    "    # 输出总及格人数\n",
    "    total_passed = len(one_class) + len(two_class) + len(three_class) + len(four_class)\n",
    "    print(total_passed)\n",
    "    \n",
    "    # 按类别输出考生信息\n",
    "    for student in one_class:\n",
    "        print(f\"{student[0]} {student[1]} {student[2]}\")\n",
    "    for student in two_class:\n",
    "        print(f\"{student[0]} {student[1]} {student[2]}\")\n",
    "    for student in three_class:\n",
    "        print(f\"{student[0]} {student[1]} {student[2]}\")\n",
    "    for student in four_class:\n",
    "        print(f\"{student[0]} {student[1]} {student[2]}\")"
   ]
  }
 ],
 "metadata": {
  "kernelspec": {
   "display_name": "base",
   "language": "python",
   "name": "python3"
  },
  "language_info": {
   "codemirror_mode": {
    "name": "ipython",
    "version": 3
   },
   "file_extension": ".py",
   "mimetype": "text/x-python",
   "name": "python",
   "nbconvert_exporter": "python",
   "pygments_lexer": "ipython3",
   "version": "3.12.4"
  }
 },
 "nbformat": 4,
 "nbformat_minor": 5
}
