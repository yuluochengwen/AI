{
 "cells": [
  {
   "cell_type": "markdown",
   "id": "779109c4",
   "metadata": {},
   "source": [
    "#### PAT-1086"
   ]
  },
  {
   "cell_type": "code",
   "execution_count": null,
   "id": "837129a9",
   "metadata": {},
   "outputs": [
    {
     "name": "stdout",
     "output_type": "stream",
     "text": [
      "5\n"
     ]
    }
   ],
   "source": [
    "a, b = input().split()\n",
    "ab = int(a) * int(b)\n",
    "result = int(str(ab)[::-1])\n",
    "print(result)"
   ]
  },
  {
   "cell_type": "markdown",
   "id": "b2706aac",
   "metadata": {},
   "source": [
    "#### PAT-1087"
   ]
  },
  {
   "cell_type": "code",
   "execution_count": 8,
   "id": "261b492f",
   "metadata": {},
   "outputs": [
    {
     "name": "stdout",
     "output_type": "stream",
     "text": [
      "1480\n"
     ]
    }
   ],
   "source": [
    "N = int(input())\n",
    "\n",
    "result = set()\n",
    "\n",
    "for i in range(1,N+1):\n",
    "    temp = i//2 + i//3 + i//5\n",
    "    result.add(temp)\n",
    "\n",
    "print(len(result))"
   ]
  },
  {
   "cell_type": "markdown",
   "id": "6c7e29b4",
   "metadata": {},
   "source": [
    "#### PAT-1015\n"
   ]
  },
  {
   "cell_type": "markdown",
   "id": "d39f50af",
   "metadata": {},
   "source": [
    "![](./data/皇榜.png)"
   ]
  },
  {
   "cell_type": "code",
   "execution_count": null,
   "id": "2c39193a",
   "metadata": {},
   "outputs": [],
   "source": [
    "def main():\n",
    "    import sys\n",
    "    data = sys.stdin.read().splitlines()\n",
    "    if not data:\n",
    "        print(0)\n",
    "        return\n",
    "        \n",
    "    first_line = data[0].split()\n",
    "    n = int(first_line[0])\n",
    "    L = int(first_line[1])\n",
    "    H = int(first_line[2])\n",
    "    \n",
    "    students = []\n",
    "    for i in range(1, n+1):\n",
    "        parts = data[i].split()\n",
    "        if len(parts) < 3:\n",
    "            continue\n",
    "        id_num = int(parts[0])\n",
    "        de = int(parts[1])\n",
    "        cai = int(parts[2])\n",
    "        students.append((id_num, de, cai))\n",
    "        \n",
    "    type1 = []\n",
    "    type2 = []\n",
    "    type3 = []\n",
    "    type4 = []\n",
    "    \n",
    "    for stu in students:\n",
    "        id_num, de, cai = stu\n",
    "        if de < L or cai < L:\n",
    "            continue\n",
    "        if de >= H and cai >= H:\n",
    "            type1.append(stu)\n",
    "        elif de >= H and cai < H:\n",
    "            type2.append(stu)\n",
    "        elif de < H and cai < H and de >= cai:\n",
    "            type3.append(stu)\n",
    "        else:\n",
    "            type4.append(stu)\n",
    "            \n",
    "    def custom_sort(stu):\n",
    "        id_num, de, cai = stu\n",
    "        total = de + cai\n",
    "        return (-total, -de, id_num)\n",
    "        \n",
    "    type1_sorted = sorted(type1, key=custom_sort)\n",
    "    type2_sorted = sorted(type2, key=custom_sort)\n",
    "    type3_sorted = sorted(type3, key=custom_sort)\n",
    "    type4_sorted = sorted(type4, key=custom_sort)\n",
    "    \n",
    "    total_students = len(type1_sorted) + len(type2_sorted) + len(type3_sorted) + len(type4_sorted)\n",
    "    result = [str(total_students)]\n",
    "    for stu in type1_sorted:\n",
    "        result.append(f\"{stu[0]} {stu[1]} {stu[2]}\")\n",
    "    for stu in type2_sorted:\n",
    "        result.append(f\"{stu[0]} {stu[1]} {stu[2]}\")\n",
    "    for stu in type3_sorted:\n",
    "        result.append(f\"{stu[0]} {stu[1]} {stu[2]}\")\n",
    "    for stu in type4_sorted:\n",
    "        result.append(f\"{stu[0]} {stu[1]} {stu[2]}\")\n",
    "        \n",
    "    print(\"\\n\".join(result))\n",
    "\n",
    "if __name__ == \"__main__\":\n",
    "    main()"
   ]
  }
 ],
 "metadata": {
  "kernelspec": {
   "display_name": "base",
   "language": "python",
   "name": "python3"
  },
  "language_info": {
   "codemirror_mode": {
    "name": "ipython",
    "version": 3
   },
   "file_extension": ".py",
   "mimetype": "text/x-python",
   "name": "python",
   "nbconvert_exporter": "python",
   "pygments_lexer": "ipython3",
   "version": "3.12.4"
  }
 },
 "nbformat": 4,
 "nbformat_minor": 5
}
