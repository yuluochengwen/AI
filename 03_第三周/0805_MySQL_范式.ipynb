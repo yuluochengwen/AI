{
 "cells": [
  {
   "cell_type": "markdown",
   "id": "4ecb421c",
   "metadata": {},
   "source": [
    "#### 第一范式（1NF）\n",
    "1. 数据库表的每一列都是不可分割的原子数据项。"
   ]
  },
  {
   "cell_type": "markdown",
   "id": "77e11173",
   "metadata": {},
   "source": [
    "#### 第二范式（2NF）\n",
    "1. 第二范式（2NF）是对第一范式的拓展，消除了非主属性对主键的部分函数依赖。\n",
    "2. 第二范式的要求是：\n",
    "   - 非主属性不能有传递依赖。\n",
    "   - 任何非主属性不能对主键子集依赖。"
   ]
  },
  {
   "cell_type": "markdown",
   "id": "15c02d7d",
   "metadata": {},
   "source": [
    "#### 第三范式（3NF）\n",
    "1. 第三范式（3NF）是对第二范式的拓展，消除了非主属性对主键的传递依赖。\n",
    "2. 第三范式的要求是：\n",
    "   - 非主属性不能有传递依赖。\n",
    "   - 任何非主属性不能对主键子集依赖。\n",
    "   - 任何非主属性不能对主键超集依赖。"
   ]
  }
 ],
 "metadata": {
  "kernelspec": {
   "display_name": "base",
   "language": "python",
   "name": "python3"
  },
  "language_info": {
   "name": "python",
   "version": "3.12.4"
  }
 },
 "nbformat": 4,
 "nbformat_minor": 5
}
