{
 "cells": [
  {
   "cell_type": "markdown",
   "id": "473d5980",
   "metadata": {},
   "source": [
    "#### E-R图\n"
   ]
  }
 ],
 "metadata": {
  "kernelspec": {
   "display_name": "base",
   "language": "python",
   "name": "python3"
  },
  "language_info": {
   "name": "python",
   "version": "3.12.4"
  }
 },
 "nbformat": 4,
 "nbformat_minor": 5
}
