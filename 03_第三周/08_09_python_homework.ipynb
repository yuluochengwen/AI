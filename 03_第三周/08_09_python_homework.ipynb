{
 "cells": [
  {
   "cell_type": "markdown",
   "id": "5e2c8175",
   "metadata": {},
   "source": [
    "#### PAT-1027 打印沙漏"
   ]
  },
  {
   "cell_type": "markdown",
   "id": "d38d0e34",
   "metadata": {},
   "source": [
    "点数    行数    N数      最大行的点数\n",
    "1       1       1       1\n",
    "7       3       2       3\n",
    "17      5       3       5\n",
    "31      7       4       7\n",
    "49\n",
    "点数：An = 2 * n^2 - 1\n",
    "行数：Ln = 2 * n - 1"
   ]
  },
  {
   "cell_type": "code",
   "execution_count": 55,
   "id": "0bb2786c",
   "metadata": {},
   "outputs": [
    {
     "name": "stdout",
     "output_type": "stream",
     "text": [
      "*****\n",
      " ***\n",
      "  *\n",
      " ***\n",
      "*****\n",
      "0\n"
     ]
    }
   ],
   "source": [
    "import math\n",
    "num,symbol  = input().split()\n",
    "num = int(num)\n",
    "n = int(math.sqrt((num+1)/2))\n",
    "\n",
    "for i in range(n):\n",
    "    print(' ' * i + symbol * (2 * (n - i) - 1))\n",
    "\n",
    "for i in range(2, n + 1):\n",
    "    print(' ' * (n - i) + symbol * (2 * i - 1))\n",
    "\n",
    "print(num - (2 * n ** 2 - 1))    \n"
   ]
  },
  {
   "cell_type": "code",
   "execution_count": null,
   "id": "908d063c",
   "metadata": {},
   "outputs": [
    {
     "name": "stdout",
     "output_type": "stream",
     "text": [
      "['49', '*']\n",
      "*******\n",
      " *****\n",
      "  ***\n",
      "   *\n",
      "  ***\n",
      " *****\n",
      "*******\n",
      "18\n"
     ]
    }
   ],
   "source": [
    "# 小雪的沙漏\n",
    "import math\n",
    "a=input().split()\n",
    "print(a)\n",
    "N=int(a[0])\n",
    "row_1=(N+1)/2\n",
    "row_2 = int(math.sqrt(row_1)+2)     ###这里+2\n",
    "char=a[1]\n",
    "# 确定沙漏最宽行的宽度（最大符号数）\n",
    "max_width = row_2#\n",
    "# 打印上半部分（从最大符号数递减到1）\n",
    "for i in range(max_width, 0, -2):\n",
    "    # 计算左侧空格数：(最大宽度 - 当前行符号数) // 2\n",
    "    spaces = (max_width - i) // 2\n",
    "    print(' ' * spaces + char * i)\n",
    "# for i in range(row_2,0,-2):\n",
    "#     print (i*'*')\n",
    "# 确定沙漏最宽行的宽度（最大符号数）\n",
    "# 打印上半部分（从最大符号数递减到1）\n",
    "for j in range(3,max_width+2,2):\n",
    "    spaces = (max_width - j) // 2\n",
    "    print(' ' * spaces + char * j)\n",
    "# for j in range(3,row_2+2,2):\n",
    "#     print(j*'*')\n",
    "u=(max_width+1)/2\n",
    "U=2*u**2-1\n",
    "\n",
    "#print(u)\n",
    "print(int(N-U))"
   ]
  },
  {
   "cell_type": "markdown",
   "id": "3685536b",
   "metadata": {},
   "source": [
    "#### PAT-1024 科学计数法\n"
   ]
  },
  {
   "cell_type": "code",
   "execution_count": null,
   "id": "34b5bf57",
   "metadata": {},
   "outputs": [
    {
     "name": "stdout",
     "output_type": "stream",
     "text": [
      "-12\n"
     ]
    }
   ],
   "source": [
    "input_str = list(input())\n",
    "# 截取正负号\n",
    "pm = input_str.pop(0)\n",
    "if pm == '+':\n",
    "    pm = ''\n",
    "# 截取基数部分\n",
    "num = []\n",
    "for i in input_str:\n",
    "    if i != 'E':\n",
    "        num += i\n",
    "    else:\n",
    "        break\n",
    "num.remove('.')\n",
    "\n",
    "#precision\n",
    "# 截取指数部分\n",
    "temp = input_str[input_str.index('E') + 1:]\n",
    "exponential = int(''.join(temp))\n",
    "\n",
    "# 如果指数为0，直接输出基数\n",
    "if exponential == 0:\n",
    "    num.insert(1, '.')\n",
    "    print(pm + ''.join(num))\n",
    "else:\n",
    "    # 向基数里插入小数点\n",
    "    if exponential > 0:\n",
    "        if exponential < len(num)-1:        #这里的边界值要注意\n",
    "            num.insert(exponential+1, '.')\n",
    "        else:\n",
    "            fill_num = exponential - len(num) + 1\n",
    "            for i in range(fill_num):\n",
    "                num.append('0')\n",
    "\n",
    "    else:\n",
    "        for i in range(abs(exponential)):\n",
    "            num.insert(0, '0')\n",
    "        num.insert(1, '.')\n",
    "\n",
    "    print(pm + ''.join(num))\n",
    "\n"
   ]
  },
  {
   "cell_type": "code",
   "execution_count": null,
   "id": "8f1624d5",
   "metadata": {},
   "outputs": [],
   "source": [
    "def scientific_to_normal(s):\n",
    "    # 分割基数和指数\n",
    "    if 'E' not in s:\n",
    "        return s  # 非科学计数法直接返回\n",
    "    \n",
    "    base_part, exp_part = s.split('E')\n",
    "    sign = base_part[0] if base_part[0] in '+-' else ''\n",
    "    base_digits = base_part.lstrip('+-').replace('.', '')\n",
    "    exp = int(exp_part)\n",
    "    \n",
    "    # 计算小数点移动后的位置\n",
    "    if '.' in base_part:\n",
    "        dot_pos = base_part.find('.') - (1 if sign else 0)\n",
    "        new_dot_pos = dot_pos + exp\n",
    "    else:\n",
    "        new_dot_pos = len(base_digits) + exp\n",
    "    \n",
    "    # 构造普通数字\n",
    "    if new_dot_pos <= 0:\n",
    "        # 指数为负，补零\n",
    "        normal = '0.' + '0' * (-new_dot_pos) + base_digits\n",
    "    elif new_dot_pos >= len(base_digits):\n",
    "        # 指数为正，补零\n",
    "        normal = base_digits + '0' * (new_dot_pos - len(base_digits))\n",
    "    else:\n",
    "        # 插入小数点\n",
    "        normal = base_digits[:new_dot_pos] + '.' + base_digits[new_dot_pos:]\n",
    "    \n",
    "    # 保留末尾零\n",
    "    if '.' in normal:\n",
    "        # 移除无效的末尾零（可选）\n",
    "        # normal = normal.rstrip('0').rstrip('.') if '.' in normal else normal\n",
    "        pass\n",
    "    \n",
    "    return sign + normal\n",
    "\n",
    "# 测试用例\n",
    "print(scientific_to_normal(\"+1.23400E-03\"))  # 输出: 0.00123400\n",
    "print(scientific_to_normal(\"-1.2E+10\"))      # 输出: -12000000000"
   ]
  },
  {
   "cell_type": "markdown",
   "id": "802fed64",
   "metadata": {},
   "source": [
    "#### PAT-1030 完美数列\n",
    "\n",
    "10 10\n",
    "\n",
    "20 20 20 20 20 20 20 20 20 20 \n",
    "\n",
    "10 5\n",
    "\n",
    "1 1 1 1 1 1 1 1 2 2 2 2 2 2 50\n",
    "\n",
    "10 8\n",
    "\n",
    "1 2 3 4 5 6 7 8 9 20"
   ]
  },
  {
   "cell_type": "code",
   "execution_count": null,
   "id": "59ab5370",
   "metadata": {},
   "outputs": [
    {
     "name": "stdout",
     "output_type": "stream",
     "text": [
      "8\n"
     ]
    }
   ],
   "source": [
    "N, p = map(int, input().split())\n",
    "num_lst = list(map(int, input().split()))\n",
    "\n",
    "num_lst.sort()\n",
    "\n",
    "max_len = 0\n",
    "j = 0\n",
    "\n",
    "for i in range(N):\n",
    "    while j < N and num_lst[j] <= num_lst[i] * p:\n",
    "        j += 1\n",
    "    max_len = max(max_len, j - i)\n",
    "\n",
    "print(max_len)"
   ]
  }
 ],
 "metadata": {
  "kernelspec": {
   "display_name": "base",
   "language": "python",
   "name": "python3"
  },
  "language_info": {
   "codemirror_mode": {
    "name": "ipython",
    "version": 3
   },
   "file_extension": ".py",
   "mimetype": "text/x-python",
   "name": "python",
   "nbconvert_exporter": "python",
   "pygments_lexer": "ipython3",
   "version": "3.12.4"
  }
 },
 "nbformat": 4,
 "nbformat_minor": 5
}
