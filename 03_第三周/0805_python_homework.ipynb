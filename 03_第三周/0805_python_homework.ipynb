{
 "cells": [
  {
   "cell_type": "markdown",
   "id": "65862726",
   "metadata": {},
   "source": [
    "#### PAT-1061 判断题"
   ]
  },
  {
   "cell_type": "code",
   "execution_count": null,
   "id": "55fbdbbb",
   "metadata": {},
   "outputs": [],
   "source": [
    "N, M = map(int, input().split())\n",
    "max_score = list(map(int, input().split()))\n",
    "answers = list(map(int, input().split()))\n",
    "for i in range(N):\n",
    "    stduent_answers = list(map(int, input().split()))\n",
    "    std_score = 0\n",
    "    for j in range(M):\n",
    "        if stduent_answers[j] == answers[j]:\n",
    "            std_score += max_score[j]\n",
    "    print(std_score)"
   ]
  },
  {
   "cell_type": "markdown",
   "id": "4cf458a3",
   "metadata": {},
   "source": [
    "#### PAT-1044 火星数"
   ]
  },
  {
   "cell_type": "markdown",
   "id": "b2e69d71",
   "metadata": {},
   "source": [
    "#### 判断字符串特定类型的方法\n",
    "1. isalpha() 功能：检查字符串是否只包含字母（a-z, A-Z）。\n",
    "2. isdigit() 功能：检查字符串是否只包含数字（0-9）。\n",
    "3. isalnum() 功能：检查字符串是否只包含字母和数字。\n",
    "3. islower() 功能：检查字符串是否只包含小写字母。\n",
    "4. isupper() 功能：检查字符串是否只包含大写字母。\n",
    "5. isspace() 功能：检查字符串是否只包含空白字符（\\t, \\n, \\r, 空格）。\n",
    "6. istitle() 功能：检查字符串是否只包含标题化的单词。\n"
   ]
  },
  {
   "cell_type": "code",
   "execution_count": 1,
   "id": "e021374e",
   "metadata": {},
   "outputs": [
    {
     "ename": "ValueError",
     "evalue": "invalid literal for int() with base 10: ''",
     "output_type": "error",
     "traceback": [
      "\u001b[31m---------------------------------------------------------------------------\u001b[39m",
      "\u001b[31mValueError\u001b[39m                                Traceback (most recent call last)",
      "\u001b[36mCell\u001b[39m\u001b[36m \u001b[39m\u001b[32mIn[1]\u001b[39m\u001b[32m, line 20\u001b[39m\n\u001b[32m     17\u001b[39m     mars_to_num[high_mars[i - \u001b[32m1\u001b[39m]] = num\n\u001b[32m     19\u001b[39m \u001b[38;5;66;03m# 处理输入\u001b[39;00m\n\u001b[32m---> \u001b[39m\u001b[32m20\u001b[39m n = \u001b[38;5;28;43mint\u001b[39;49m\u001b[43m(\u001b[49m\u001b[38;5;28;43minput\u001b[39;49m\u001b[43m(\u001b[49m\u001b[43m)\u001b[49m\u001b[43m)\u001b[49m\n\u001b[32m     21\u001b[39m \u001b[38;5;28;01mfor\u001b[39;00m _ \u001b[38;5;129;01min\u001b[39;00m \u001b[38;5;28mrange\u001b[39m(n):\n\u001b[32m     22\u001b[39m     line = \u001b[38;5;28minput\u001b[39m().strip()\n",
      "\u001b[31mValueError\u001b[39m: invalid literal for int() with base 10: ''"
     ]
    }
   ],
   "source": [
    "# 建立映射关系\n",
    "low_mars = ['tret', 'jan', 'feb', 'mar', 'apr', 'may', 'jun', 'jly', 'aug', 'sep', 'oct', 'nov', 'dec']\n",
    "high_mars = ['tam', 'hel', 'maa', 'huh', 'tou', 'kes', 'hei', 'elo', 'syy', 'lok', 'mer', 'jou']\n",
    "\n",
    "num_to_mars = {}\n",
    "mars_to_num = {}\n",
    "\n",
    "# 填充0-12的映射\n",
    "for i in range(13):\n",
    "    num_to_mars[i] = low_mars[i]\n",
    "    mars_to_num[low_mars[i]] = i\n",
    "\n",
    "# 填充13的倍数（高位）的映射\n",
    "for i in range(1, 13):\n",
    "    num = i * 13\n",
    "    num_to_mars[num] = high_mars[i - 1]\n",
    "    mars_to_num[high_mars[i - 1]] = num\n",
    "\n",
    "# 处理输入\n",
    "n = int(input())\n",
    "for _ in range(n):\n",
    "    line = input().strip()\n",
    "    if line.isdigit():  # 地球数字转火星文\n",
    "        num = int(line)\n",
    "        if num in num_to_mars:\n",
    "            print(num_to_mars[num])\n",
    "        else:\n",
    "            high = num // 13\n",
    "            low = num % 13\n",
    "            print(f\"{high_mars[high - 1]} {low_mars[low]}\")\n",
    "    else:  # 火星文转地球数字\n",
    "        parts = line.split()\n",
    "        if len(parts) == 1:\n",
    "            print(mars_to_num[parts[0]])\n",
    "        else:\n",
    "            high = mars_to_num[parts[0]]\n",
    "            low = mars_to_num[parts[1]]\n",
    "            print(high + low)"
   ]
  },
  {
   "cell_type": "code",
   "execution_count": null,
   "id": "d4aa7a9a",
   "metadata": {},
   "outputs": [],
   "source": [
    "def Tomars(num):\n",
    "    \"\"\"将地球数字转换为火星文\"\"\"\n",
    "    low = ['tret', 'jan', 'feb', 'mar', 'apr', 'may', 'jun', \n",
    "           'jly', 'aug', 'sep', 'oct', 'nov', 'dec']\n",
    "    high = ['tret', 'tam', 'hel', 'maa', 'huh', 'tou', 'kes', \n",
    "            'hei', 'elo', 'syy', 'lok', 'mer', 'jou']\n",
    "    \n",
    "    result = []\n",
    "    high_digit = num // 13\n",
    "    low_digit = num % 13\n",
    "    \n",
    "    if high_digit > 0:\n",
    "        result.append(high[high_digit])\n",
    "    # 添加低位\n",
    "    result.append(low[low_digit])\n",
    "    \n",
    "    return ' '.join(result)\n",
    "\n",
    "def ToEarth(s):\n",
    "    \"\"\"将火星文转换为地球数字\"\"\"\n",
    "    low = {'tret':0, 'jan':1, 'feb':2, 'mar':3, 'apr':4, 'may':5, 'jun':6, \n",
    "           'jly':7, 'aug':8, 'sep':9, 'oct':10, 'nov':11, 'dec':12}\n",
    "    high = {'tret':0, 'tam':1, 'hel':2, 'maa':3, 'huh':4, 'tou':5, 'kes':6, \n",
    "            'hei':7, 'elo':8, 'syy':9, 'lok':10, 'mer':11, 'jou':12}\n",
    "    \n",
    "    parts = s.split()\n",
    "    total = 0\n",
    "    \n",
    "    if len(parts) == 1:#判断是否为高位或低位火星文\n",
    "        if parts[0] in high:\n",
    "            total = high[parts[0]] * 13\n",
    "        else:\n",
    "            total = low[parts[0]]\n",
    "\n",
    "    else:\n",
    "        total = high[parts[0]] * 13 + low[parts[1]]\n",
    "    \n",
    "    return total\n",
    "\n",
    "def main():\n",
    "    n = int(input())\n",
    "    for _ in range(n):\n",
    "        s = input().strip()\n",
    "        if s.isdigit():\n",
    "            print(Tomars(int(s)))\n",
    "        else:\n",
    "            print(ToEarth(s))\n",
    "\n",
    "if __name__ == \"__main__\":\n",
    "    main()"
   ]
  },
  {
   "cell_type": "markdown",
   "id": "c38ef6f7",
   "metadata": {},
   "source": [
    "#### PAT-1062 最简分数\n",
    "1. 题目貌似没有说输入的两个分数谁大谁小，谨慎起见进行排序\n",
    "2. 如何判断两数是否有公约数？可以用python的math模块中的gcd函数\n",
    "3. 是否存在边界值？分子是否存在为0？\n",
    "4. 是否存在分母为1的情况？"
   ]
  },
  {
   "cell_type": "code",
   "execution_count": null,
   "id": "9b9f7f70",
   "metadata": {},
   "outputs": [
    {
     "name": "stdout",
     "output_type": "stream",
     "text": [
      "4 7\n",
      "5/12 7/12\n"
     ]
    }
   ],
   "source": [
    "import math\n",
    "num1, num2, K = input().split()\n",
    "N1, M1 = map(int, num1.split('/'))\n",
    "N2, M2 = map(int, num2.split('/'))\n",
    "K = int(K)\n",
    "\n",
    "# 进行比较，将较小的数放前面\n",
    "if N1 * M2 < N2 * M1:  # 判断 N1/M1 < N2/M2\n",
    "    temp = N1\n",
    "    N1 = N2\n",
    "    N2 = temp\n",
    "    temp = M1\n",
    "    M1 = M2\n",
    "    M2 = temp\n",
    "    \n",
    "max_count = N1 * K // M1\n",
    "min_count = N2 * K // M2\n",
    "result = []\n",
    "N = 0\n",
    "for i in range(min_count, max_count + 1):# 遍历范围出现两处错误\n",
    "    #if not math.gcd(i, K) > 1:\n",
    "    if math.gcd(i, K) == 1:\n",
    "        result.append(f'{i}/{K}')\n",
    "\n",
    "print(' '.join(result))"
   ]
  },
  {
   "cell_type": "code",
   "execution_count": null,
   "id": "5cc66deb",
   "metadata": {},
   "outputs": [],
   "source": [
    "# 修正版本\n",
    "import math\n",
    "num1, num2, K = input().split()\n",
    "N1, M1 = map(int, num1.split('/'))\n",
    "N2, M2 = map(int, num2.split('/'))\n",
    "K = int(K)\n",
    "\n",
    "# 进行比较，将较小的数放前面\n",
    "if N1 * M2 < N2 * M1:  # 判断 N1/M1 < N2/M2\n",
    "    temp = N1\n",
    "    N1 = N2\n",
    "    N2 = temp\n",
    "    temp = M1\n",
    "    M1 = M2\n",
    "    M2 = temp\n",
    "\n",
    "min_count = (N2 * K) // M2 + 1    # 大于 N2/M2 的最小整数分子\n",
    "max_count = (N1 * K - 1) // M1    # 如果N1*K//M1为整数，则可能出现最后一个结果与最大边界值相等的情况\n",
    "result = []\n",
    "N = 0\n",
    "for i in range(min_count, max_count + 1):\n",
    "    #if not math.gcd(i, K) > 1:\n",
    "    if math.gcd(i, K) == 1:\n",
    "        result.append(f'{i}/{K}')\n",
    "\n",
    "print(' '.join(result))"
   ]
  },
  {
   "cell_type": "code",
   "execution_count": null,
   "id": "559825e9",
   "metadata": {},
   "outputs": [],
   "source": [
    "# 优化版本\n",
    "import math\n",
    "\n",
    "def find_fractions_between(num1, num2, K):\n",
    "    # 解析输入的两个分数\n",
    "    N1, M1 = map(int, num1.split('/'))\n",
    "    N2, M2 = map(int, num2.split('/'))\n",
    "    K = int(K)\n",
    "\n",
    "    # 确保第一个分数大于第二个分数，使用交叉相乘避免浮点误差\n",
    "    if N1 * M2 < N2 * M1:\n",
    "        N1, N2 = N2, N1\n",
    "        M1, M2 = M2, M1\n",
    "\n",
    "    # 计算分子的最小值和最大值\n",
    "    min_numerator = (N2 * K) // M2 + 1  # 大于 N2/M2 的最小整数分子\n",
    "    max_numerator = (N1 * K - 1) // M1   # 小于 N1/M1 的最大整数分子\n",
    "\n",
    "    # 收集所有满足条件的最简分数\n",
    "    result = []\n",
    "    for i in range(min_numerator, max_numerator + 1):\n",
    "        if math.gcd(i, K) == 1:  # 确保是最简分数\n",
    "            result.append(f\"{i}/{K}\")\n",
    "\n",
    "    return result\n",
    "\n",
    "# 输入处理\n",
    "num1, num2, K = input().split()\n",
    "result = find_fractions_between(num1, num2, K)\n",
    "print(' '.join(result))"
   ]
  },
  {
   "cell_type": "markdown",
   "id": "9ffe6421",
   "metadata": {},
   "source": [
    "#### PAT-1069 微博转发抽奖"
   ]
  },
  {
   "cell_type": "code",
   "execution_count": null,
   "id": "0c7a960a",
   "metadata": {},
   "outputs": [],
   "source": [
    "M, N, S = map(int, input().split())\n",
    "nicknames = [input().strip() for _ in range(M)]\n",
    "winners = set()\n",
    "result = []\n",
    "\n",
    "index = S - 1  # 相当于指向当前获奖者的箭头\n",
    "while index < M:\n",
    "    if nicknames[index] not in winners:\n",
    "        winners.add(nicknames[index])\n",
    "        result.append(nicknames[index])\n",
    "        index += N  # 跳到下一个间隔位置\n",
    "    else:\n",
    "        index += 1  # 顺延到下一位\n",
    "\n",
    "if result:  # 如果有获奖者.python中空列表，空集合，空字典等都被视为False，非空则为True\n",
    "    for name in result:\n",
    "        print(name)\n",
    "else:\n",
    "    print(\"Keep going...\")\n"
   ]
  }
 ],
 "metadata": {
  "kernelspec": {
   "display_name": "base",
   "language": "python",
   "name": "python3"
  },
  "language_info": {
   "codemirror_mode": {
    "name": "ipython",
    "version": 3
   },
   "file_extension": ".py",
   "mimetype": "text/x-python",
   "name": "python",
   "nbconvert_exporter": "python",
   "pygments_lexer": "ipython3",
   "version": "3.12.4"
  }
 },
 "nbformat": 4,
 "nbformat_minor": 5
}
