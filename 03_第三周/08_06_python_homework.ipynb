{
 "cells": [
  {
   "cell_type": "markdown",
   "id": "0f7a4bf0",
   "metadata": {},
   "source": [
    "#### PAT-1043 输出PATest"
   ]
  },
  {
   "cell_type": "code",
   "execution_count": 8,
   "id": "8b53c19c",
   "metadata": {},
   "outputs": [
    {
     "name": "stdout",
     "output_type": "stream",
     "text": [
      "PATestPATestPTetPTePePee"
     ]
    }
   ],
   "source": [
    "instr = input()\n",
    "P = ['P'] * instr.count('P')\n",
    "A = ['A'] * instr.count('A')\n",
    "T = ['T'] * instr.count('T')\n",
    "e = ['e'] * instr.count('e')\n",
    "s = ['s'] * instr.count('s')\n",
    "t = ['t'] * instr.count('t')\n",
    "\n",
    "while True:\n",
    "    if len(P) != 0:\n",
    "        print('P', end='')\n",
    "        P.pop()\n",
    "    if len(A) != 0:\n",
    "        print('A', end='')\n",
    "        A.pop()\n",
    "    if len(T) != 0:\n",
    "        print('T', end='')\n",
    "        T.pop()\n",
    "    if len(e) != 0:\n",
    "        print('e', end='')\n",
    "        e.pop()\n",
    "    if len(s) != 0:\n",
    "        print('s', end='')\n",
    "        s.pop()\n",
    "    if len(t) != 0:\n",
    "        print('t', end='')\n",
    "        t.pop()\n",
    "    if len(P) == 0 and len(A) == 0 and len(T) == 0 and len(e) == 0 and len(s) == 0 and len(t) == 0:\n",
    "        break\n"
   ]
  },
  {
   "cell_type": "code",
   "execution_count": null,
   "id": "c9394ffc",
   "metadata": {},
   "outputs": [],
   "source": [
    "# 优化版\n",
    "s = input().strip()\n",
    "# 初始化计数器\n",
    "count = {'P':0, 'A':0, 'T':0, 'e':0, 's':0, 't':0}\n",
    "\n",
    "# 统计各个字符的出现次数\n",
    "for char in s:\n",
    "    if char in count:\n",
    "        count[char] += 1\n",
    "\n",
    "# 按照PATest的顺序循环输出\n",
    "result = []\n",
    "while True:\n",
    "    has_char = False\n",
    "    for char in 'PATest':\n",
    "        if count[char] > 0:\n",
    "            result.append(char)\n",
    "            count[char] -= 1\n",
    "            has_char = True\n",
    "    if not has_char:\n",
    "        break\n",
    "\n",
    "print(''.join(result))"
   ]
  },
  {
   "cell_type": "markdown",
   "id": "99eea6bc",
   "metadata": {},
   "source": [
    "#### PAT-1010 一元多项式求导\n",
    "1. 指数如果跨越0，该如何处理？直接使用二维列表表示多项式\n",
    "2. 系数为0时，该如何处理？跳过，不输出\n",
    "3. 指数为0时，该如何处理？同上，或者直接在函数里跳过指数为零的情况\n"
   ]
  },
  {
   "cell_type": "code",
   "execution_count": null,
   "id": "6640777f",
   "metadata": {},
   "outputs": [],
   "source": [
    "# 0.5版本\n",
    "inlst = list(map(int, input().split()))\n",
    "if not inlst:  # 处理空输入\n",
    "    print(\"0 0\")\n",
    "    exit()\n",
    "one = 0\n",
    "two = 1\n",
    "result = []\n",
    "while two < len(inlst):\n",
    "    if inlst[two] != 0:\n",
    "        result.append([inlst[one]*inlst[two], inlst[two]-1])\n",
    "    one += 2\n",
    "    two += 2\n",
    "\n",
    "# 处理输出\n",
    "if len(result) == 0:\n",
    "    print(\"0 0\", end=\"\")\n",
    "else:\n",
    "    output = []\n",
    "    for temp in result:\n",
    "        if temp[0] == 0:\n",
    "            continue\n",
    "        else:\n",
    "            output.append(str(temp[0]))\n",
    "            output.append(str(temp[1])) \n",
    "    print(' '.join(output))\n"
   ]
  },
  {
   "cell_type": "code",
   "execution_count": 22,
   "id": "a787ab0d",
   "metadata": {},
   "outputs": [
    {
     "name": "stdout",
     "output_type": "stream",
     "text": [
      "['12', '3', '-10', '1', '6', '0']\n",
      "12 3 -10 1 6 0"
     ]
    }
   ],
   "source": [
    "# 1.0版本\n",
    "inlst = list(map(int, input().split()))\n",
    "\n",
    "one = 0\n",
    "two = 1\n",
    "result = []\n",
    "while two < len(inlst):\n",
    "    if inlst[two] != 0:\n",
    "        a = inlst[one]*inlst[two]\n",
    "        b = inlst[two]-1\n",
    "        if inlst[two] != 0:\n",
    "            result.append(f'{a}')\n",
    "            result.append(f'{b}')\n",
    "    one += 2\n",
    "    two += 2\n",
    "\n",
    "# 处理输出\n",
    "if len(result) == 0:\n",
    "    print(\"0 0\", end=\"\")\n",
    "else:\n",
    "    print(\" \".join(result), end=\"\")\n"
   ]
  },
  {
   "cell_type": "code",
   "execution_count": null,
   "id": "1377e121",
   "metadata": {},
   "outputs": [],
   "source": [
    "# 2.0版本\n",
    "inlst = list(map(int, input().split()))\n",
    "\n",
    "result = []\n",
    "for i in range(0, len(inlst), 2): #使用步长为2的range函数，取代1.0版本的one,two指针\n",
    "    a, b = inlst[i], inlst[i+1]\n",
    "    if b != 0:  # 只处理指数不为0的项\n",
    "        result.append(f\"{a*b} {b-1}\")\n",
    "\n",
    "# 处理输出\n",
    "if not result:  # 所有导数项都为零\n",
    "    print(\"0 0\")\n",
    "else:\n",
    "    print(\" \".join(result))"
   ]
  }
 ],
 "metadata": {
  "kernelspec": {
   "display_name": "base",
   "language": "python",
   "name": "python3"
  },
  "language_info": {
   "codemirror_mode": {
    "name": "ipython",
    "version": 3
   },
   "file_extension": ".py",
   "mimetype": "text/x-python",
   "name": "python",
   "nbconvert_exporter": "python",
   "pygments_lexer": "ipython3",
   "version": "3.12.4"
  }
 },
 "nbformat": 4,
 "nbformat_minor": 5
}
