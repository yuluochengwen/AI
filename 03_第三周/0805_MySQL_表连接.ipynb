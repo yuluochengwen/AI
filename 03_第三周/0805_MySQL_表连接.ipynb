{
 "cells": [
  {
   "cell_type": "markdown",
   "id": "37181f35",
   "metadata": {},
   "source": [
    "#### 表连接"
   ]
  },
  {
   "cell_type": "code",
   "execution_count": null,
   "id": "6a050b0c",
   "metadata": {
    "vscode": {
     "languageId": "sql"
    }
   },
   "outputs": [],
   "source": [
    "# inner join 内连接\n",
    "# left join 左连接\n",
    "# right join 右连接\n",
    "# full join 全连接"
   ]
  }
 ],
 "metadata": {
  "kernelspec": {
   "display_name": "base",
   "language": "python",
   "name": "python3"
  },
  "language_info": {
   "name": "python",
   "version": "3.12.4"
  }
 },
 "nbformat": 4,
 "nbformat_minor": 5
}
