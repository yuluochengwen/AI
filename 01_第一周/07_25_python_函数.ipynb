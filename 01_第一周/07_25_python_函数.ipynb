{
 "cells": [
  {
   "cell_type": "markdown",
   "id": "583a8c9d",
   "metadata": {},
   "source": [
    "#### 函数的调用"
   ]
  },
  {
   "cell_type": "code",
   "execution_count": null,
   "id": "a09d9aa3",
   "metadata": {},
   "outputs": [
    {
     "name": "stdout",
     "output_type": "stream",
     "text": [
      "...fun1\n",
      "...fun2\n"
     ]
    }
   ],
   "source": [
    "# 函数的调用，正常调用，调用别的函数\n",
    "def fun1():\n",
    "    print(\"...fun1\")\n",
    "\n",
    "def fun2():\n",
    "    fun1()\n",
    "    print(\"...fun2\")\n",
    "\n",
    "fun2()\n",
    "\n"
   ]
  },
  {
   "cell_type": "markdown",
   "id": "106e8c6f",
   "metadata": {},
   "source": [
    "#### 函数的递归"
   ]
  },
  {
   "cell_type": "code",
   "execution_count": null,
   "id": "b126fade",
   "metadata": {},
   "outputs": [],
   "source": [
    "# 函数的递归，自己调用自己，要有规律，要注意设置出口\n",
    "def fun3():\n",
    "    print(\"从前有座山，山里有座庙，庙里有个老和尚在给小和尚讲故事，讲的故事是：\")\n",
    "    fun3()\n",
    "\n",
    "fun3()"
   ]
  },
  {
   "cell_type": "code",
   "execution_count": null,
   "id": "95c907b9",
   "metadata": {},
   "outputs": [
    {
     "name": "stdout",
     "output_type": "stream",
     "text": [
      "1534\n"
     ]
    }
   ],
   "source": [
    "# 有一堆宝石，有个人每天拿走宝石的一半多一个，问第一天有多少宝石，第十天只剩下一个\n",
    "def demo01(n):\n",
    "    if n != 1:\n",
    "        return (demo01(n-1)+1)*2\n",
    "    else:\n",
    "        return 1\n",
    "    \n",
    "print(demo01(10))\n",
    "\n",
    "\n",
    "def demo02(n):\n",
    "    if n == 1:\n",
    "        return 1\n",
    "    else:\n",
    "        return (demo02(n-1)+1)*2\n",
    "\n",
    "print(demo02(10))"
   ]
  },
  {
   "cell_type": "markdown",
   "id": "34d29c41",
   "metadata": {},
   "source": [
    "n=1 1\n",
    "\n",
    "n=2 2\n",
    "\n",
    "n=3 3\n",
    "\n",
    "n=4 5\n",
    "\n",
    "n=5 8"
   ]
  },
  {
   "cell_type": "code",
   "execution_count": null,
   "id": "79f4a5f8",
   "metadata": {},
   "outputs": [
    {
     "name": "stdout",
     "output_type": "stream",
     "text": [
      "8\n"
     ]
    }
   ],
   "source": [
    "# 上楼梯,n表示第几层楼梯\n",
    "# 上一层上的楼梯可能是1或2\n",
    "# 上的步数之和等于台阶数\n",
    "# 斐波那契数列\n",
    "def demo03(n):\n",
    "    if n == 1:\n",
    "        return 1\n",
    "    elif n == 2:\n",
    "        return 2\n",
    "    else:\n",
    "        return demo03(n-1)+demo03(n-2)\n",
    "    \n",
    "\n",
    "print(demo03(5))"
   ]
  }
 ],
 "metadata": {
  "kernelspec": {
   "display_name": "base",
   "language": "python",
   "name": "python3"
  },
  "language_info": {
   "codemirror_mode": {
    "name": "ipython",
    "version": 3
   },
   "file_extension": ".py",
   "mimetype": "text/x-python",
   "name": "python",
   "nbconvert_exporter": "python",
   "pygments_lexer": "ipython3",
   "version": "3.12.4"
  }
 },
 "nbformat": 4,
 "nbformat_minor": 5
}
