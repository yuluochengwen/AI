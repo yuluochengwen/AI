{
 "cells": [
  {
   "cell_type": "markdown",
   "id": "5d27272e",
   "metadata": {},
   "source": [
    "#### PAT-1011 A+B和C\n",
    "##### print(f\"{}\")的应用"
   ]
  },
  {
   "cell_type": "code",
   "execution_count": null,
   "id": "a6e971ba",
   "metadata": {},
   "outputs": [],
   "source": [
    "n = int(input())\n",
    "for i in range(n):\n",
    "    A, B, C = map(int,input().split())\n",
    "    if A + B > C:\n",
    "        print(f\"Case #{i+1}: true\")\n",
    "    else:\n",
    "        print(f\"Case #{i+1}: false\")\n",
    "    "
   ]
  },
  {
   "cell_type": "markdown",
   "id": "9be1c148",
   "metadata": {},
   "source": [
    "#### PAT-1021 统计各个位上的数出现的次数"
   ]
  },
  {
   "cell_type": "code",
   "execution_count": null,
   "id": "1db2635e",
   "metadata": {},
   "outputs": [],
   "source": [
    "# 使用count()函数统计数字出现的次数，循环次数较多\n",
    "n = list(map(int, input()))\n",
    "for i in range(10):\n",
    "    if i in n:\n",
    "        print(f\"{i}:{n.count(i)}\")"
   ]
  },
  {
   "cell_type": "code",
   "execution_count": null,
   "id": "aebb41c4",
   "metadata": {},
   "outputs": [],
   "source": [
    "# 尝试使用字典，遍历一遍，以优化性能\n",
    "n = list(map(int, input()))\n",
    "nums_count = {0:0,1:0,2:0,3:0,4:0,5:0,6:0,7:0,8:0,9:0}\n",
    "for num in n:\n",
    "    nums_count[num] += 1\n",
    "\n",
    "for i in range(10):\n",
    "    if nums_count[i] != 0:\n",
    "        print(f\"{i}: {nums_count[i]}\")"
   ]
  },
  {
   "cell_type": "markdown",
   "id": "22f78516",
   "metadata": {},
   "source": [
    "#### PAT-1038 统计学生成绩"
   ]
  },
  {
   "cell_type": "code",
   "execution_count": null,
   "id": "913466d3",
   "metadata": {},
   "outputs": [],
   "source": [
    "n = int(input())\n",
    "score = input().split()\n",
    "target = input().split()\n",
    "k = int(target[0])\n",
    "lst = []\n",
    "for i in range(0,k):\n",
    "    lst.append(str(score.count(target[i+1])))  # count()遍历列表时消耗太多时间导致超时，下面准备使用字典进行优化\n",
    "\n",
    "result = \" \".join(lst)\n",
    "print(result)\n"
   ]
  },
  {
   "cell_type": "markdown",
   "id": "c735b3e2",
   "metadata": {},
   "source": [
    "#### dict.get()方法"
   ]
  },
  {
   "cell_type": "code",
   "execution_count": null,
   "id": "53d24c76",
   "metadata": {},
   "outputs": [],
   "source": [
    "# 初始数据读入\n",
    "n = int(input())\n",
    "scores = input().split()\n",
    "\n",
    "# 成绩出现次数统计\n",
    "score_count = {}\n",
    "for score in scores:\n",
    "    score_count[score] = score_count.get(score,0) + 1\n",
    "\n",
    "# 查询指令读入\n",
    "target = input().split()\n",
    "target_nums = target[0]\n",
    "target = target[1:]\n",
    "result = []\n",
    "\n",
    "for i in target:\n",
    "    result.append(str(score_count.get(i,0)))\n",
    "\n",
    "print(\" \".join(result))"
   ]
  },
  {
   "cell_type": "code",
   "execution_count": null,
   "id": "861e7150",
   "metadata": {},
   "outputs": [],
   "source": [
    "n = int(input().strip())\n",
    "scores = list(map(int, input().split()))\n",
    "count_dict = {}\n",
    "\n",
    "# 统计每个分数的出现次数\n",
    "for score in scores:\n",
    "    count_dict[score] = count_dict.get(score, 0) + 1\n",
    "\n",
    "# 读取查询请求\n",
    "query_data = list(map(int, input().split()))\n",
    "k = query_data[0]\n",
    "query_scores = query_data[1:1+k]\n",
    "\n",
    "# 获取查询结果\n",
    "results = []\n",
    "for q in query_scores:\n",
    "    results.append(str(count_dict.get(q, 0)))\n",
    "\n",
    "# 按格式输出结果\n",
    "print(\" \".join(results))"
   ]
  }
 ],
 "metadata": {
  "kernelspec": {
   "display_name": "base",
   "language": "python",
   "name": "python3"
  },
  "language_info": {
   "codemirror_mode": {
    "name": "ipython",
    "version": 3
   },
   "file_extension": ".py",
   "mimetype": "text/x-python",
   "name": "python",
   "nbconvert_exporter": "python",
   "pygments_lexer": "ipython3",
   "version": "3.12.4"
  }
 },
 "nbformat": 4,
 "nbformat_minor": 5
}
