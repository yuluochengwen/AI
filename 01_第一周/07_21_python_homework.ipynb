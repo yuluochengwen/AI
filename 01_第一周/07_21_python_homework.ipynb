{
 "cells": [
  {
   "cell_type": "code",
   "execution_count": null,
   "id": "c6a1502a",
   "metadata": {},
   "outputs": [],
   "source": [
    "# 3. 输出100以内，能被5整除不能被7整除的数字\n",
    "for i in range(1, 100):\n",
    "    if i % 5 == 0 and i % 7 != 0:\n",
    "        print(i)\n"
   ]
  },
  {
   "cell_type": "markdown",
   "id": "b708ac48",
   "metadata": {},
   "source": [
    "#### 水仙花数"
   ]
  },
  {
   "cell_type": "code",
   "execution_count": null,
   "id": "b941b941",
   "metadata": {},
   "outputs": [],
   "source": [
    "# 4.计算某一范围内的所有水仙花数c语言 水仙花数,也被称作自恋数或亲密数,是一种特殊的数字形式。\n",
    "# 它的定义是:一个 n 位数(n≥3),它的每个数字的 n 次幂之和等于它本身。153 是一个水仙花数\n",
    "\n",
    "a = input(\"请输入起始数字(三位数):\")\n",
    "b = input(\"请输入结束数字(三位数):\")\n",
    "for i in range(int(a), int(b) + 1):\n",
    "    a, b, c = map(int, str(i))  # 将数字转换为字符串，然后将每个字符转换为整数\n",
    "    if a**3 + b**3 + c**3 == i:\n",
    "        print(i, \"是水仙花数\")"
   ]
  },
  {
   "cell_type": "markdown",
   "id": "fdd5dec0",
   "metadata": {},
   "source": [
    "num.zfill(x)    字符串的前导填充，在字符串的前面填充0，使字符串补充到x位"
   ]
  },
  {
   "cell_type": "markdown",
   "id": "9c6a2523",
   "metadata": {},
   "source": [
    "#### PAT-1006 换一种格式输出"
   ]
  },
  {
   "cell_type": "code",
   "execution_count": null,
   "id": "4f21ebdd",
   "metadata": {},
   "outputs": [],
   "source": [
    "# 5. （选做）\n",
    "# 让我们用字母 B 来表示“百”、字母 S 表示“十”，用 12...n 来表示不为零的个位数字 n（<10），\n",
    "# 换个格式来输出任一个不超过 3 位的正整数。例如 234 应该被输出为 BBSSS1234，\n",
    "# 因为它有 2 个“百”、3 个“十”、以及个位的 4。\n"
   ]
  },
  {
   "cell_type": "code",
   "execution_count": 6,
   "id": "cab73fe4",
   "metadata": {},
   "outputs": [
    {
     "name": "stdout",
     "output_type": "stream",
     "text": [
      "BSS123\n"
     ]
    }
   ],
   "source": [
    "num = input(\"请输入一个不超过三位的正整数：\")\n",
    "result = \"\"\n",
    "if len(num) == 1:\n",
    "    for i in range(1, int(num[0]) + 1):\n",
    "        result += str(i)\n",
    "    print(\"B\" * 0 + \"S\" * 0 + result)\n",
    "elif len(num) == 2:\n",
    "    for i in range(1, int(num[1]) + 1):\n",
    "        result += str(i)\n",
    "    print(\"B\" * 0 + \"S\" * int(num[0]) + result)\n",
    "elif len(num) == 3:\n",
    "    for i in range(1, int(num[2]) + 1):\n",
    "        result += str(i)\n",
    "    print(\"B\" * int(num[0]) + \"S\" * int(num[1]) + result)\n"
   ]
  },
  {
   "cell_type": "code",
   "execution_count": null,
   "id": "b0720daa",
   "metadata": {},
   "outputs": [],
   "source": [
    "num = input(\"请输入一个不超过三位的正整数：\")\n",
    "n = num.zfill(3)  # 填充前导零使成为三位数\n",
    "result = \"\".join(str(i) for i in range(1, int(n[2]) + 1)) if int(n[2]) > 0 else \"\"\n",
    "print(\"B\" * int(n[0]) + \"S\" * int(n[1]) + result)"
   ]
  },
  {
   "cell_type": "code",
   "execution_count": null,
   "id": "97c05f8e",
   "metadata": {},
   "outputs": [
    {
     "data": {
      "text/plain": [
       "'012'"
      ]
     },
     "execution_count": 5,
     "metadata": {},
     "output_type": "execute_result"
    }
   ],
   "source": [
    "n = input()\n",
    "n = n.zfill(3)  # 使用 zfill 填充前导零,将n的长度统一为3位，省去判断代码，优雅！\n",
    "x = '123456789'\n",
    "print(\"B\"*int(n[0]) + \"S\"*int(n[1]) + x[:int(n[2])])"
   ]
  },
  {
   "cell_type": "markdown",
   "id": "659a8f13",
   "metadata": {},
   "source": [
    "#### PAT-1001 3n+1"
   ]
  },
  {
   "cell_type": "code",
   "execution_count": 18,
   "id": "cc955087",
   "metadata": {},
   "outputs": [
    {
     "name": "stdout",
     "output_type": "stream",
     "text": [
      "需要砍 76 下\n"
     ]
    }
   ],
   "source": [
    "# 6.害死人不偿命的3n+1（选做）\n",
    "# 对任何一个正整数 n，如果它是偶数，那么把它砍掉一半；如果它是奇数，那么把 (3n+1) 砍掉一半。\n",
    "# 这样一直反复砍下去，最后一定在某一步得到 n=1。卡拉兹在 1950 年的世界数学家大会上公布了这个猜想，\n",
    "# 传说当时耶鲁大学师生齐动员，拼命想证明这个貌似很傻很天真的命题，\n",
    "# 结果闹得学生们无心学业，一心只证 (3n+1)，以至于有人说这是一个阴谋，\n",
    "# 卡拉兹是在蓄意延缓美国数学界教学与科研的进展……\n",
    "# 我们今天的题目不是证明卡拉兹猜想，而是对给定的任一不超过 1000 的正整数 n，\n",
    "# 简单地数一下，需要多少步（砍几下）才能得到 n=1？\n",
    "\n",
    "n = int(input(\"请输入一个不超过1000的正整数：\"))\n",
    "count = 0\n",
    "while n != 1:\n",
    "    if n % 2 == 0:\n",
    "        n //= 2\n",
    "    else:\n",
    "        n = (3*n + 1) // 2\n",
    "    count += 1\n",
    "print(\"需要砍\",count,\"下\")"
   ]
  },
  {
   "cell_type": "markdown",
   "id": "c784d94b",
   "metadata": {},
   "source": [
    "#### PAT-1005 继续（3n+1）猜想"
   ]
  },
  {
   "cell_type": "code",
   "execution_count": 11,
   "id": "ed15d16b",
   "metadata": {},
   "outputs": [
    {
     "name": "stdout",
     "output_type": "stream",
     "text": [
      "7 6\n"
     ]
    }
   ],
   "source": [
    "times = int(input())\n",
    "nums_list = list(map(int, input().split()))\n",
    "covered_nums = set()\n",
    "for i in nums_list:\n",
    "    while i != 1:\n",
    "        if i % 2 == 0:\n",
    "            i //= 2\n",
    "            covered_nums.add(i)\n",
    "        else:\n",
    "            i = (3*i + 1) // 2\n",
    "            covered_nums.add(i)\n",
    "\n",
    "result = sorted(set(nums_list)-covered_nums, reverse=True)\n",
    "\n",
    "print(*result)"
   ]
  },
  {
   "cell_type": "code",
   "execution_count": null,
   "id": "590a74a3",
   "metadata": {},
   "outputs": [
    {
     "name": "stdout",
     "output_type": "stream",
     "text": [
      "111\n",
      "BS1\n"
     ]
    },
    {
     "data": {
      "text/plain": [
       "''"
      ]
     },
     "execution_count": 6,
     "metadata": {},
     "output_type": "execute_result"
    }
   ],
   "source": [
    "n = input().zfill(3)\n",
    "x = \"123456789\"\n",
    "print('B'*int(n[0])+'S'*int(n[1])+x[:int(n[2])])\n"
   ]
  }
 ],
 "metadata": {
  "kernelspec": {
   "display_name": "base",
   "language": "python",
   "name": "python3"
  },
  "language_info": {
   "codemirror_mode": {
    "name": "ipython",
    "version": 3
   },
   "file_extension": ".py",
   "mimetype": "text/x-python",
   "name": "python",
   "nbconvert_exporter": "python",
   "pygments_lexer": "ipython3",
   "version": "3.12.4"
  }
 },
 "nbformat": 4,
 "nbformat_minor": 5
}
