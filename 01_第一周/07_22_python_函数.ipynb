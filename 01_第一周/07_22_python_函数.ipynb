{
 "cells": [
  {
   "cell_type": "markdown",
   "id": "f88e53da",
   "metadata": {},
   "source": [
    "## 函数"
   ]
  },
  {
   "cell_type": "code",
   "execution_count": null,
   "id": "a0cc40e2",
   "metadata": {},
   "outputs": [],
   "source": [
    "# 关键字 def"
   ]
  },
  {
   "cell_type": "code",
   "execution_count": null,
   "id": "fb148d07",
   "metadata": {},
   "outputs": [],
   "source": [
    "# 函数的四种定义\n",
    "\n",
    "# 第一种 无参无返回值\n",
    "def fun1():\n",
    "    \"\"\"这是一个简单的函数\"\"\"\n",
    "    print(\"Hello, World!\")\n",
    "\n",
    "# 第二种 有参有返回值\n",
    "def add(a, b):\n",
    "    \"\"\"返回两个数的和\"\"\"\n",
    "    return a + b\n",
    "\n",
    "# 第三种 有参无返回值\n",
    "def fun3(a=1, b=10):\n",
    "    print(a+b)\n",
    "\n",
    "# 第四种 无参有返回值\n",
    "def fun4():\n",
    "    a = 100\n",
    "    b = 200\n",
    "    return a + b"
   ]
  },
  {
   "cell_type": "code",
   "execution_count": null,
   "id": "dcf80cb2",
   "metadata": {},
   "outputs": [],
   "source": [
    "#编写函数，接收字符串参数，返回一个元组，其中第一个元素为大写字母个数，第二个元素为小写字母个数。\n",
    "\n",
    "def word_count(str):\n",
    "    A_count = 0\n",
    "    a_count = 0\n",
    "    for s in str:\n",
    "        if s >= 'A' and s <= 'Z':\n",
    "            A_count += 1\n",
    "        elif s >= 'a' and s <= 'z':\n",
    "            a_count += 1\n",
    "    result = (A_count,a_count)\n",
    "    return result"
   ]
  },
  {
   "cell_type": "code",
   "execution_count": null,
   "id": "23acee74",
   "metadata": {},
   "outputs": [],
   "source": [
    "word_count(\"Ab@@@，，d1j555hJ Bkks\")"
   ]
  },
  {
   "cell_type": "code",
   "execution_count": null,
   "id": "727a8943",
   "metadata": {},
   "outputs": [],
   "source": [
    "#编写函数模拟猜数游戏。系统随机产生一个数，\n",
    "# 玩家最多可以猜5次，系统会根据玩家的猜测进行提示，\n",
    "# 玩家则可以根据系统的提示对下一次的猜测进行适当调整。\n",
    "import random\n",
    "def guess_num():\n",
    "    num = random.randint(1,100)\n",
    "    for i in range(0,5):\n",
    "        a = int(input(\"请输入你猜的数字\"))\n",
    "        if a == num:\n",
    "            print(\"猜对啦\")\n",
    "            break\n",
    "        elif a > num:\n",
    "            print(\"太大啦\")\n",
    "        else:\n",
    "            print(\"太小啦\")\n",
    "    else:\n",
    "        print(\"太遗憾了，你输了,正确答案是\",num )"
   ]
  },
  {
   "cell_type": "code",
   "execution_count": null,
   "id": "cc9661e3",
   "metadata": {},
   "outputs": [],
   "source": [
    "guess_num()"
   ]
  },
  {
   "cell_type": "code",
   "execution_count": null,
   "id": "cd2c8cd6",
   "metadata": {},
   "outputs": [],
   "source": [
    "# 编写函数，接收包含20个整数的列表lst和一个整数k作为参数，返回新列表。\n",
    "# 处理规则为:将列表lst中下标k之前的元素逆序，下标k之后的元素逆序，然后将整个列表lst中的所有元素再逆序。\n",
    "\n",
    "def demo(lst,k):\n",
    "    lst1 = lst[:k]\n",
    "    lst1.reverse()\n",
    "    lst2 = lst[k:]\n",
    "    lst2.reverse()\n",
    "    lst3 = lst1 + lst2\n",
    "    lst3.reverse()\n",
    "    print(lst3)"
   ]
  },
  {
   "cell_type": "code",
   "execution_count": null,
   "id": "e617ded5",
   "metadata": {},
   "outputs": [],
   "source": [
    "lst = list(range(20))\n",
    "k = 5\n",
    "demo(lst,k)"
   ]
  }
 ],
 "metadata": {
  "kernelspec": {
   "display_name": "base",
   "language": "python",
   "name": "python3"
  },
  "language_info": {
   "codemirror_mode": {
    "name": "ipython",
    "version": 3
   },
   "file_extension": ".py",
   "mimetype": "text/x-python",
   "name": "python",
   "nbconvert_exporter": "python",
   "pygments_lexer": "ipython3",
   "version": "3.12.4"
  }
 },
 "nbformat": 4,
 "nbformat_minor": 5
}
