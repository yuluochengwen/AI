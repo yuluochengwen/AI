{
 "cells": [
  {
   "cell_type": "code",
   "execution_count": null,
   "id": "799f28a3",
   "metadata": {},
   "outputs": [],
   "source": [
    "import os"
   ]
  },
  {
   "cell_type": "markdown",
   "id": "39addfac",
   "metadata": {},
   "source": [
    "## 元组"
   ]
  },
  {
   "cell_type": "code",
   "execution_count": null,
   "id": "3aa14e01",
   "metadata": {},
   "outputs": [],
   "source": [
    "tpl = (100,)\n",
    "type(tpl)"
   ]
  },
  {
   "cell_type": "markdown",
   "id": "8ae436d6",
   "metadata": {},
   "source": [
    "## range()函数\n",
    "range(起始位置,结束位置,步长)，区间左开右闭，顾头不顾腚"
   ]
  },
  {
   "cell_type": "code",
   "execution_count": null,
   "id": "73e83c51",
   "metadata": {},
   "outputs": [],
   "source": [
    "lst = list(range(1, 10))\n",
    "lst"
   ]
  },
  {
   "cell_type": "markdown",
   "id": "675314cc",
   "metadata": {},
   "source": [
    "## map()函数与lambda泛化(匿名函数)\n",
    "map(function, iterable, ...) 会根据提供的函数对指定序列做映射。\n",
    "iterable必须为可迭代对象，即可拆分开来的变量\n",
    "第一个参数 function 以参数序列中的每一个元素调用 function 函数，返回包含每次 function 函数返回值的新列表。"
   ]
  },
  {
   "cell_type": "code",
   "execution_count": null,
   "id": "c98c4a74",
   "metadata": {},
   "outputs": [],
   "source": [
    "s = \"123\"\n",
    "a,b,c = map(int, str(s))\n",
    "a, b, c"
   ]
  },
  {
   "cell_type": "code",
   "execution_count": null,
   "id": "485a06ff",
   "metadata": {},
   "outputs": [],
   "source": [
    "lst = list(map(lambda x: x ** 2, [1, 2, 3, 4, 5]))   # 使用 lambda 匿名函数\n",
    "lst"
   ]
  },
  {
   "cell_type": "code",
   "execution_count": null,
   "id": "9092bd3f",
   "metadata": {},
   "outputs": [],
   "source": [
    "lst = list(map(lambda x, y: x + y, [1, 3, 5, 7, 9], [2, 4, 6, 8, 10]))\n",
    "lst"
   ]
  },
  {
   "cell_type": "code",
   "execution_count": 26,
   "id": "3e258f85",
   "metadata": {},
   "outputs": [],
   "source": [
    "# lambda 参数：语句\n",
    "f1 = lambda x,y:x+y\n",
    "f2 = lambda x,y=100:x+y  # lambda函数的默认值要从后面参数先赋"
   ]
  },
  {
   "cell_type": "code",
   "execution_count": 27,
   "id": "d808b27d",
   "metadata": {},
   "outputs": [
    {
     "data": {
      "text/plain": [
       "110"
      ]
     },
     "execution_count": 27,
     "metadata": {},
     "output_type": "execute_result"
    }
   ],
   "source": [
    "f2(10)"
   ]
  },
  {
   "cell_type": "markdown",
   "id": "03cfd097",
   "metadata": {},
   "source": [
    "## 顺序结构"
   ]
  },
  {
   "cell_type": "code",
   "execution_count": null,
   "id": "532b4a20",
   "metadata": {},
   "outputs": [],
   "source": [
    "a = 100\n",
    "b = 200\n",
    "c = a\n",
    "a = b\n",
    "b = c\n",
    "print(a, b)"
   ]
  },
  {
   "cell_type": "markdown",
   "id": "c1b04b47",
   "metadata": {},
   "source": [
    "## 选择结构\n",
    "if 与 elif 是并行的，一旦有一个执行了，剩下的就不执行了"
   ]
  },
  {
   "cell_type": "code",
   "execution_count": null,
   "id": "49c3aaf2",
   "metadata": {},
   "outputs": [],
   "source": [
    "age = input(\"请输入你的年龄：\")\n",
    "age = int(age)\n",
    "if age < 18:\n",
    "    print(\"未成年\")\n",
    "elif age >= 18 and age <35:\n",
    "    print(\"青年\")\n",
    "elif age >= 35 and age < 65:\n",
    "    print(\"中年人\")\n",
    "else:\n",
    "    print(\"老年人\")"
   ]
  },
  {
   "cell_type": "code",
   "execution_count": null,
   "id": "8954d9ca",
   "metadata": {},
   "outputs": [],
   "source": [
    "age = input(\"请输入你的年龄：\")\n",
    "age = int(age)\n",
    "if age < 18:\n",
    "    print(\"未成年\")\n",
    "elif age >=65:\n",
    "    print(\"老年人\")\n",
    "elif age >= 35:\n",
    "    if age < 65:\n",
    "        print(\"中年人\")\n",
    "elif age >= 18:\n",
    "    if age < 35:\n",
    "        print(\"青年\")"
   ]
  },
  {
   "cell_type": "code",
   "execution_count": null,
   "id": "987d2b86",
   "metadata": {},
   "outputs": [],
   "source": [
    "age = input(\"请输入你的年龄：\")\n",
    "age = int(age)\n",
    "if age < 18:\n",
    "    print(\"未成年\")\n",
    "elif age < 35:\n",
    "    print(\"青年\")\n",
    "elif age < 65:\n",
    "    print(\"中年人\")\n",
    "else:\n",
    "    print(\"老年人\")"
   ]
  },
  {
   "cell_type": "markdown",
   "id": "72a8a4ca",
   "metadata": {},
   "source": [
    "## 循环结构\n",
    "1. for语句  适用于精确知道循环次数的时候\n",
    "2. while语句 适用于不确定循环何时结束,只知道循环结束条件的时候\n",
    "\n",
    "循环结构多与range函数结合使用"
   ]
  },
  {
   "cell_type": "markdown",
   "id": "edb110c8",
   "metadata": {},
   "source": [
    "### for循环"
   ]
  },
  {
   "cell_type": "code",
   "execution_count": null,
   "id": "475e164f",
   "metadata": {},
   "outputs": [],
   "source": [
    "# 4.计算某一范围内的所有水仙花数c语言 水仙花数,也被称作自恋数或亲密数,是一种特殊的数字形式。\n",
    "# 它的定义是:一个 n 位数(n≥3),它的每个数字的 n 次幂之和等于它本身。153是一个水仙花数\n",
    "\n",
    "a = input(\"请输入起始数字(三位数):\")\n",
    "b = input(\"请输入结束数字(三位数):\")\n",
    "for i in range(int(a), int(b) + 1):\n",
    "    a, b, c = map(int, str(i))  # 将数字转换为字符串，然后将每个字符转换为整数\n",
    "    if a**3 + b**3 + c**3 == i:\n",
    "        print(i, \"是水仙花数\")"
   ]
  },
  {
   "cell_type": "code",
   "execution_count": null,
   "id": "03d74a9b",
   "metadata": {},
   "outputs": [],
   "source": [
    "# 鸡兔同笼：鸡和兔一个30，脚共90 问鸡兔各多少\n",
    "for kun in range(0,31):\n",
    "    if kun*2 + (30-kun)*4 == 90:\n",
    "        print(\"鸡有\",kun,\"只。兔子有\",30 - kun,\"只\")\n",
    "        break    #找到答案，跳出循环"
   ]
  },
  {
   "cell_type": "code",
   "execution_count": null,
   "id": "c015c9b2",
   "metadata": {},
   "outputs": [],
   "source": [
    "# 阿凡提与国王比赛下棋，国王说要是自己输了的话阿凡提想要什么他都可以拿得出来。\n",
    "# 阿凡提说那就要点米吧，棋盘一共64个小格子，在第一个格子里放1粒米，第二个格子里放2粒米，\n",
    "# 第三个格子里放4粒米，第四个格子里放8粒米，以此类推，后面每个格子里的米都是前一个格子里的2倍，\n",
    "# 一直把64个格子都放满。需要多少粒米呢?\n",
    "\n",
    "# 循环计算\n",
    "total = 0\n",
    "for i in range(0,64):\n",
    "    total += 2**i\n",
    "print(\"总共需要\", total, \"粒米\")\n",
    "\n",
    "# 或者使用列表\n",
    "total = []\n",
    "for i in range(0,64):\n",
    "    total.append(2**i)  # 将每个格子的米数添加到列表中  \n",
    "total = sum(total)  # 计算列表中所有元素的和\n",
    "print(\"总共需要\",total,\"粒米\")\n",
    "\n",
    "# 或者使用列表推导式\n",
    "total = [2**i for i in range(0,64)]\n",
    "print(\"总共需要\", sum(total), \"粒米\")"
   ]
  },
  {
   "cell_type": "markdown",
   "id": "9eebc7f0",
   "metadata": {},
   "source": [
    "### while循环"
   ]
  },
  {
   "cell_type": "code",
   "execution_count": null,
   "id": "5179d700",
   "metadata": {},
   "outputs": [],
   "source": [
    "num = 0\n",
    "i = 1\n",
    "while i < 10:\n",
    "    num += i\n",
    "    i += 1\n",
    "print(num)"
   ]
  },
  {
   "cell_type": "markdown",
   "id": "b582d1b8",
   "metadata": {},
   "source": [
    "### break 与 continue 与 for...else...特殊结构\n",
    "1. break 直接跳出当前循环\n",
    "2. continue 跳过当前迭代\n",
    "3. 当for循环没有被break打断时，执行else后面的代码"
   ]
  },
  {
   "cell_type": "code",
   "execution_count": null,
   "id": "c10a10ca",
   "metadata": {},
   "outputs": [],
   "source": [
    "# for item in iterable:\n",
    "#     # 循环体代码\n",
    "#     if condition:\n",
    "#         break\n",
    "# else:\n",
    "#     # 这里的else并不是否则的意思\n",
    "#     # 如果循环没有被break语句终止，则执行这里的代码"
   ]
  },
  {
   "cell_type": "code",
   "execution_count": null,
   "id": "49495bf7",
   "metadata": {},
   "outputs": [],
   "source": [
    "# 输出100以内的素数\n",
    "prime = list(range(2,100))\n",
    "n = 2\n",
    "for n in prime:\n",
    "    for i in range(2,int(n**0.5)+1):\n",
    "        if n % i == 0:\n",
    "            break\n",
    "    else:                            # python的特殊用法，else可以和for连用\n",
    "        print(n)"
   ]
  },
  {
   "cell_type": "code",
   "execution_count": null,
   "id": "bfd8f15b",
   "metadata": {},
   "outputs": [],
   "source": [
    "# 输出100以内的素数\n",
    "def is_prime(n):\n",
    "    \"\"\"判断一个数是否为素数\"\"\"\n",
    "    if n <= 1:\n",
    "        return False\n",
    "    for i in range(2, int(n ** 0.5) + 1):\n",
    "        if n % i == 0:\n",
    "            return False\n",
    "    return True\n",
    "\n",
    "# 输出100以内的素数\n",
    "primes = [num for num in range(2, 101) if is_prime(num)]\n",
    "print(\"100以内的素数:\", primes)"
   ]
  },
  {
   "cell_type": "markdown",
   "id": "b53f9253",
   "metadata": {},
   "source": [
    "## split()函数，reverse()函数，join()函数的应用"
   ]
  },
  {
   "cell_type": "code",
   "execution_count": null,
   "id": "063e5644",
   "metadata": {},
   "outputs": [],
   "source": [
    "# 反转语句,输入\"this is a dog\",输出\"dog a is this\"\n",
    "str1 = \"this is a dog\"\n",
    "words = str1.split()  # 将字符串分割成单词列表\n",
    "reversed_words = words[::-1]  # 反转单词列表\n",
    "\n",
    "#reversed_words = words.reverse()  # 另一种反转方法，反转列表\n",
    "\n",
    "reversed_str = ' '.join(reversed_words)  # 将反转后的单词列表重新连接成字符串\n",
    "print(reversed_str)"
   ]
  },
  {
   "cell_type": "code",
   "execution_count": null,
   "id": "7cbef706",
   "metadata": {},
   "outputs": [],
   "source": [
    "# 列表的切片\n",
    "lst = [10,28,78,12,89,65,76,23,19,88,69]\n",
    "lst[1]  # 取第二个元素\n",
    "lst[-1]  # 取最后一个元素\n",
    "lst[:]  # 全部元素\n",
    "lst[::]  # 全部元素\n",
    "lst[::2]  # 每隔一个元素取一个\n",
    "lst[::-1]  # 反转列表\n",
    "lst[7:1:-1] # 从第8个元素到第2个元素，每隔一个取一个"
   ]
  },
  {
   "cell_type": "code",
   "execution_count": null,
   "id": "9db29127",
   "metadata": {},
   "outputs": [],
   "source": [
    "from itertools import permutations\n",
    "\n",
    "for i in permutations([1, 2, 3, 4], 3):\n",
    "    k = ''\n",
    "    for j in range(0, len(i)):\n",
    "        k = k + str(i[j])\n",
    "    print (int(k))"
   ]
  }
 ],
 "metadata": {
  "kernelspec": {
   "display_name": "base",
   "language": "python",
   "name": "python3"
  },
  "language_info": {
   "codemirror_mode": {
    "name": "ipython",
    "version": 3
   },
   "file_extension": ".py",
   "mimetype": "text/x-python",
   "name": "python",
   "nbconvert_exporter": "python",
   "pygments_lexer": "ipython3",
   "version": "3.12.4"
  }
 },
 "nbformat": 4,
 "nbformat_minor": 5
}
