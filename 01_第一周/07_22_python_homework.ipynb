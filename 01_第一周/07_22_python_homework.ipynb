{
 "cells": [
  {
   "cell_type": "code",
   "execution_count": null,
   "id": "64b00b1e",
   "metadata": {},
   "outputs": [],
   "source": [
    "# 2.计算1+2+3+... + 100 的所有数字的平均值\n",
    "\n",
    "def demo2():\n",
    "    total = 0\n",
    "    for i in range(1,101):\n",
    "        total += i\n",
    "    return total / 100"
   ]
  },
  {
   "cell_type": "code",
   "execution_count": null,
   "id": "9f430a8d",
   "metadata": {},
   "outputs": [],
   "source": [
    "print(demo2())"
   ]
  },
  {
   "cell_type": "code",
   "execution_count": null,
   "id": "c315755b",
   "metadata": {},
   "outputs": [],
   "source": [
    "# 3.编写函数，计算形式如a + aa + aaa + aaaa + ... + aaa...aaa的表达式的值，\n",
    "# 其中a为小于10的自然数。\n",
    "\n",
    "def demo3(value,times):\n",
    "    result = 0\n",
    "    for i in range(1,times+1):\n",
    "        str1 = str(value) * i\n",
    "        result += int(str1)\n",
    "    return result\n"
   ]
  },
  {
   "cell_type": "code",
   "execution_count": null,
   "id": "e924cc55",
   "metadata": {},
   "outputs": [],
   "source": [
    "print(demo3(3,5))"
   ]
  },
  {
   "cell_type": "markdown",
   "id": "b8ee9f40",
   "metadata": {},
   "source": [
    "#### PAT-1002 写出这个数\n",
    "##### 字典的一种应用"
   ]
  },
  {
   "cell_type": "code",
   "execution_count": null,
   "id": "ecb4a01c",
   "metadata": {},
   "outputs": [],
   "source": [
    "# 4.输入一个正数，计算各个数位上的数字之和，并用汉语拼音返回和的各个位上的数\n",
    "\n",
    "def demo04(n):\n",
    "    lst = list(map(int,str(n)))\n",
    "    sum1 = sum(lst)\n",
    "    pinyin_dict = {\n",
    "        '0':'ling', '1':'yi', '2':'er', '3':'san',\n",
    "        '4':'si', '5':'wu', '6':'liu', '7':'qi',\n",
    "        '8':'ba', '9':'jiu'\n",
    "    }\n",
    "    pinyin_sum = [pinyin_dict[digit] for digit in str(sum1)]\n",
    "    return ' '.join(pinyin_sum)"
   ]
  },
  {
   "cell_type": "code",
   "execution_count": null,
   "id": "48f6049b",
   "metadata": {},
   "outputs": [],
   "source": [
    "print(demo04(1234))"
   ]
  },
  {
   "cell_type": "markdown",
   "id": "6a344e4b",
   "metadata": {},
   "source": [
    "1,2,3,4,5,6,7,8,9\n",
    "3,4,5,6,7,8,9,1,2 右移动7次，或者向左移动两次\n",
    "5,6,7,8,9,1,2,3,4 右移5次\n",
    "6,7,8,9,1,2,3,4,5 右移4次"
   ]
  },
  {
   "cell_type": "markdown",
   "id": "74055901",
   "metadata": {},
   "source": [
    "#### PAT-1008 平移数组元素"
   ]
  },
  {
   "cell_type": "code",
   "execution_count": null,
   "id": "8edfc846",
   "metadata": {},
   "outputs": [],
   "source": [
    "# 5.将数组A中的元素向右平移M次，最右边的元素移到最左边，要求不适用额外的数组空间。\n",
    "# 使用循环\n",
    "def right_shift(n, m):\n",
    "    lst = list(range(1,n+1))\n",
    "    m = m % n\n",
    "    if m <= (n/2):\n",
    "        for _ in range(m):\n",
    "            last_element = lst.pop()\n",
    "            lst.insert(0, last_element)\n",
    "        return lst\n",
    "    else:\n",
    "        for _ in range(n-m):\n",
    "            first_element = lst.pop(0)\n",
    "            lst.insert(n-1,first_element)\n",
    "        return lst\n",
    "    \n",
    "# 使用切片\n",
    "n,m = map(int,input().split())\n",
    "r = list(map(str,input())) # 使用map将输入的字符串转换为列表\n",
    "print(r)\n",
    "m = m%n\n",
    "print(r[n-m:],r[:n-m])\n",
    "r = r[n-m:] + r[:n-m]\n",
    "print(r)\n",
    "print(\" \".join(r))\n",
    "\n",
    "# 使用切片\n",
    "n,m = map(int,input().split())\n",
    "r = input().split()    # 使用split()将输入的字符串转换为列表，按空格分隔\n",
    "print(r)\n",
    "m = m%n\n",
    "print(r[n-m:],r[:n-m])\n",
    "r = r[n-m:] + r[:n-m]\n",
    "print(r)\n",
    "print(\" \".join(r))"
   ]
  },
  {
   "cell_type": "code",
   "execution_count": null,
   "id": "2d29499f",
   "metadata": {},
   "outputs": [],
   "source": [
    "# 当n=0，lst是空列表，直接输出空格\n",
    "# 当n=m，且n!=0，lst是原列表，直接输出原列表\n",
    "# 当n!=0 and n!=m，lst是原列表，将lst的最后m个元素和前n-m个元素进行拼接，输出拼接后的列表\n",
    "n, m = map(int,input().split())\n",
    "lst = list(map(int,input().split()))\n",
    "if n == 0:\n",
    "    print()\n",
    "else:\n",
    "    m = m % n\n",
    "    if m == 0:\n",
    "        print(\" \".join(map(str,lst)))\n",
    "    else:\n",
    "        lst = lst[-m:] + lst[:n-m]\n",
    "        print(\" \".join(map(str,lst)))"
   ]
  },
  {
   "cell_type": "code",
   "execution_count": null,
   "id": "5522e333",
   "metadata": {},
   "outputs": [],
   "source": [
    "lst = [1, 2, 3, 4, 5]\n",
    "print(\" \".join(lst))"
   ]
  },
  {
   "cell_type": "code",
   "execution_count": null,
   "id": "05c7932c",
   "metadata": {},
   "outputs": [],
   "source": [
    "print(right_shift(9,8))"
   ]
  },
  {
   "cell_type": "markdown",
   "id": "7e9a0a0a",
   "metadata": {},
   "source": [
    "#### PAT-1003 我要通过"
   ]
  },
  {
   "cell_type": "code",
   "execution_count": null,
   "id": "8afc5ae8",
   "metadata": {},
   "outputs": [],
   "source": [
    "#这道题目要求我们判断给定的字符串是否符合特定的规则，从而决定是否输出\"YES\"或\"NO\"。\n",
    "# 题目条件解析\n",
    "# 根据题目描述，\"答案正确\"的字符串必须满足以下条件：\n",
    "# 字符限制：字符串只能包含'P'、'A'、'T'三种字符，不能有其他字符\n",
    "# 基本模式：形如\"xPATx\"的字符串是正确的，其中x是空字符串或仅由'A'组成的字符串\n",
    "# 扩展规则：如果\"aPbTc\"是正确的，那么\"aPbATca\"也是正确的（其中a、b、c是空字符串或仅由'A'组成的字符串）\n",
    "\n",
    "# 解题思路\n",
    "# 经过分析，我们可以发现有效的字符串必须满足以下数学关系：\n",
    "# 字符串中必须有且仅有一个'P'和一个'T'\n",
    "# 'P'必须在'T'之前\n",
    "# 'P'和'T'之间至少有一个'A'\n",
    "# 设'P'前面的'A'数量为a，'P'和'T'之间的'A'数量为b，'T'后面的'A'数量为c，则必须满足：a × b = c\n",
    "\n",
    "def is_valid_string(s):\n",
    "    if s.count('P') != 1 or s.count('T') != 1:\n",
    "        return \"NO\"\n",
    "    \n",
    "    if s.count('A') == 0:\n",
    "        return \"NO\"\n",
    "\n",
    "    p_index = s.index('P')\n",
    "    t_index = s.index('T')\n",
    "    \n",
    "    if p_index > t_index:\n",
    "        return \"NO\"\n",
    "    \n",
    "    a_before_p = p_index\n",
    "    a_between_p_t = t_index - p_index - 1\n",
    "    a_after_t = len(s) - t_index - 1\n",
    "    \n",
    "    if a_before_p * a_between_p_t == a_after_t:\n",
    "        return \"YES\"\n",
    "    else:\n",
    "        return \"NO\""
   ]
  },
  {
   "cell_type": "code",
   "execution_count": null,
   "id": "3fb45a67",
   "metadata": {},
   "outputs": [],
   "source": [
    "print(is_valid_string(\"AAAPATAAA\"))  # 输出: YES\n",
    "print(is_valid_string(\"TAP\"))  # 输出: YES\n",
    "print(is_valid_string(\"AAAPATAAA\"))  # 输出: YES\n",
    "print(is_valid_string(\"xPATx\"))  # 输出: NO"
   ]
  },
  {
   "cell_type": "markdown",
   "id": "8e99b74a",
   "metadata": {},
   "source": []
  },
  {
   "cell_type": "markdown",
   "id": "a597243a",
   "metadata": {},
   "source": [
    "\n",
    "这道题目要求我们将多段绳子通过特定的方式连接起来，使得最终绳子的长度最大。每次连接时，需要将两段绳子对折后再连接，这意味着每次连接后绳子的长度会减半。\n",
    "\n",
    "问题理解\n",
    "连接规则：每次连接两段绳子时，先将两段绳子各自对折（长度减半），然后将它们连接起来。\n",
    "例如：连接长度为10和12的绳子，先各自减半得到5和6，连接后总长度为5+6=11\n",
    "多次连接：连接后的绳子可以继续与其他绳子连接，每次连接都需要对折。\n",
    "目标：找出一种连接顺序，使得最终绳子的长度最大。\n",
    "\n",
    "解题思路\n",
    "通过分析可以发现，越晚被连接的绳子被对折的次数越少，因此长度损失越小。为了使最终长度最大，我们应该：\n",
    "优先连接最短的绳子：这样较长的绳子会被对折较少次数，保留更多长度。\n",
    "使用优先队列（最小堆）：高效地获取当前最短的两段绳子进行连接。\n",
    "\n",
    "用到了列表的排序和贪心算法来实现这个问题。我们可以通过不断取出最短的两段绳子进行连接，直到只剩下一段绳子为止。\n",
    "\n",
    "使用的函数：\n",
    "### lst.sort() \n",
    "内置函数sort(),可对列表进行排序,默认是升序排列。lst.sort(reverse=True) 降序排序\n",
    "### lst.pop()  \n",
    "内置函数pop(index),可删除列表对应索引处的值\n",
    "\n",
    "pop() 方法用于移除列表中的一个元素，并返回该元素的值。\n",
    "\n",
    "默认情况下（即不传递参数时），pop() 会删除并返回列表的最后一个元素。\n",
    "### math.floor(num)  \n",
    "需要导包 import math。向下取整"
   ]
  },
  {
   "cell_type": "code",
   "execution_count": null,
   "id": "274476eb",
   "metadata": {},
   "outputs": [],
   "source": [
    "\n",
    "import math\n",
    "\n",
    "def demo(lst):\n",
    "    \"\"\"使用贪心算法连接绳子\"\"\"\n",
    "    lst.sort()  # 首先对绳子长度进行排序\n",
    "    total_length = 0\n",
    "    while len(lst) > 1:\n",
    "        # 取出最短的两段绳子\n",
    "        first = lst.pop(0)\n",
    "        second = lst.pop(0)\n",
    "        # 对折后连接\n",
    "        total_length += (first / 2 + second / 2)\n",
    "        # 将连接后的绳子重新加入列表\n",
    "        lst.append(first / 2 + second / 2)\n",
    "        lst.sort()  # 重新排序\n",
    "    return math.floor(lst[0]) # 返回最终绳子的长度，向下取整"
   ]
  },
  {
   "cell_type": "code",
   "execution_count": null,
   "id": "94008140",
   "metadata": {},
   "outputs": [],
   "source": [
    "lst = [10,15,12,3,4,13,1,15]\n",
    "print(demo(lst))  # 输出: 最大绳子长度,14"
   ]
  }
 ],
 "metadata": {
  "kernelspec": {
   "display_name": "base",
   "language": "python",
   "name": "python3"
  },
  "language_info": {
   "codemirror_mode": {
    "name": "ipython",
    "version": 3
   },
   "file_extension": ".py",
   "mimetype": "text/x-python",
   "name": "python",
   "nbconvert_exporter": "python",
   "pygments_lexer": "ipython3",
   "version": "3.12.4"
  }
 },
 "nbformat": 4,
 "nbformat_minor": 5
}
