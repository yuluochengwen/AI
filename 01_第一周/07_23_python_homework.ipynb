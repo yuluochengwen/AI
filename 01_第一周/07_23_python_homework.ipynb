{
 "cells": [
  {
   "cell_type": "markdown",
   "id": "a572329f",
   "metadata": {},
   "source": [
    "### PAT-1004 成绩排名\n",
    "\n",
    "sort()函数与lambda的应用\n",
    "\n",
    "输出成绩最高和成绩最低的学生的姓名和学号\n",
    "\n",
    "这里用到了sort()函数的key参数，key参数一般出现在对二维列表的排序中，详细使用请参考代码"
   ]
  },
  {
   "cell_type": "code",
   "execution_count": null,
   "id": "0283b2b6",
   "metadata": {},
   "outputs": [],
   "source": [
    "def demo_01(lst):\n",
    "    lst.sort(key=lambda x: int(x[2]))    # 按照内层列表的第三个元素进行排序\n",
    "    print(lst[-1][0],lst[-1][1])\n",
    "    print(lst[0][0],lst[0][1])\n"
   ]
  },
  {
   "cell_type": "code",
   "execution_count": null,
   "id": "f097638a",
   "metadata": {},
   "outputs": [],
   "source": [
    "# 测试函数\n",
    "lst = [\n",
    "    [\"zhangsan\",\"EEE123\",88],\n",
    "    [\"lisi\",\"2200404001\",40],\n",
    "    [\"Tom\",\"AI20250723\",90],\n",
    "    [\"lihua\",\"123456\",70]\n",
    "]\n",
    "\n",
    "demo_01(lst)"
   ]
  },
  {
   "cell_type": "code",
   "execution_count": null,
   "id": "76692ebb",
   "metadata": {},
   "outputs": [],
   "source": [
    "# 成绩排序\n",
    "n = int(input(\"请输入学生数量:\"))\n",
    "student_lst = []\n",
    "for i in range(n):\n",
    "    student = input(\"请输入学生姓名，学号，成绩(以空格分隔):\").split()\n",
    "    student_lst.append(student)\n",
    "demo_01(student_lst)"
   ]
  },
  {
   "cell_type": "code",
   "execution_count": null,
   "id": "02d7c375",
   "metadata": {},
   "outputs": [],
   "source": [
    "# 另一种写法\n",
    "n = int(input())\n",
    "students = []\n",
    "\n",
    "for _ in range(n):\n",
    "    name, sid, score = input().split()\n",
    "    students.append((name, sid, int(score)))\n",
    "\n",
    "# 按成绩排序\n",
    "students.sort(key=lambda x: x[2])\n",
    "\n",
    "# 最高分和最低分的学生\n",
    "highest = students[-1]\n",
    "lowest = students[0]\n",
    "\n",
    "print(highest[0], highest[1])\n",
    "print(lowest[0], lowest[1])"
   ]
  },
  {
   "cell_type": "markdown",
   "id": "fa96ae81",
   "metadata": {},
   "source": [
    "### PAT-1018 石头剪刀布游戏"
   ]
  },
  {
   "cell_type": "markdown",
   "id": "6984d1d7",
   "metadata": {},
   "source": [
    "C J\n",
    "J B\n",
    "C B\n",
    "B B\n",
    "B C\n",
    "C C\n",
    "C B\n",
    "J B\n",
    "B C\n",
    "J J"
   ]
  },
  {
   "cell_type": "code",
   "execution_count": null,
   "id": "95185dce",
   "metadata": {},
   "outputs": [],
   "source": [
    "n = int(input())\n",
    "jia_C_win = 0\n",
    "jia_J_win = 0\n",
    "jia_B_win = 0\n",
    "eq = 0\n",
    "yi_C_win = 0\n",
    "yi_J_win = 0\n",
    "yi_B_win = 0\n",
    "for i in range(n):\n",
    "    a = input().split()\n",
    "    if a[0] == \"C\" and a[1] == \"J\":\n",
    "        jia_C_win += 1\n",
    "    elif a[0] == \"J\" and a[1] == \"B\":\n",
    "        jia_J_win += 1\n",
    "    elif a[0] == \"B\" and a[1] == \"C\":\n",
    "        jia_B_win += 1\n",
    "    elif a[1] == \"C\" and a[0] == \"J\":\n",
    "        yi_C_win += 1\n",
    "    elif a[1] == \"J\" and a[0] == \"B\":\n",
    "        yi_J_win += 1\n",
    "    elif a[1] == \"B\" and a[0] == \"C\":\n",
    "        yi_B_win += 1\n",
    "    else:\n",
    "        eq += 1\n",
    "\n",
    "print(jia_C_win+jia_B_win+jia_J_win,eq,n-jia_J_win-jia_B_win-jia_C_win)\n",
    "print(yi_B_win+yi_B_win+jia_J_win,eq,n-yi_B_win-yi_C_win-yi_J_win)\n",
    "\n",
    "if jia_B_win >= jia_C_win and jia_B_win >= jia_J_win:\n",
    "    print(\"B\")   \n",
    "elif jia_C_win >= jia_B_win and jia_C_win >= jia_J_win:\n",
    "    print(\"C\")\n",
    "else:\n",
    "    print(\"J\")   \n",
    "\n",
    "if yi_B_win >= yi_C_win and yi_B_win >= yi_J_win:\n",
    "    print(\"B\")   \n",
    "elif yi_C_win >= yi_B_win and yi_C_win >= yi_J_win:\n",
    "    print(\"C\")\n",
    "else:\n",
    "    print(\"J\")"
   ]
  }
 ],
 "metadata": {
  "kernelspec": {
   "display_name": "base",
   "language": "python",
   "name": "python3"
  },
  "language_info": {
   "codemirror_mode": {
    "name": "ipython",
    "version": 3
   },
   "file_extension": ".py",
   "mimetype": "text/x-python",
   "name": "python",
   "nbconvert_exporter": "python",
   "pygments_lexer": "ipython3",
   "version": "3.12.4"
  }
 },
 "nbformat": 4,
 "nbformat_minor": 5
}
