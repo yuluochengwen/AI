{
 "cells": [
  {
   "cell_type": "markdown",
   "id": "68e15788",
   "metadata": {},
   "source": [
    "#### 列表 (list)\n",
    "可变有序变量，可通过下标查找表内元素，但速度相对较慢"
   ]
  },
  {
   "cell_type": "code",
   "execution_count": 7,
   "id": "571eb501",
   "metadata": {},
   "outputs": [
    {
     "name": "stdout",
     "output_type": "stream",
     "text": [
      "None\n"
     ]
    }
   ],
   "source": [
    "# 创建列表\n",
    "lst = []\n",
    "lst1 = list()\n",
    "\n",
    "# 列表的尾插  lst.append(value)\n",
    "lst.append(1)\n",
    "\n",
    "# 列表的插入   lst.insert(index,value)\n",
    "lst.insert(1, 2)\n",
    "\n",
    "# 列表的元素的删除 lst.pop(index) 删除对应下标的元素，并返回删除的值，默认删除最后\n",
    "i = lst.pop(1)\n",
    "\n",
    "# 列表的元素的删除 lst.remove(value) 删除第一个匹配的元素，在原表上进行操作，无返回值\n",
    "lst.remove(2)\n",
    "\n",
    "# 列表的元素的查找 lst.index(value)  返回元素下标\n",
    "ind = lst.index(1)\n",
    "\n",
    "# 列表的元素的计数 lst.count(value)  返回元素出现的次数\n",
    "count = lst.count(1)\n",
    "\n",
    "# 列表的元素的排序 lst.sort()  原地排序，无返回值\n",
    "lst.sort()\n",
    "\n",
    "# 列表的元素的反转 lst[::-1]  原地反转，返回反转后的列表\n",
    "lst_reverse = lst[::-1]\n",
    "\n",
    "# 列表的元素的复制 lst.copy()  复制列表，返回复制后的列表\n",
    "lst_copy = lst.copy()\n",
    "\n",
    "# 列表的元素的遍历 for item in lst:  遍历列表，item为当前元素\n",
    "\n",
    "\n"
   ]
  },
  {
   "cell_type": "markdown",
   "id": "0472dbb6",
   "metadata": {},
   "source": [
    "#### 集合 (set)\n",
    "不重复无序的元素的集合。"
   ]
  },
  {
   "cell_type": "code",
   "execution_count": 13,
   "id": "2040b267",
   "metadata": {},
   "outputs": [
    {
     "name": "stdout",
     "output_type": "stream",
     "text": [
      "{1, 2, 3, 4}\n",
      "{2, 3}\n",
      "{1}\n"
     ]
    }
   ],
   "source": [
    "# 创建空集合\n",
    "empty_set = set()     # 并非是empty_set = {}，这是创建空字典的语法\n",
    "\n",
    "# 添加元素 s.add(element)   # 一次只能添加一个元素\n",
    "empty_set.add(1)\n",
    "empty_set.add(2)\n",
    "\n",
    "# 移除元素 s.remove(element)\n",
    "empty_set.remove(1)\n",
    "\n",
    "# 添加元素 s.update(iterable)    # 可一次添加多个元素\n",
    "empty_set.update([3, 4, 5])\n",
    "\n",
    "# 移除元素 s.remove(element)\n",
    "empty_set.remove(2)\n",
    "\n",
    "# 移除元素 s.discard(element)\n",
    "empty_set.discard(3)\n",
    "\n",
    "# 移除元素 s.pop()\n",
    "empty_set.pop()\n",
    "\n",
    "# 集合运算\n",
    "set1 = {1, 2, 3}\n",
    "set2 = {2, 3, 4}\n",
    "\n",
    "# 并集 s.union(other_set)\n",
    "union_set = set1.union(set2)\n",
    "print(union_set)\n",
    "\n",
    "# 交集 s.intersection(other_set)\n",
    "intersection_set = set1.intersection(set2)\n",
    "print(intersection_set)\n",
    "\n",
    "# 差集 s.difference(other_set)\n",
    "difference_set = set1.difference(set2)\n",
    "print(difference_set)\n",
    "\n",
    "# 对称差集 s.symmetric_difference(other_set)\n",
    "symmetric_difference_set = set1.symmetric_difference(set2)"
   ]
  },
  {
   "cell_type": "code",
   "execution_count": null,
   "id": "6296bb55",
   "metadata": {},
   "outputs": [],
   "source": [
    "# 寻找缺失按键\n",
    "expected = input().strip().upper()\n",
    "actual = input().strip().upper()\n",
    "\n",
    "# 使用集合差集找出坏键\n",
    "broken_set = set(expected) - set(actual)\n",
    "\n",
    "broken_keys = []\n",
    "seen = set()\n",
    "\n",
    "for char in expected:\n",
    "    if char in broken_set and char not in seen:\n",
    "        \n",
    "        broken_keys.append(char)\n",
    "        seen.add(char)\n",
    "\n",
    "print(''.join(broken_keys))"
   ]
  },
  {
   "cell_type": "code",
   "execution_count": 27,
   "id": "2c125d51",
   "metadata": {},
   "outputs": [
    {
     "name": "stdout",
     "output_type": "stream",
     "text": [
      "7 T I\n"
     ]
    }
   ],
   "source": [
    "# 寻找缺失按键 双指针法\n",
    "\n",
    "expected_keys = list(map(str,input().upper()))\n",
    "actual_keys = list(map(str,input().upper()))\n",
    "missing_keys = []\n",
    "i, j = 0, 0\n",
    "while j <= len(actual_keys)-1:\n",
    "    if expected_keys[i] == actual_keys[j]:\n",
    "        i += 1\n",
    "        j += 1\n",
    "    else:\n",
    "           # 确保expected_keys[i]在actual_keys[j:]中不存在 # 避免重复添加\n",
    "        if expected_keys[i] not in actual_keys[j:]        and expected_keys[i] not in missing_keys:\n",
    "            missing_keys.append(expected_keys[i])\n",
    "        i += 1\n",
    "while i <= len(expected_keys)-1:\n",
    "    if expected_keys[i] not in missing_keys:\n",
    "        missing_keys.append(expected_keys[i])\n",
    "    i+=1\n",
    "\n",
    "print(\"\".join(missing_keys))"
   ]
  },
  {
   "cell_type": "markdown",
   "id": "9a21cb9b",
   "metadata": {},
   "source": [
    "#### zip(a,b)"
   ]
  },
  {
   "cell_type": "code",
   "execution_count": 10,
   "id": "5f3ef25e",
   "metadata": {},
   "outputs": [
    {
     "name": "stdout",
     "output_type": "stream",
     "text": [
      "<class 'zip'>\n",
      "[(1, 4), (2, 5), (3, 6)]\n"
     ]
    }
   ],
   "source": [
    "alst = [1,2,3]\n",
    "blst = [4,5,6]\n",
    "clst = zip(alst,blst)\n",
    "print(type(clst))\n",
    "print(list(clst))\n"
   ]
  }
 ],
 "metadata": {
  "kernelspec": {
   "display_name": "base",
   "language": "python",
   "name": "python3"
  },
  "language_info": {
   "codemirror_mode": {
    "name": "ipython",
    "version": 3
   },
   "file_extension": ".py",
   "mimetype": "text/x-python",
   "name": "python",
   "nbconvert_exporter": "python",
   "pygments_lexer": "ipython3",
   "version": "3.12.4"
  }
 },
 "nbformat": 4,
 "nbformat_minor": 5
}
