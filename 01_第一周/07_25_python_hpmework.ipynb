{
 "cells": [
  {
   "cell_type": "markdown",
   "id": "ecc46478",
   "metadata": {},
   "source": [
    "### 汉诺塔游戏\n",
    "\n",
    "思路：\n",
    "\n",
    "n为盘子数量，将盘子从上到下编号，将最上面n—1个盘子视为整体N 最下面第n个盘子单独为一个整体，问题简化为了移动两个盘子的过程。\n",
    "\n",
    "移动过程：\n",
    "N: A -> B\n",
    "n: A -> C\n",
    "N: B -> C\n",
    "\n",
    "此时，如果真的是两个盘子，那么我们就做完了。但事实是，N是n-1个盘子。所以，我们要想办法将N: A->B和N: B->C这两个动作实现出来。\n",
    "\n",
    "第一步：将N: A->B进行实现。我们发现，此时不论你怎么移送盘子，都不会违背小在上的规则(C柱上那个盘子最大)，那么我们就可以将另外两个柱子视为空柱，此时只要将B柱跟C柱交换位置，就将问题简化为了最标准的汉诺塔问题。\n",
    "\n",
    "至于如何在代码中实现交换柱子的操作，我们可以直接在move(n,a,b,c)函数中，将参数b和c交换位置即可，因为a，b，c三个参数重要的只是它们的位置，而不是abc本身。"
   ]
  },
  {
   "cell_type": "code",
   "execution_count": 4,
   "id": "8b99d73d",
   "metadata": {},
   "outputs": [
    {
     "name": "stdout",
     "output_type": "stream",
     "text": [
      "A --> C\n",
      "A --> B\n",
      "C --> B\n",
      "A --> C\n",
      "B --> A\n",
      "B --> C\n",
      "A --> C\n"
     ]
    }
   ],
   "source": [
    "# 汉诺塔游戏\n",
    "\n",
    "def move(n, a, b, c):\n",
    "    if n == 1:\n",
    "        print(a, '-->', c)\n",
    "    else:\n",
    "        move(n-1, a, c, b)\n",
    "        print(a, '-->', c)\n",
    "        move(n-1, b, a, c)\n",
    "\n",
    "n = int(input('请输入汉诺塔的层数：'))\n",
    "move(n, 'A', 'B', 'C')\n"
   ]
  },
  {
   "cell_type": "markdown",
   "id": "a87770fa",
   "metadata": {},
   "source": [
    "### 走迷宫游戏"
   ]
  },
  {
   "cell_type": "code",
   "execution_count": null,
   "id": "d4f5f6df",
   "metadata": {},
   "outputs": [],
   "source": [
    "# 走迷宫游戏"
   ]
  }
 ],
 "metadata": {
  "kernelspec": {
   "display_name": "base",
   "language": "python",
   "name": "python3"
  },
  "language_info": {
   "codemirror_mode": {
    "name": "ipython",
    "version": 3
   },
   "file_extension": ".py",
   "mimetype": "text/x-python",
   "name": "python",
   "nbconvert_exporter": "python",
   "pygments_lexer": "ipython3",
   "version": "3.12.4"
  }
 },
 "nbformat": 4,
 "nbformat_minor": 5
}
