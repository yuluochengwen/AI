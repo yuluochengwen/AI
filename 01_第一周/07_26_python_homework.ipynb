{
 "cells": [
  {
   "cell_type": "markdown",
   "id": "b89d58d7",
   "metadata": {},
   "source": [
    "#### PAT-1012 数字分类\n",
    "思路：使用字典存储A的中间值，然后对字典内的中间量进行加工，得到最终的分类结果。\n",
    "\n",
    "##### 本题中使用了之前未见过的round()函数，round(float，x)函数用于四舍五入，将浮点数转换为对应小数位x的整数。"
   ]
  },
  {
   "cell_type": "code",
   "execution_count": null,
   "id": "816e33fa",
   "metadata": {},
   "outputs": [],
   "source": [
    "i = list(map(int, input().split()))\n",
    "nums = i[1:]\n",
    "result = {1:0, 2:[], 3:0, 4:[], 5:[]}\n",
    "for num in nums:\n",
    "    if num % 10 == 0:\n",
    "        result[1] += num\n",
    "    elif num % 5 == 1:\n",
    "        result[2].append(num)\n",
    "    elif num % 5 == 2:\n",
    "        result[3] += 1\n",
    "    elif num % 5 == 3:\n",
    "        result[4].append(num)\n",
    "    elif num % 5 == 4:\n",
    "        result[5].append(num)\n",
    "\n",
    "# 对A1进行处理\n",
    "result[1] = \"N\" if result[1] == 0 else result[1]\n",
    "\n",
    "# 对A2进行处理\n",
    "result2 = 0\n",
    "if len(result[2]) == 0:\n",
    "    result[2] = \"N\"\n",
    "else:\n",
    "    for i in range(len(result[2])):\n",
    "        if i % 2 == 0:\n",
    "            result2 += result[2][i]\n",
    "        else:\n",
    "            result2 -= result[2][i]\n",
    "    result[2] = result2\n",
    "\n",
    "# 对A3进行处理\n",
    "result[3] = \"N\" if result[3] == 0 else result[3]\n",
    "\n",
    "# 对A4进行处理\n",
    "result[4] = round(sum(result[4]) / len(result[4]),1) if len(result[4]) > 0 else \"N\"\n",
    "\n",
    "# 对A5进行处理\n",
    "result[5] = max(result[5]) if len(result[5]) > 0 else \"N\"\n",
    "\n",
    "# 输出结果\n",
    "print(\" \".join(map(str, result.values() if result.values() != 0 else \"N\")))"
   ]
  },
  {
   "cell_type": "code",
   "execution_count": null,
   "id": "97901bdb",
   "metadata": {},
   "outputs": [],
   "source": [
    "def pat_1012():\n",
    "    import sys\n",
    "    input_data = sys.stdin.read().split()\n",
    "    \n",
    "    n = int(input_data[0])\n",
    "    numbers = list(map(int, input_data[1:n+1]))\n",
    "    \n",
    "    a1, a2, a3, a4, a5 = 0, 0, 0, 0, 0\n",
    "    a2_count = 0  # 用于A2的交错加减\n",
    "    a4_count = 0  # 用于A4的计数\n",
    "    \n",
    "    for num in numbers:\n",
    "        remainder = num % 5\n",
    "        if remainder == 0:\n",
    "            if num % 2 == 0:\n",
    "                a1 += num\n",
    "        elif remainder == 1:\n",
    "            a2 += num * (-1) ** a2_count  # 使用-1的次方来实现交错加减，比循环更快更优雅\n",
    "            a2_count += 1\n",
    "        elif remainder == 2:\n",
    "            a3 += 1\n",
    "        elif remainder == 3:\n",
    "            a4 += num\n",
    "            a4_count += 1\n",
    "        elif remainder == 4:\n",
    "            if num > a5:\n",
    "                a5 = num\n",
    "    \n",
    "    # 处理输出\n",
    "    results = []\n",
    "    results.append(str(a1) if a1 != 0 else \"N\")\n",
    "    results.append(str(a2) if a2_count != 0 else \"N\")\n",
    "    results.append(str(a3) if a3 != 0 else \"N\")\n",
    "    results.append(f\"{a4/a4_count:.1f}\" if a4_count != 0 else \"N\")\n",
    "    results.append(str(a5) if a5 != 0 else \"N\")\n",
    "    \n",
    "    print(\" \".join(results))\n",
    "\n",
    "pat_1012()"
   ]
  },
  {
   "cell_type": "markdown",
   "id": "dab470b5",
   "metadata": {},
   "source": [
    "#### PAT-1016 部分A+B"
   ]
  },
  {
   "cell_type": "code",
   "execution_count": null,
   "id": "a394b8c1",
   "metadata": {},
   "outputs": [],
   "source": [
    "def pat_1016():\n",
    "    A, Da, B, Db = input().split()\n",
    "    Pa = int(Da*A.count(Da) if Da in A else 0)\n",
    "    Pb = int(Db*B.count(Db) if Db in B else 0)\n",
    "    print(Pa+Pb)\n",
    "\n",
    "pat_1016()"
   ]
  },
  {
   "cell_type": "markdown",
   "id": "50d23fed",
   "metadata": {},
   "source": [
    "#### PAT-1026 程序运行时间\n",
    "##### get到新知识：round()函数使用银行家舍入法，四舍六入五成双。即0.5的部分会向靠近偶数的位置进位，比如0.5会取0"
   ]
  },
  {
   "cell_type": "code",
   "execution_count": null,
   "id": "38dbeb78",
   "metadata": {},
   "outputs": [
    {
     "name": "stdout",
     "output_type": "stream",
     "text": [
      "12:42:59\n"
     ]
    }
   ],
   "source": [
    "import math\n",
    "c1, c2 = map(int,input().split())\n",
    "tick = c2 - c1\n",
    "s = tick / 100\n",
    "h = round(s // 3600)\n",
    "m = round((s % 3600) // 60)\n",
    "def strict_round(number):\n",
    "    if number - math.floor(number) >= 0.5:\n",
    "        return math.ceil(number)\n",
    "    else:\n",
    "        return math.floor(number)\n",
    "s = strict_round(s % 60)\n",
    "print(f\"{h:02d}:{m:02d}:{s:02d}\")"
   ]
  },
  {
   "cell_type": "markdown",
   "id": "b06a61eb",
   "metadata": {},
   "source": [
    "#### PAT-1023 组最小数字"
   ]
  },
  {
   "cell_type": "code",
   "execution_count": 1,
   "id": "2cd69693",
   "metadata": {},
   "outputs": [
    {
     "name": "stdout",
     "output_type": "stream",
     "text": [
      "10015558\n"
     ]
    }
   ],
   "source": [
    "num_times = list(map(int, input().split()))\n",
    "x = \"0123456789\"\n",
    "str1 = \"\"\n",
    "for i in range(10):\n",
    "    if num_times[i] != 0:\n",
    "        str1 += x[i]*num_times[i]\n",
    "\n",
    "nums = list(map(int, str1))\n",
    "\n",
    "nums.sort()\n",
    "for i in range(len(nums)):\n",
    "    if nums[i] != 0:\n",
    "        nums.insert(0, nums.pop(i))\n",
    "        break\n",
    "print(\"\".join(map(str, nums)))"
   ]
  },
  {
   "cell_type": "code",
   "execution_count": 12,
   "id": "f7d4daaa",
   "metadata": {},
   "outputs": [
    {
     "name": "stdout",
     "output_type": "stream",
     "text": [
      "10015558\n"
     ]
    }
   ],
   "source": [
    "num_times = list(map(int, input().split()))\n",
    "x = \"0123456789\"\n",
    "str1 = \"\"\n",
    "for i in range(10):\n",
    "    if num_times[i] != 0:\n",
    "        str1 += x[i]*num_times[i]\n",
    "\n",
    "nums = list(str1)\n",
    "\n",
    "nums.sort()\n",
    "for i in range(len(nums)):\n",
    "    if nums[i] != \"0\":\n",
    "        nums.insert(0, nums.pop(i))\n",
    "        break\n",
    "print(\"\".join(map(str,nums)))"
   ]
  },
  {
   "cell_type": "markdown",
   "id": "980d0146",
   "metadata": {},
   "source": [
    "#### PAT-1020 月饼"
   ]
  },
  {
   "cell_type": "code",
   "execution_count": null,
   "id": "3095f7af",
   "metadata": {},
   "outputs": [
    {
     "name": "stdout",
     "output_type": "stream",
     "text": [
      "{0: {'weight': 18, 'price': 75, 'unitprice': 4.17}, 1: {'weight': 15, 'price': 72, 'unitprice': 4.8}, 2: {'weight': 10, 'price': 45, 'unitprice': 4.5}}\n"
     ]
    }
   ],
   "source": [
    "# 尝试使用字典存储每种月饼的重量、价格和单价\n",
    "mooncakes_dict = {}\n",
    "kinds, demand = map(int, input().split())\n",
    "weight = list(map(int, input().split()))\n",
    "price = list(map(int, input().split()))\n",
    "for i in range(kinds):\n",
    "    mooncakes_dict[i] = {'weight': weight[i], 'price': price[i],\"unitprice\": round(price[i]/weight[i],2)}\n",
    "sorted_mooncakes = sorted(mooncakes_dict.items(), key=lambda x: x[1]['unitprice'])\n",
    "print(mooncakes_dict)"
   ]
  },
  {
   "cell_type": "code",
   "execution_count": null,
   "id": "ab924805",
   "metadata": {},
   "outputs": [
    {
     "name": "stdout",
     "output_type": "stream",
     "text": [
      "[(15, 72, 4.8), (10, 45, 4.5), (18, 75, 4.166666666666667)]\n",
      "158.67\n"
     ]
    }
   ],
   "source": [
    "# 尝试使用列表,终极答案\n",
    "kinds, demand = map(int, input().split())\n",
    "weight = list(map(float, input().split()))\n",
    "price = list(map(float, input().split()))\n",
    "\n",
    "MC_lst = []\n",
    "unitprice = []\n",
    "\n",
    "# 计算单价\n",
    "for i in range(kinds):\n",
    "    unitprice.append(price[i]/weight[i])\n",
    "MC_lst = list(zip(weight, price, unitprice))\n",
    "\n",
    "# 按单价降序排序\n",
    "MC_lst.sort(key=lambda x: x[2], reverse=True)\n",
    "\n",
    "# 计算最大利润\n",
    "total = 0\n",
    "\n",
    "for i in range(kinds):\n",
    "    # 当需求为零时，停止循环\n",
    "    if demand == 0:\n",
    "        break\n",
    "    if MC_lst[i][0] <= demand:\n",
    "        total = total + MC_lst[i][1]\n",
    "        demand = demand - MC_lst[i][0]\n",
    "    elif MC_lst[i][0] > demand:\n",
    "        total = total + MC_lst[i][2] * demand\n",
    "        break\n",
    "\n",
    "\n",
    "print(f\"{total:.2f}\")\n"
   ]
  }
 ],
 "metadata": {
  "kernelspec": {
   "display_name": "base",
   "language": "python",
   "name": "python3"
  },
  "language_info": {
   "codemirror_mode": {
    "name": "ipython",
    "version": 3
   },
   "file_extension": ".py",
   "mimetype": "text/x-python",
   "name": "python",
   "nbconvert_exporter": "python",
   "pygments_lexer": "ipython3",
   "version": "3.12.4"
  }
 },
 "nbformat": 4,
 "nbformat_minor": 5
}
