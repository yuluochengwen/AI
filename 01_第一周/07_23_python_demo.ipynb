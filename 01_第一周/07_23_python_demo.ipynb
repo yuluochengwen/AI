{
 "cells": [
  {
   "cell_type": "markdown",
   "id": "c8cb8687",
   "metadata": {},
   "source": [
    "#### 数字之和\n",
    "输入一个正数，计算各个数位上的数字之和，并用汉语拼音返回和的各个位上的数"
   ]
  },
  {
   "cell_type": "code",
   "execution_count": null,
   "id": "b8c45eee",
   "metadata": {},
   "outputs": [],
   "source": [
    "def demo_01(n):\n",
    "    nums_sum = sum(list(map(int,str(n))))\n",
    "\n",
    "    # 字典转换\n",
    "    pinyin_dict = {\n",
    "        '0':'ling', '1':'yi', '2':'er', '3':'san', '4':'si',\n",
    "        '5':'wu', '6':'liu','7':'qi','8':'ba','9':'jiu'\n",
    "    }\n",
    "    pinyin_lst = [pinyin_dict[key] for key in str(nums_sum)]\n",
    "    pinyin_result = \" \".join(pinyin_lst)\n",
    "    return pinyin_result\n",
    "\n",
    "    # 列表转换\n",
    "    # pinyin_list = ['ling','yi','er','san','si','wu','liu','qi','ba','jiu']\n",
    "    # pinyin_lst = [pinyin_list[i] for i in str(nums_sum)]\n",
    "    # pinyin_result = \" \".join(pinyin_lst)\n",
    "    # return pinyin_result"
   ]
  },
  {
   "cell_type": "code",
   "execution_count": 11,
   "id": "224e5622",
   "metadata": {},
   "outputs": [
    {
     "name": "stdout",
     "output_type": "stream",
     "text": [
      "er ling\n"
     ]
    }
   ],
   "source": [
    "print(demo_01(123455))"
   ]
  },
  {
   "cell_type": "markdown",
   "id": "12794ff7",
   "metadata": {},
   "source": [
    "#### 平移数组\n",
    "将数组A中的元素向右平移M次，最右边的元素移到最左边，要求不适用额外的数组空间。\n",
    "##### lst.pop()\n",
    "##### lst.insert(index,element)"
   ]
  },
  {
   "cell_type": "code",
   "execution_count": 9,
   "id": "0142a051",
   "metadata": {},
   "outputs": [],
   "source": [
    "\n",
    "def demo_02(lst,m):\n",
    "    \"\"\"将列表lst中的元素向右平移m位，最后一位移到列表头部\"\"\"\n",
    "    for i in range(m):\n",
    "        last_element = lst.pop()\n",
    "        lst.insert(0,last_element)\n",
    "    return lst\n"
   ]
  },
  {
   "cell_type": "code",
   "execution_count": 10,
   "id": "097dc376",
   "metadata": {},
   "outputs": [
    {
     "name": "stdout",
     "output_type": "stream",
     "text": [
      "[3, 4, 0, 1, 2]\n"
     ]
    }
   ],
   "source": [
    "lst = list(range(5))\n",
    "m = 2\n",
    "print(demo_02(lst,m))"
   ]
  },
  {
   "cell_type": "markdown",
   "id": "8e76d103",
   "metadata": {},
   "source": [
    "#### 我要通过\n",
    "#这道题目要求我们判断给定的字符串是否符合特定的规则，从而决定是否输出\"YES\"或\"NO\"。\n",
    "\n",
    "题目条件解析\n",
    "\n",
    "根据题目描述，\"答案正确\"的字符串必须满足以下条件：\n",
    "\n",
    "字符限制：字符串只能包含'P'、'A'、'T'三种字符，不能有其他字符\n",
    "\n",
    "基本模式：形如\"xPATx\"的字符串是正确的，其中x是空字符串或仅由'A'组成的字符串\n",
    "\n",
    "扩展规则：如果\"aPbTc\"是正确的，那么\"aPbATca\"也是正确的（其中a、b、c是空字符串或仅由'A'组成的字符串）\n",
    "\n",
    "解题思路\n",
    "\n",
    "经过分析，我们可以发现有效的字符串必须满足以下数学关系：\n",
    "1. 必须只含有PAT三个字符\n",
    "\n",
    "1. 字符串中必须有且仅有一个'P'和一个'T',必须有'A'\n",
    "\n",
    "2. 'P'必须在'T'之前\n",
    "\n",
    "3. 'P'和'T'之间至少有一个'A'\n",
    "\n",
    "4. 设'P'前面的'A'数量为a，'P'和'T'之间的'A'数量为b，'T'后面的'A'数量为c，则必须满足：a × b = c"
   ]
  },
  {
   "cell_type": "code",
   "execution_count": null,
   "id": "9795f405",
   "metadata": {},
   "outputs": [],
   "source": [
    "# 满分解答\n",
    "n = int(input())\n",
    "for _ in range(n):\n",
    "    s = input().strip()    # 去掉两端空格\n",
    "\n",
    "    # 检查是否只包含 'P', 'A', 'T'\n",
    "    if not all(c in 'PAT' for c in s):    # all() 函数用于判断所有元素是否都为 True\n",
    "        print(\"NO\")\n",
    "        continue\n",
    "\n",
    "    # 检查 'P' 和 'T' 的数量（必须各一个）\n",
    "    if s.count('P') != 1 or s.count('T') != 1:\n",
    "        print(\"NO\")\n",
    "        continue\n",
    "\n",
    "    # 检查 'P' 在 'T' 之前\n",
    "    p_pos = s.find('P')\n",
    "    t_pos = s.find('T')\n",
    "    if p_pos >= t_pos:\n",
    "        print(\"NO\")\n",
    "        continue\n",
    "\n",
    "    # 计算 a, b, c\n",
    "    a = p_pos\n",
    "    b = t_pos - p_pos - 1\n",
    "    c = len(s) - t_pos - 1\n",
    "\n",
    "    # 检查 a * b == c 且 b >= 1\n",
    "    if b >= 1 and a * b == c:\n",
    "        print(\"YES\")\n",
    "    else:\n",
    "        print(\"NO\")"
   ]
  },
  {
   "cell_type": "markdown",
   "id": "5697452f",
   "metadata": {},
   "source": [
    "10\n",
    "PAT\n",
    "PAAT\n",
    "AAPATAA\n",
    "AAPAATAAAA\n",
    "xPATx\n",
    "PT\n",
    "Whatever\n",
    "APAAATAA\n",
    "APT\n",
    "APATTAA"
   ]
  }
 ],
 "metadata": {
  "kernelspec": {
   "display_name": "base",
   "language": "python",
   "name": "python3"
  },
  "language_info": {
   "codemirror_mode": {
    "name": "ipython",
    "version": 3
   },
   "file_extension": ".py",
   "mimetype": "text/x-python",
   "name": "python",
   "nbconvert_exporter": "python",
   "pygments_lexer": "ipython3",
   "version": "3.12.4"
  }
 },
 "nbformat": 4,
 "nbformat_minor": 5
}
