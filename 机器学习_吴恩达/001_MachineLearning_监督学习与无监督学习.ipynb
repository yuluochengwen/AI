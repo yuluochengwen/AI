{
 "cells": [
  {
   "cell_type": "markdown",
   "id": "f871ff4b",
   "metadata": {},
   "source": [
    "#### Supervised Learning\n",
    "1. 回归算法(Regression)\n",
    "2. 分类算法(Classification)\n"
   ]
  },
  {
   "cell_type": "markdown",
   "id": "8676a61c",
   "metadata": {},
   "source": [
    "监督学习的关键特征：\n",
    "1. 为模型提供一个包含特征和目标变量的训练数据集。让模型去学习如何映射特征到目标变量。"
   ]
  },
  {
   "cell_type": "markdown",
   "id": "f6c05f6f",
   "metadata": {},
   "source": [
    "#### Unsupervised Learning\n",
    "1. 聚类算法 (Clustering Algorithms)\n",
    "2. 异常检测算法 (Anomaly Detection Algorithms)\n",
    "3. 降维算法 (Dimensionality Reduction Algorithms)"
   ]
  },
  {
   "cell_type": "markdown",
   "id": "f10bd2a7",
   "metadata": {},
   "source": [
    "#### 成本函数（cost function）\n",
    "#### 线性回归的目标就是找到合适的$w$值，使得代价函数$J(w)$最小。\n",
    "1. 在训练模型时，我们希望模型能够拟合训练数据，使得模型的预测值与真实值之间的差距最小。\n",
    "2. 为了衡量模型的拟合程度，我们需要定义一个成本函数（cost function），用来衡量模型预测值与真实值之间的差距。\n",
    "3. 模型的函数形式为$h(x,w)=wx+b$，其中$x$为输入向量，$w,b$为模型参数，$y$为真实值。预测值$h(x,w)$与真实值$y$之间的差距可以表示为：$J(w) = h(x,w) - y$。\n",
    "4. 我们希望找到一个最优的$w$值，使得$J(w)$最小。\n",
    "4. 可以理解为，成本函数是关于$w,b$的函数，$w,b$的变化会影响$J(w)$的大小。\n",
    "6. 优化参数的过程，就是找到使得$J(w)$最小的$w$值。\n",
    "3. 常见的成本函数有：\n",
    "    - 平均平方误差（mean squared error）：$J(w) = \\frac{1}{2m}\\sum_{i=1}^m(h(x_i,w)-y_i)^2$\n",
    "    - 绝对值误差（absolute error）：$J(w) = \\sum_{i=1}^m|h(x_i,w)-y_i|$"
   ]
  },
  {
   "cell_type": "markdown",
   "id": "1bfd66bc",
   "metadata": {},
   "source": [
    "![image.png](./imges/模型_代价函数.png)"
   ]
  }
 ],
 "metadata": {
  "kernelspec": {
   "display_name": "base",
   "language": "python",
   "name": "python3"
  },
  "language_info": {
   "name": "python",
   "version": "3.12.4"
  }
 },
 "nbformat": 4,
 "nbformat_minor": 5
}
