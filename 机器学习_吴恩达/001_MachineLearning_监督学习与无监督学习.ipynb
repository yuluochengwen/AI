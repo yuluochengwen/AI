{
 "cells": [
  {
   "cell_type": "markdown",
   "id": "f871ff4b",
   "metadata": {},
   "source": [
    "#### Supervised Learning\n",
    "1. 回归算法(Regression)\n",
    "2. 分类算法(Classification)\n"
   ]
  },
  {
   "cell_type": "markdown",
   "id": "8676a61c",
   "metadata": {},
   "source": [
    "监督学习的关键特征：\n",
    "1. 为模型提供一个包含特征和目标变量的训练数据集。让模型去学习如何映射特征到目标变量。"
   ]
  },
  {
   "cell_type": "markdown",
   "id": "f6c05f6f",
   "metadata": {},
   "source": [
    "#### Unsupervised Learning\n",
    "1. 聚类算法 (Clustering Algorithms)\n",
    "2. 异常检测算法 (Anomaly Detection Algorithms)\n",
    "3. 降维算法 (Dimensionality Reduction Algorithms)"
   ]
  }
 ],
 "metadata": {
  "kernelspec": {
   "display_name": "base",
   "language": "python",
   "name": "python3"
  },
  "language_info": {
   "name": "python",
   "version": "3.12.4"
  }
 },
 "nbformat": 4,
 "nbformat_minor": 5
}
