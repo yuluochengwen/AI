{
 "cells": [
  {
   "cell_type": "markdown",
   "id": "d90bf368",
   "metadata": {},
   "source": [
    "#### PAT-1013 数素数"
   ]
  },
  {
   "cell_type": "code",
   "execution_count": null,
   "id": "c4d22851",
   "metadata": {},
   "outputs": [],
   "source": [
    "# 输出100以内的素数\n",
    "prime = list(range(2,100))\n",
    "n = 2\n",
    "for n in prime:\n",
    "    for i in range(2,int(n**0.5)+1):\n",
    "        if n % i == 0:\n",
    "            break\n",
    "    else:                            # python的特殊用法，else可以和for连用\n",
    "        print(n)"
   ]
  },
  {
   "cell_type": "code",
   "execution_count": null,
   "id": "45e80d3d",
   "metadata": {},
   "outputs": [],
   "source": [
    "# 找素数\n",
    "start, end = map(int,input().split())\n",
    "count = 0\n",
    "prime = []\n",
    "n = 2\n",
    "while True:\n",
    "    for i in range(2,int(n**0.5)+1):\n",
    "        if n % i == 0:\n",
    "            break\n",
    "    else:\n",
    "        count += 1\n",
    "        if count >= start:\n",
    "            prime.append(n)\n",
    "    n += 1\n",
    "    if count == end:\n",
    "        break\n",
    "\n",
    "for i in range(len(prime)):\n",
    "    if (i + 1) % 10 == 0 or i == len(prime) - 1:\n",
    "        print(prime[i])\n",
    "    else:\n",
    "        print(prime[i], end=' ')"
   ]
  },
  {
   "cell_type": "code",
   "execution_count": null,
   "id": "8297c047",
   "metadata": {},
   "outputs": [],
   "source": [
    "# 埃氏筛法\n",
    "def find_primes(start, end):\n",
    "    max_num = 10**6  # 假设最大可能需要的素数范围\n",
    "    sieve = [True] * (max_num + 1)\n",
    "    sieve[0] = sieve[1] = False\n",
    "    for i in range(2, int(max_num**0.5) + 1):\n",
    "        if sieve[i]:\n",
    "            sieve[i*i :: i] = [False] * len(sieve[i*i :: i])\n",
    "    primes = [i for i, is_p in enumerate(sieve) if is_p]\n",
    "    return primes[start - 1 : end]\n",
    "\n",
    "start, end = map(int, input().split())\n",
    "primes = find_primes(start, end)\n",
    "\n",
    "for i in range(len(primes)):\n",
    "    if (i + 1) % 10 == 0 or i == len(primes) - 1:\n",
    "        print(primes[i])\n",
    "    else:\n",
    "        print(primes[i], end=' ')"
   ]
  },
  {
   "cell_type": "markdown",
   "id": "e9298f85",
   "metadata": {},
   "source": [
    "#### PAT-1028 人口普查\n",
    "##### replace('x','y') 方法,字符串替换,将字符串中的 x 替换为 y"
   ]
  },
  {
   "cell_type": "code",
   "execution_count": null,
   "id": "924e7bc5",
   "metadata": {},
   "outputs": [],
   "source": [
    "# 1814.9.6\n",
    "\n",
    "n = int(input())\n",
    "people = []\n",
    "valid_count = 0\n",
    "oldest = None\n",
    "youngest = None\n",
    "min_date = (1814, 9, 6)\n",
    "max_date = (2014, 9, 6)\n",
    "\n",
    "for _ in range(n):\n",
    "    name, date_str = input().split()\n",
    "    year, month, day = map(int, date_str.split('/'))\n",
    "    date = (year, month, day)\n",
    "    \n",
    "    # 检查是否在有效范围内\n",
    "    if (min_date <= date <= max_date):\n",
    "        valid_count += 1\n",
    "        if oldest is None or date < oldest[1]:\n",
    "            oldest = (name, date)\n",
    "        if youngest is None or date > youngest[1]:\n",
    "            youngest = (name, date)\n",
    "\n",
    "if valid_count == 0:\n",
    "    print(0)\n",
    "else:\n",
    "    print(valid_count, oldest[0], youngest[0])"
   ]
  },
  {
   "cell_type": "code",
   "execution_count": null,
   "id": "08adbccd",
   "metadata": {},
   "outputs": [],
   "source": [
    "# 将日期字符串转换为整数，这是一种另类的比较日期的方法。整数越小，日期越早。\n",
    "n = int(input())\n",
    "if n == 0:\n",
    "    print(0)\n",
    "    exit()\n",
    "\n",
    "min_valid = 18140906\n",
    "max_valid = 20140906\n",
    "valid_count = 0\n",
    "oldest_name = \"\"\n",
    "youngest_name = \"\"\n",
    "oldest_date = max_valid  # 初始设为最大值，方便比较\n",
    "youngest_date = min_valid  # 初始设为最小值，方便比较\n",
    "\n",
    "for _ in range(n):\n",
    "    parts = input().split()\n",
    "    name = parts[0]\n",
    "    date_str = parts[1]\n",
    "    # 将 yyyy/mm/dd 转换为整数 yyyymmdd\n",
    "    date = int(date_str.replace('/', ''))\n",
    "    \n",
    "    if min_valid <= date <= max_valid:\n",
    "        valid_count += 1\n",
    "        if date < oldest_date:\n",
    "            oldest_date = date\n",
    "            oldest_name = name\n",
    "        if date > youngest_date:\n",
    "            youngest_date = date\n",
    "            youngest_name = name\n",
    "\n",
    "if valid_count == 0:\n",
    "    print(0)\n",
    "else:\n",
    "    print(valid_count, oldest_name, youngest_name)"
   ]
  },
  {
   "cell_type": "markdown",
   "id": "7fbd99a2",
   "metadata": {},
   "source": [
    "#### PAT-1032 挖掘机技术哪家强"
   ]
  },
  {
   "cell_type": "code",
   "execution_count": null,
   "id": "50c40ceb",
   "metadata": {},
   "outputs": [
    {
     "name": "stdout",
     "output_type": "stream",
     "text": [
      "0 0\n"
     ]
    }
   ],
   "source": [
    "n = int(input())\n",
    "dic1 = {}\n",
    "\n",
    "for _ in range(n):\n",
    "    id, score = map(int, input().split())\n",
    "    if id in dic1:\n",
    "        dic1[id] += score\n",
    "    else:\n",
    "        dic1[id] = score\n",
    "    \n",
    "# 打印score最高的id和score\n",
    "max_score = max(dic1.items(), key=lambda x: x[1])\n",
    "print(max_score[0], max_score[1])\n"
   ]
  },
  {
   "cell_type": "code",
   "execution_count": null,
   "id": "31485cf0",
   "metadata": {},
   "outputs": [],
   "source": [
    "n = int(input())\n",
    "scores = {}\n",
    "\n",
    "for _ in range(n):\n",
    "    school, score = map(int, input().split())\n",
    "    if school in scores:\n",
    "        scores[school] += score\n",
    "    else:\n",
    "        scores[school] = score\n",
    "\n",
    "max_school = max(scores.items(), key=lambda x: x[1])\n",
    "print(f\"{max_school[0]} {max_school[1]}\")"
   ]
  }
 ],
 "metadata": {
  "kernelspec": {
   "display_name": "base",
   "language": "python",
   "name": "python3"
  },
  "language_info": {
   "codemirror_mode": {
    "name": "ipython",
    "version": 3
   },
   "file_extension": ".py",
   "mimetype": "text/x-python",
   "name": "python",
   "nbconvert_exporter": "python",
   "pygments_lexer": "ipython3",
   "version": "3.12.4"
  }
 },
 "nbformat": 4,
 "nbformat_minor": 5
}
