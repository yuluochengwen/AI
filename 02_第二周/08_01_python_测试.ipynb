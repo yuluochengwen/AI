{
 "cells": [
  {
   "cell_type": "markdown",
   "id": "7d69e66c",
   "metadata": {},
   "source": [
    "#### PAT-1041 找座位"
   ]
  },
  {
   "cell_type": "code",
   "execution_count": null,
   "id": "d84fa5fb",
   "metadata": {},
   "outputs": [
    {
     "name": "stdout",
     "output_type": "stream",
     "text": [
      "2 2\n",
      "9 1\n"
     ]
    }
   ],
   "source": [
    "n = int(input())\n",
    "dic1 = {}\n",
    "for _ in range(n):\n",
    "    id, s, k = map(int,input().split())\n",
    "    dic1[s] = [id, k]\n",
    "\n",
    "target_nums = int(input())\n",
    "\n",
    "if target_nums == 0:\n",
    "    print(f\"{0} {0}\")\n",
    "else:\n",
    "    lst = list(map(int, input().split()))\n",
    "    for i in lst:\n",
    "        target = dic1[i]\n",
    "        print(f\"{target[0]} {target[1]}\")"
   ]
  },
  {
   "cell_type": "code",
   "execution_count": null,
   "id": "1b62ff5a",
   "metadata": {},
   "outputs": [],
   "source": [
    "def PATmm():\n",
    "    n=int(input())\n",
    "    nn=[0]*1000\n",
    "    for i in range(n):\n",
    "        a,b,c=map(int,input().split())\n",
    "        nn[b-1]=(a,c)\n",
    "    m=int(input())\n",
    "    mm=list(map(int,input().split()))\n",
    "    for i in range(m):\n",
    "        print(' '.join(list(map(str,nn[mm[i]-1]))))"
   ]
  },
  {
   "cell_type": "markdown",
   "id": "847788c6",
   "metadata": {},
   "source": [
    "#### PAT-1037 重生之我在霍格沃茨找零钱"
   ]
  },
  {
   "cell_type": "code",
   "execution_count": 29,
   "id": "2269e05c",
   "metadata": {},
   "outputs": [
    {
     "name": "stdout",
     "output_type": "stream",
     "text": [
      "3.2.1\n"
     ]
    }
   ],
   "source": [
    "P, A = input().split()\n",
    "p_lst = list(map(int,P.split('.')))\n",
    "a_lst = list(map(int,A.split('.')))\n",
    "p_lst.reverse()\n",
    "a_lst.reverse()\n",
    "result = [0,0,0]\n",
    "carry = [0,0,0]\n",
    "for i in range(3):\n",
    "    if i == 0:\n",
    "        if a_lst[i] >= p_lst[i]:\n",
    "            result[i] = a_lst[i] - p_lst[i]\n",
    "        else:\n",
    "            result[i] = 29 + a_lst[i] - p_lst[i]\n",
    "            carry[i+1] = -1\n",
    "    elif i == 1:\n",
    "        if a_lst[i]+carry[i] >= p_lst[i]:\n",
    "            result[i] = a_lst[i]+carry[i] - p_lst[i]\n",
    "        else:\n",
    "            result[i] = 17 + a_lst[i]+carry[i] - p_lst[i]\n",
    "            carry[i+1] = -1\n",
    "    else:\n",
    "        result[i] = a_lst[i]+carry[i] - p_lst[i]\n",
    "\n",
    "if result[2] < 0:\n",
    "    result[0] = 29 - result[0]\n",
    "    result[1] = 16 - result[1]\n",
    "    result[2] = 1 + result[2]\n",
    "\n",
    "result.reverse()\n",
    "print('.'.join(map(str,result)))\n",
    "    "
   ]
  },
  {
   "cell_type": "markdown",
   "id": "8fbcad79",
   "metadata": {},
   "source": [
    "#### PAT-1047 团体编程赛"
   ]
  },
  {
   "cell_type": "code",
   "execution_count": 34,
   "id": "40a08bdd",
   "metadata": {},
   "outputs": [
    {
     "name": "stdout",
     "output_type": "stream",
     "text": [
      "11 176\n"
     ]
    }
   ],
   "source": [
    "n = int(input())\n",
    "score_sum = {}\n",
    "for i in range(n):\n",
    "    input1 = list(input().split())\n",
    "    team, meber = map(int,(input1[0].split('-')))\n",
    "    score = int(input1[1])\n",
    "    if team not in score_sum:\n",
    "        score_sum[team] = 0\n",
    "    score_sum[team] += score\n",
    "\n",
    "max_score = max(score_sum.items(),key = lambda x:x[1])\n",
    "print(f\"{max_score[0]} {max_score[1]}\")"
   ]
  },
  {
   "cell_type": "markdown",
   "id": "ff50ecd2",
   "metadata": {},
   "source": [
    "#### PAT-1056 组合数的和"
   ]
  },
  {
   "cell_type": "code",
   "execution_count": null,
   "id": "904bd506",
   "metadata": {},
   "outputs": [
    {
     "name": "stdout",
     "output_type": "stream",
     "text": [
      "[28, 25, 82, 85, 52, 58]\n"
     ]
    }
   ],
   "source": [
    "input_lst = list(input().split(' '))\n",
    "n = int(input_lst.pop(0))\n",
    "result_lst = []\n",
    "for i in range(n):\n",
    "    for j in range(n):\n",
    "        if i != j:\n",
    "            result_lst.append(int(input_lst[i] + input_lst[j]))\n",
    "\n",
    "print(sum(result_lst))"
   ]
  }
 ],
 "metadata": {
  "kernelspec": {
   "display_name": "base",
   "language": "python",
   "name": "python3"
  },
  "language_info": {
   "codemirror_mode": {
    "name": "ipython",
    "version": 3
   },
   "file_extension": ".py",
   "mimetype": "text/x-python",
   "name": "python",
   "nbconvert_exporter": "python",
   "pygments_lexer": "ipython3",
   "version": "3.12.4"
  }
 },
 "nbformat": 4,
 "nbformat_minor": 5
}
