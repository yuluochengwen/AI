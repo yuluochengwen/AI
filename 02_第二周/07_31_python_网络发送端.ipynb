{
 "cells": [
  {
   "cell_type": "code",
   "execution_count": null,
   "id": "e41fc653",
   "metadata": {},
   "outputs": [],
   "source": [
    "# UDP范例\n",
    "# 发送端\n",
    "import socket\n",
    "import sys\n",
    "s = socket.socket(socket.AF_INET, socket.SOCK_DGRAM)\n",
    "s.sendto(\"bye\".encode(), (\"127.0.0.1\", 5000))\n",
    "s.close()"
   ]
  },
  {
   "cell_type": "code",
   "execution_count": 6,
   "id": "ecee5818",
   "metadata": {},
   "outputs": [
    {
     "name": "stdout",
     "output_type": "stream",
     "text": [
      "Welcome!\n",
      "Hello,tom!\n",
      "Hello,jack!\n",
      "Hello,kitty!\n"
     ]
    }
   ],
   "source": [
    "import socket\n",
    "s = socket.socket(socket.AF_INET, socket.SOCK_STREAM)\n",
    "# 建立连接\n",
    "s.connect(('127.0.0.1',9999))\n",
    "print(s.recv(1024).decode('utf-8'))\n",
    "for data in [b'tom',b'jack',b'kitty']:\n",
    "    s.send(data)\n",
    "    print(s.recv(1024).decode('utf-8'))\n",
    "\n",
    "s.send(b'exit')\n",
    "s.close()"
   ]
  }
 ],
 "metadata": {
  "kernelspec": {
   "display_name": "base",
   "language": "python",
   "name": "python3"
  },
  "language_info": {
   "codemirror_mode": {
    "name": "ipython",
    "version": 3
   },
   "file_extension": ".py",
   "mimetype": "text/x-python",
   "name": "python",
   "nbconvert_exporter": "python",
   "pygments_lexer": "ipython3",
   "version": "3.12.4"
  }
 },
 "nbformat": 4,
 "nbformat_minor": 5
}
