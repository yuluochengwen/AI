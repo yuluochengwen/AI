{
 "cells": [
  {
   "cell_type": "markdown",
   "id": "d3abd963",
   "metadata": {},
   "source": [
    "#### 多线程\n",
    "1. threading模块\n",
    "2. Thread类\n",
    "3. Lock类\n",
    "4. Conditional类\n"
   ]
  },
  {
   "cell_type": "code",
   "execution_count": 1,
   "id": "4ae90137",
   "metadata": {},
   "outputs": [
    {
     "name": "stdout",
     "output_type": "stream",
     "text": [
      "hello,python!\n"
     ]
    }
   ],
   "source": [
    "import threading\n",
    "\n",
    "# a = threading.stack_size() #返回创建线程时使用的栈的大小，如果指定size的参数了，就会限定线程栈的大小\n",
    "# print(a)\n",
    "\n",
    "# b = threading.active_count() #处于alive状态的Thread对象的数量\n",
    "# print(b)\n",
    "\n",
    "# print(threading.current_thread())\n",
    "# print(threading.enumerate())\n",
    "\n",
    "def demo(v):\n",
    "    print(\"hello,python!\")\n",
    "\n",
    "t = threading.Timer(3,demo,args=(5,))\n",
    "t.start()"
   ]
  },
  {
   "cell_type": "code",
   "execution_count": null,
   "id": "827cac07",
   "metadata": {},
   "outputs": [],
   "source": [
    "# join()方法可以等待线程结束，最多等待指定的时间。\n",
    "from threading import Thread\n",
    "import time\n",
    "\n",
    "def fun1(x,y):\n",
    "    for i in range(x,y):\n",
    "        print(i,end=' ')\n",
    "    print()\n",
    "    time.sleep(10)\n",
    "\n",
    "t1 = Thread(target=fun1,args=(15,20))\n",
    "t1.start()\n",
    "t1.join(5)    # 等待线程结束，但最多等待5秒\n",
    "t2 = Thread(target=fun1,args=(5,10))\n",
    "t2.start()\n",
    "\n"
   ]
  },
  {
   "cell_type": "code",
   "execution_count": null,
   "id": "6a5d70d4",
   "metadata": {},
   "outputs": [],
   "source": [
    "#is_alive()方法测试线程是否处于运行状态\n",
    "from threading import Thread\n",
    "import time\n",
    "\n",
    "def fun2():\n",
    "    time.sleep(10)\n",
    "\n",
    "t2 = Thread(target=fun2,)\n",
    "print(\"t2\",t2.is_alive())\n",
    "\n",
    "t2.start()\n",
    "print(\"t2\",t2.is_alive())\n",
    "\n",
    "t2.join(5)\n",
    "print(\"t2\",t2.is_alive())\n",
    "\n",
    "t2.join()   # 一直阻塞，直到线程终止在向下执行\n",
    "print(\"t2\",t2.is_alive())"
   ]
  },
  {
   "cell_type": "code",
   "execution_count": null,
   "id": "25e24f13",
   "metadata": {},
   "outputs": [],
   "source": [
    "# daemon属性决定进程是否被守护进程，默认值为False。\n",
    "# 守护进程是不会被终止的，除非主进程退出。\n",
    "# 非守护进程，主线程结束，子线程也会结束。\n",
    "# 守护进程，主线程结束，子线程不会结束。\n",
    "import threading\n",
    "import time\n",
    "class myThread(threading.Thread):\n",
    "    def __init__(self,num,threadname):\n",
    "        threading.Thread.__init__(self,name = threadname)\n",
    "        self.num = num\n",
    "\n",
    "    def run(self):\n",
    "        time.sleep(self.num)\n",
    "        print(self.num)\n",
    "\n",
    "t1 = myThread(1,\"t1\")\n",
    "t2 = myThread(5,\"t2\")\n",
    "\n",
    "t2.daemon = True\n",
    "t1.daemon = True\n",
    "print(t1.daemon)\n",
    "print(t2.daemon)\n",
    "t1.start()\n",
    "t2.start()"
   ]
  },
  {
   "cell_type": "code",
   "execution_count": null,
   "id": "4f3b9d0e",
   "metadata": {},
   "outputs": [],
   "source": [
    "import threading\n",
    "import time\n",
    "class myThread(threading.Thread):\n",
    "    def __init__(self,threadname):\n",
    "        threading.Thread.__init__(self)\n",
    "        self.name = threadname\n",
    "\n",
    "    def run(self):\n",
    "        time.sleep(2)\n",
    "        print(\"In run:\",self.name)\n",
    "\n",
    "    def output(self):\n",
    "        print(\"In output:\",self.name)\n",
    "\n",
    "        \n",
    "t = myThread('test')\n",
    "t.start()\n",
    "t.output()\n",
    "time.sleep(5)\n",
    "print(\"ok\")"
   ]
  },
  {
   "cell_type": "code",
   "execution_count": null,
   "id": "a694bf7c",
   "metadata": {},
   "outputs": [],
   "source": [
    "# 线程同步技术：锁（Lock）\n",
    "import threading\n",
    "import time\n",
    "# 创建锁\n",
    "lock = threading.Lock()\n",
    "\n",
    "class MyThread(threading.Thread):\n",
    "    def __init__(self):\n",
    "        super().__init__()\n",
    "    \n",
    "    def run(self):\n",
    "        global num\n",
    "        lock.acquire()\n",
    "        for i in range(100):\n",
    "            num += 1\n",
    "        time.sleep(2)\n",
    "        print(num)\n",
    "        lock.release()\n",
    "    \n",
    "t1 = []\n",
    "for i in range(10):\n",
    "    t = MyThread()\n",
    "    t1.append(t)\n",
    "\n",
    "num = 10000\n",
    "for t in t1:\n",
    "    t.start()\n"
   ]
  },
  {
   "cell_type": "code",
   "execution_count": null,
   "id": "5344baa4",
   "metadata": {},
   "outputs": [],
   "source": [
    "# 验证线程冲突的尝试\n",
    "import threading\n",
    "import time\n",
    "class myThread1(threading.Thread):\n",
    "    def __init__(self,t,threadname):\n",
    "        threading.Thread.__init__(self,name = threadname)\n",
    "        self.t = t\n",
    "    # 重写run方法,将num列表里的0改成1\n",
    "    def run(self):\n",
    "        global num\n",
    "        for i in range(len(num)):\n",
    "            if num[i] == 0:\n",
    "                num[i] = 1\n",
    "            time.sleep(t)\n",
    "\n",
    "class myThread2(threading.Thread):\n",
    "    def __init__(self,num,threadname):\n",
    "        threading.Thread.__init__(self,name = threadname)\n",
    "        self.num = num\n",
    "    # 重写run方法,从后面读取num列表\n",
    "    def run(self):\n",
    "        global num\n",
    "        for i in range(len(num)):\n",
    "            print(self.name,num[len(num)-1-i])\n",
    "            time.sleep(t)\n",
    "\n",
    "num = [0,0,0,0,0,0,0,0,0,0]\n",
    "t1 = myThread1(0.1,\"Thread1\")\n",
    "t2 = myThread2(0.1,\"Thread2\")\n",
    "t1.start()\n",
    "t2.start()"
   ]
  },
  {
   "cell_type": "code",
   "execution_count": null,
   "id": "371262f9",
   "metadata": {},
   "outputs": [],
   "source": []
  }
 ],
 "metadata": {
  "kernelspec": {
   "display_name": "base",
   "language": "python",
   "name": "python3"
  },
  "language_info": {
   "codemirror_mode": {
    "name": "ipython",
    "version": 3
   },
   "file_extension": ".py",
   "mimetype": "text/x-python",
   "name": "python",
   "nbconvert_exporter": "python",
   "pygments_lexer": "ipython3",
   "version": "3.12.4"
  }
 },
 "nbformat": 4,
 "nbformat_minor": 5
}
