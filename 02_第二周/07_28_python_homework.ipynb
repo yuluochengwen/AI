{
 "cells": [
  {
   "cell_type": "code",
   "execution_count": null,
   "id": "b18f63e9",
   "metadata": {},
   "outputs": [],
   "source": [
    "# 学生类\n",
    "class Student:\n",
    "    def __init__(self, name, age, grades):\n",
    "        self.name = name\n",
    "        self.age = age\n",
    "        self.grades = grades\n",
    "\n",
    "    def add_grade(self, grade):\n",
    "        self.grades.append(grade)\n",
    "\n",
    "    def print_information(self):\n",
    "        print(\"Name:\", self.name)\n",
    "        print(\"Age:\", self.age)\n",
    "        print(\"Grades:\", self.grades)\n",
    "\n",
    "zhao = Student(\"Zhao\", 20, [80, 90, 95])\n",
    "zhao.print_information()\n",
    "zhao.add_grade(100)\n",
    "zhao.print_information()"
   ]
  },
  {
   "cell_type": "code",
   "execution_count": null,
   "id": "25a8324c",
   "metadata": {},
   "outputs": [],
   "source": [
    "# 继承与重写\n",
    "class Animal:\n",
    "    def __init__(self, name):\n",
    "        self.name = name\n",
    "\n",
    "    def make_sound(self):\n",
    "        return \"Animal makes sound\"\n",
    "\n",
    "class Dog(Animal):\n",
    "    def make_sound(self):\n",
    "        # return super().make_sound() + \" woof!\"   # 用super()调用父类的方法\n",
    "        return \"Woof!\"\n",
    "    \n",
    "wangcai = Dog(\"WangCai\")\n",
    "print(wangcai.make_sound()) # Woof!"
   ]
  },
  {
   "cell_type": "markdown",
   "id": "46804db8",
   "metadata": {},
   "source": [
    "#### PTA-1038 统计同成绩学生"
   ]
  },
  {
   "cell_type": "code",
   "execution_count": null,
   "id": "d19d081b",
   "metadata": {},
   "outputs": [],
   "source": [
    "class ScoreAnalyzer:\n",
    "    def __init__(self):\n",
    "        self.score_count = {}  # 存储分数-人数的映射字典\n",
    "    \n",
    "    def add_scores(self, scores):\n",
    "        \"\"\"添加学生成绩并统计分数分布\"\"\"\n",
    "        for score in scores:\n",
    "            self.score_count[score] = self.score_count.get(score, 0) + 1\n",
    "    \n",
    "    def query_counts(self, query_scores):\n",
    "        \"\"\"查询指定分数的学生人数\"\"\"\n",
    "        return [self.score_count.get(score, 0) for score in query_scores]\n",
    "\n",
    "# 主程序\n",
    "if __name__ == \"__main__\":\n",
    "    analyzer = ScoreAnalyzer()\n",
    "    \n",
    "    # 读取输入数据\n",
    "    n = int(input().strip())\n",
    "    scores = list(map(int, input().split()))\n",
    "    query_data = list(map(int, input().split()))\n",
    "    \n",
    "    # 处理输入\n",
    "    k = query_data[0]\n",
    "    query_scores = query_data[1:1+k]\n",
    "    \n",
    "    # 添加成绩并查询\n",
    "    analyzer.add_scores(scores)\n",
    "    results = analyzer.query_counts(query_scores)\n",
    "    \n",
    "    # 格式化输出\n",
    "    print(\" \".join(map(str, results)))"
   ]
  },
  {
   "cell_type": "markdown",
   "id": "dafc2eb7",
   "metadata": {},
   "source": [
    "#### PAT-1019 数字黑洞\n",
    "1. 字符串到数字需要用join拼接\n",
    "2. 数字转字符串需要用str()"
   ]
  },
  {
   "cell_type": "code",
   "execution_count": null,
   "id": "81165be5",
   "metadata": {},
   "outputs": [],
   "source": [
    "def kaprekar(n):\n",
    "    n = n.zfill(4)\n",
    "    a = int(\"\".join(sorted(n, reverse=True)))\n",
    "    b = int(\"\".join(sorted(n)))\n",
    "    n = a - b\n",
    "\n",
    "    if a == b:\n",
    "        print(f\"{a:04d} - {b:04d} = {n:04d}\")\n",
    "        return\n",
    "    \n",
    "    if n == 6174:\n",
    "        print(f\"{a:04d} - {b:04d} = {n:04d}\")\n",
    "        return\n",
    "    \n",
    "    print(f\"{a:04d} - {b:04d} = {n:04d}\")\n",
    "    kaprekar(str(n))\n",
    "\n",
    "n = input()\n",
    "kaprekar(n)"
   ]
  },
  {
   "cell_type": "code",
   "execution_count": null,
   "id": "2d7f69ec",
   "metadata": {},
   "outputs": [],
   "source": [
    "def kaprekar(n):\n",
    "    n = n.zfill(4)\n",
    "    a = int(\"\".join(sorted(n, reverse=True)))\n",
    "    b = int(\"\".join(sorted(n)))\n",
    "    n = a - b\n",
    "\n",
    "    # 统一格式化字符串\n",
    "    fmt = lambda x: f\"{x:04d}\"\n",
    "    output = f\"{fmt(a)} - {fmt(b)} = {fmt(n)}\"\n",
    "    \n",
    "    print(output)\n",
    "    \n",
    "    if a == b or n == 6174:\n",
    "        return\n",
    "    \n",
    "    kaprekar(str(n))\n",
    "\n",
    "n = input()\n",
    "kaprekar(n)"
   ]
  },
  {
   "cell_type": "markdown",
   "id": "0a358515",
   "metadata": {},
   "source": [
    "#### PAT-1033 旧键盘打字"
   ]
  },
  {
   "cell_type": "code",
   "execution_count": null,
   "id": "75860e47",
   "metadata": {},
   "outputs": [],
   "source": [
    "# 将输入的两行字符串均以集合的形式存储\n",
    "# 坏键集合中要把坏键转换为小写字母\n",
    "# 预期输入字符也转换为小写字母\n",
    "# 求集合的差集\n",
    "# 按照应该输入的字符串顺序输出差集中的字符\n",
    "# 如果坏键集合里有+号，则将上一步输出中的大写字符去掉\n",
    "str1 = input()\n",
    "broken_keys_lower = set(str1.lower())  \n",
    "broken_keys_upper = set(str1.upper())\n",
    "broken_keys = broken_keys_lower.union(broken_keys_upper)\n",
    "\n",
    "expected_input = input()\n",
    "expected_keys = set(expected_input)\n",
    "diff_keys = expected_keys - broken_keys\n",
    "\n",
    "result = \"\"\n",
    "for key in expected_input:\n",
    "    if key in diff_keys:\n",
    "        result += key\n",
    "if \"+\" in broken_keys:\n",
    "    result = ''.join([char for char in result if char.islower() or not char.isalpha()])\n",
    "print(result)"
   ]
  },
  {
   "cell_type": "code",
   "execution_count": null,
   "id": "8af4c3bd",
   "metadata": {},
   "outputs": [],
   "source": [
    "# 输入坏键字符串并转换为小写集合\n",
    "broken_keys = set(input().lower())\n",
    "\n",
    "# 输入预期输入字符串\n",
    "expected_input = input()\n",
    "\n",
    "# 构建结果字符串\n",
    "result = ''.join([char for char in expected_input if char.lower() not in broken_keys])\n",
    "\n",
    "# 如果坏键集合中有 '+' 号，去掉结果中的大写字符\n",
    "if '+' in broken_keys:\n",
    "    result = ''.join([char for char in result if char.islower() or not char.isalpha()])\n",
    "\n",
    "print(result)\n",
    "                 "
   ]
  }
 ],
 "metadata": {
  "kernelspec": {
   "display_name": "base",
   "language": "python",
   "name": "python3"
  },
  "language_info": {
   "codemirror_mode": {
    "name": "ipython",
    "version": 3
   },
   "file_extension": ".py",
   "mimetype": "text/x-python",
   "name": "python",
   "nbconvert_exporter": "python",
   "pygments_lexer": "ipython3",
   "version": "3.12.4"
  }
 },
 "nbformat": 4,
 "nbformat_minor": 5
}
