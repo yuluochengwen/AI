{
 "cells": [
  {
   "cell_type": "markdown",
   "id": "ee8b410c",
   "metadata": {},
   "source": [
    "#### PAT-1042 字符统计\n",
    "1. ord()函数：返回一个字符的ASCII码值。\n",
    "2. chr()函数：返回一个ASCII码值对应的字符。"
   ]
  },
  {
   "cell_type": "code",
   "execution_count": null,
   "id": "8ba920d6",
   "metadata": {},
   "outputs": [],
   "source": [
    "words = ['a','b','c','d','e','f','g','h','i','j','k','l','m','n','o','p','q','r','s','t','u','v','w','x','y','z']\n",
    "word_count=[0] * 26\n",
    "n = input().lower()\n",
    "for i in n:\n",
    "    if i in words:\n",
    "        word_count[words.index(i)] += 1\n",
    "\n",
    "print(words[word_count.index(max(word_count))], max(word_count))\n"
   ]
  },
  {
   "cell_type": "code",
   "execution_count": 3,
   "id": "e8e1f3f5",
   "metadata": {},
   "outputs": [
    {
     "name": "stdout",
     "output_type": "stream",
     "text": [
      "e 7\n"
     ]
    }
   ],
   "source": [
    "word_count=[0] * 26\n",
    "n = input().lower()\n",
    "for i in n:\n",
    "    if 'a' <= i <= 'z':\n",
    "        word_count[ord(i) - ord('a')] += 1\n",
    "\n",
    "max_count = max(word_count)\n",
    "print(chr(word_count.index(max_count) + ord('a')), max_count)"
   ]
  },
  {
   "cell_type": "markdown",
   "id": "6a10dd24",
   "metadata": {},
   "source": [
    "#### PAT-1017 A除以B"
   ]
  },
  {
   "cell_type": "code",
   "execution_count": 1,
   "id": "935a5ec3",
   "metadata": {},
   "outputs": [
    {
     "name": "stdout",
     "output_type": "stream",
     "text": [
      "17636684150141093474 3\n"
     ]
    }
   ],
   "source": [
    "A, B = map(int, input().split())\n",
    "Q = A // B\n",
    "R = A % B\n",
    "print(Q, R)"
   ]
  },
  {
   "cell_type": "markdown",
   "id": "297e677a",
   "metadata": {},
   "source": [
    "#### PAT-1046 划拳"
   ]
  },
  {
   "cell_type": "code",
   "execution_count": null,
   "id": "c010c031",
   "metadata": {},
   "outputs": [],
   "source": [
    "n = int(input())\n",
    "A_count = 0\n",
    "B_count = 0\n",
    "for _ in range(n):\n",
    "    A, a, B, b = map(int, input().split())\n",
    "    if a == A + B and b == A + B:\n",
    "        continue\n",
    "    elif a == A + B:\n",
    "        B_count += 1\n",
    "    elif b == A + B:\n",
    "        A_count += 1\n",
    "print(A_count, B_count)"
   ]
  }
 ],
 "metadata": {
  "kernelspec": {
   "display_name": "base",
   "language": "python",
   "name": "python3"
  },
  "language_info": {
   "codemirror_mode": {
    "name": "ipython",
    "version": 3
   },
   "file_extension": ".py",
   "mimetype": "text/x-python",
   "name": "python",
   "nbconvert_exporter": "python",
   "pygments_lexer": "ipython3",
   "version": "3.12.4"
  }
 },
 "nbformat": 4,
 "nbformat_minor": 5
}
