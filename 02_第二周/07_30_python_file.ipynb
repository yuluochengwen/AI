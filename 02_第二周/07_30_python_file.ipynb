{
 "cells": [
  {
   "cell_type": "markdown",
   "id": "b0a2618b",
   "metadata": {},
   "source": [
    "#### 对文件的读写操作"
   ]
  },
  {
   "cell_type": "code",
   "execution_count": null,
   "id": "2f30c3a7",
   "metadata": {},
   "outputs": [],
   "source": [
    "with open(\"Data/myfile.txt\",'r') as src, open(\"Data/test.txt\",'w') as dst:\n",
    "    dst.write(src.read())  # 读取myfile.txt的内容并写入(覆盖写入)test.txt"
   ]
  },
  {
   "cell_type": "code",
   "execution_count": 8,
   "id": "61c12249",
   "metadata": {},
   "outputs": [],
   "source": [
    "s = \"hello world\\n文本文件\"\n",
    "with open(\"Data/sample.txt\",'w') as fp:\n",
    "    fp.write(s)"
   ]
  },
  {
   "cell_type": "code",
   "execution_count": null,
   "id": "2ce9d2ec",
   "metadata": {},
   "outputs": [
    {
     "name": "stdout",
     "output_type": "stream",
     "text": [
      "hel\n"
     ]
    }
   ],
   "source": [
    "with open(\"Data/sample.txt\",'r') as fp:\n",
    "    s = fp.read(3)    # 读取3个字符\n",
    "    print(s)\n",
    "    "
   ]
  },
  {
   "cell_type": "code",
   "execution_count": 11,
   "id": "75be03ef",
   "metadata": {},
   "outputs": [
    {
     "name": "stdout",
     "output_type": "stream",
     "text": [
      "hello world\n",
      "\n",
      "文本文件\n"
     ]
    }
   ],
   "source": [
    "with open(\"Data/sample.txt\") as fp:\n",
    "    for line in fp:\n",
    "        print(line)"
   ]
  },
  {
   "cell_type": "markdown",
   "id": "037e70f6",
   "metadata": {},
   "source": [
    "#### JSON 对字符串的操作\n",
    "1. dumps()\n",
    "2. loads()"
   ]
  },
  {
   "cell_type": "code",
   "execution_count": null,
   "id": "28c56d23",
   "metadata": {},
   "outputs": [],
   "source": [
    "import json\n",
    "# json.dumps()方法用于将Python对象编码成JSON字符串。\n",
    "json.dumps([1, 2, 3, 'a', 'b', 'c'])\n",
    "json.dumps({'name': 'Alice', 'age': 25, 'city': 'Beijing'})\n",
    "# json.loads()方法用于将JSON字符串解码成Python对象。\n",
    "json_str = '{\"name\": \"Alice\", \"age\": 25, \"city\": \"Beijing\"}'\n",
    "print(json_str)\n",
    "print(type(json_str))\n",
    "json.loads(json_str)\n",
    "print(json_str)\n",
    "print(type(json_str))"
   ]
  },
  {
   "cell_type": "code",
   "execution_count": 2,
   "id": "b31248a5",
   "metadata": {},
   "outputs": [
    {
     "name": "stdout",
     "output_type": "stream",
     "text": [
      "Python 原始数据： {'no': 1, 'name': 'Runoob', 'url': 'https://www.runoob.com'}\n",
      "JSON 对象： {\"no\": 1, \"name\": \"Runoob\", \"url\": \"https://www.runoob.com\"}\n"
     ]
    }
   ],
   "source": [
    "#!/usr/bin/python3\n",
    " \n",
    "import json\n",
    " \n",
    "# Python 字典类型转换为 JSON 对象\n",
    "data = {\n",
    "    'no' : 1,\n",
    "    'name' : 'Runoob',\n",
    "    'url' : 'https://www.runoob.com'\n",
    "}\n",
    " \n",
    "json_str = json.dumps(data)\n",
    "print (\"Python 原始数据：\", repr(data))\n",
    "print (\"JSON 对象：\", json_str)"
   ]
  },
  {
   "cell_type": "markdown",
   "id": "211e6890",
   "metadata": {},
   "source": [
    "#### JSON 对文件的操作\n",
    "1. dump()\n",
    "2. load()"
   ]
  },
  {
   "cell_type": "code",
   "execution_count": 3,
   "id": "0c6a4506",
   "metadata": {},
   "outputs": [
    {
     "name": "stdout",
     "output_type": "stream",
     "text": [
      "{'no': 1, 'name': 'Runoob', 'url': 'https://www.runoob.com'}\n"
     ]
    }
   ],
   "source": [
    "with open('test.txt', 'w') as f:\n",
    "    json.dump(data, f)\n",
    "\n",
    "with open('test.txt', 'r') as f:\n",
    "    data = json.load(f)\n",
    "    print(data)"
   ]
  },
  {
   "cell_type": "code",
   "execution_count": null,
   "id": "b0d73d56",
   "metadata": {},
   "outputs": [],
   "source": [
    "import os\n",
    "print(os.getcwd())\n",
    "os.mkdir(os.getcwd()+'\\\\temp')\n",
    "os.chdir(os.getcwd()+'\\\\temp')\n",
    "print(os.getcwd())"
   ]
  },
  {
   "cell_type": "code",
   "execution_count": 8,
   "id": "a9ace1ff",
   "metadata": {},
   "outputs": [
    {
     "name": "stdout",
     "output_type": "stream",
     "text": [
      "['111', '222', '333', '444', '555', '666', '888']\n"
     ]
    }
   ],
   "source": [
    "lst = []\n",
    "with open('data.txt','r') as d, open('data_scv.txt','w') as d2:\n",
    "    for line in d:\n",
    "        lst.append(line[0:3])\n",
    "\n",
    "lst.sort()\n",
    "print(lst)\n",
    "\n",
    "\n",
    "with open('data_scv.txt','w') as d2:\n",
    "    for i in lst:\n",
    "        d2.write(f\"{int(i)}\\n\")"
   ]
  },
  {
   "cell_type": "code",
   "execution_count": 9,
   "id": "87b093ed",
   "metadata": {},
   "outputs": [
    {
     "name": "stdout",
     "output_type": "stream",
     "text": [
      "[555, 666, 111, 999, 777]\n"
     ]
    }
   ],
   "source": [
    "# 读取 input.txt 的每一行（假设每行一个整数），排序后写入 output.txt\n",
    "with open('input.txt', 'r') as f_in:\n",
    "    numbers = [int(line.strip()) for line in f_in if line.strip()]  # 读取并转为整数列表\n",
    "print(numbers)\n",
    "numbers.sort()  # 排序（升序）\n",
    "\n",
    "with open('output.txt', 'w') as f_out:\n",
    "    for num in numbers:\n",
    "        f_out.write(f\"{num}\\n\")  # 每行写入一个数字"
   ]
  }
 ],
 "metadata": {
  "kernelspec": {
   "display_name": "base",
   "language": "python",
   "name": "python3"
  },
  "language_info": {
   "codemirror_mode": {
    "name": "ipython",
    "version": 3
   },
   "file_extension": ".py",
   "mimetype": "text/x-python",
   "name": "python",
   "nbconvert_exporter": "python",
   "pygments_lexer": "ipython3",
   "version": "3.12.4"
  }
 },
 "nbformat": 4,
 "nbformat_minor": 5
}
