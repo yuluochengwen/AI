{
 "cells": [
  {
   "cell_type": "code",
   "execution_count": 6,
   "id": "e9c850f7",
   "metadata": {},
   "outputs": [
    {
     "name": "stdout",
     "output_type": "stream",
     "text": [
      "-------题目1--------\n",
      "该学生信息：\n",
      "姓名：小明\n",
      "年龄：13\n",
      "成绩[90, 95, 88]\n"
     ]
    },
    {
     "data": {
      "text/plain": [
       "'该学生信息：\\n姓名：小明\\n年龄：13\\n成绩[90, 95, 88]'"
      ]
     },
     "execution_count": 6,
     "metadata": {},
     "output_type": "execute_result"
    }
   ],
   "source": [
    "class Student:\n",
    "    def __init__(self,name,age):\n",
    "        self.name = name\n",
    "        self.age = age\n",
    "        self.grades = []   # 空的成绩列表\n",
    " \n",
    "    def add_grade(self,score):\n",
    "        self.grades.append(score)  # 追加成绩\n",
    " \n",
    "    def __str__(self):          # 重写__str__方法，打印对象信息，在使用print(对象)或str(对象)时调用\n",
    "        return f\"该学生信息：\\n姓名：{self.name}\\n年龄：{self.age}\\n成绩{self.grades}\"\n",
    " \n",
    "print('-------题目1--------')\n",
    "xiaoming = Student('小明',13)\n",
    "xiaoming.add_grade(90)\n",
    "xiaoming.add_grade(95)\n",
    "xiaoming.add_grade(88)\n",
    "print(xiaoming)\n",
    "str(xiaoming)"
   ]
  },
  {
   "cell_type": "code",
   "execution_count": 7,
   "id": "2c5a5213",
   "metadata": {},
   "outputs": [
    {
     "name": "stdout",
     "output_type": "stream",
     "text": [
      "-------题目2--------\n",
      "狗狗的名字是：旺财\n",
      "Woof!\n"
     ]
    }
   ],
   "source": [
    "class Animal:\n",
    "    def __init__(self,name):\n",
    "        self.name = name\n",
    " \n",
    "    def make_sound(self):\n",
    "        pass\n",
    " \n",
    "class Dog(Animal):\n",
    "    def make_sound(self):\n",
    "        return 'Woof!'\n",
    " \n",
    "    def __str__(self):\n",
    "        return f'狗狗的名字是：{self.name}'\n",
    " \n",
    "print('-------题目2--------')\n",
    "dog = Dog('旺财')\n",
    "print(dog)\n",
    "print(dog.make_sound())"
   ]
  },
  {
   "cell_type": "code",
   "execution_count": 9,
   "id": "86d89c46",
   "metadata": {},
   "outputs": [
    {
     "name": "stdout",
     "output_type": "stream",
     "text": [
      "7641 - 1467 = 6174\n"
     ]
    }
   ],
   "source": [
    "n=input()\n",
    "while True:\n",
    "    n = (4 - len(n)) * '0' + n\n",
    "    if int(n) % 1111 == 0:\n",
    "        print(n, '-', n, '=', '0000')\n",
    "        break\n",
    "    b,c=list(n),list(n)\n",
    "    b.sort(reverse=True)\n",
    "    c.sort()\n",
    "    b,c=(''.join(b)),(''.join(c))\n",
    "    n=str(int(b)-int(c))\n",
    "    print(b,'-',c,'=',n.zfill(4))\n",
    "    if n=='6174':\n",
    "        break\n",
    "#坑点：不是四位数时前面要补零输出，有可能出现个位要注意补齐"
   ]
  }
 ],
 "metadata": {
  "kernelspec": {
   "display_name": "base",
   "language": "python",
   "name": "python3"
  },
  "language_info": {
   "codemirror_mode": {
    "name": "ipython",
    "version": 3
   },
   "file_extension": ".py",
   "mimetype": "text/x-python",
   "name": "python",
   "nbconvert_exporter": "python",
   "pygments_lexer": "ipython3",
   "version": "3.12.4"
  }
 },
 "nbformat": 4,
 "nbformat_minor": 5
}
