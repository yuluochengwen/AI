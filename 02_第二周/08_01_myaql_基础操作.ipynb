{
 "cells": [
  {
   "cell_type": "code",
   "execution_count": 1,
   "id": "5065e55f",
   "metadata": {},
   "outputs": [
    {
     "name": "stdout",
     "output_type": "stream",
     "text": [
      "(('apple', 30.0, 10.0, 3), ('eric', 50.0, 10.0, 5))\n",
      "apple\n",
      "eric\n"
     ]
    }
   ],
   "source": [
    "import pymysql\n",
    "\n",
    "myconn = pymysql.connect(host=\"localhost\", user=\"root\", password=\"123456\", database=\"mydb6\")\n",
    "cur = myconn.cursor()\n",
    "sql = 'select * from t_user'\n",
    "cur.execute(sql)\n",
    "\n",
    "res = cur.fetchall()\n",
    "print(res)\n",
    "\n",
    "for raw in res:\n",
    "    print(raw[0])\n"
   ]
  }
 ],
 "metadata": {
  "kernelspec": {
   "display_name": "base",
   "language": "python",
   "name": "python3"
  },
  "language_info": {
   "codemirror_mode": {
    "name": "ipython",
    "version": 3
   },
   "file_extension": ".py",
   "mimetype": "text/x-python",
   "name": "python",
   "nbconvert_exporter": "python",
   "pygments_lexer": "ipython3",
   "version": "3.12.4"
  }
 },
 "nbformat": 4,
 "nbformat_minor": 5
}
