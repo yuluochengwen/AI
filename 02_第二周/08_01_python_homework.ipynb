{
 "cells": [
  {
   "cell_type": "markdown",
   "id": "a08e569b",
   "metadata": {},
   "source": [
    "#### PAT-1057 数零壹\n",
    "1. bin()函数可以将十进制数转换为二进制数。\n"
   ]
  },
  {
   "cell_type": "code",
   "execution_count": null,
   "id": "cca8389d",
   "metadata": {},
   "outputs": [],
   "source": [
    "words = ['@','a','b','c','d','e','f','g','h','i','j','k','l','m','n','o','p','q','r','s','t','u','v','w','x','y','z']\n",
    "sum_word = 0\n",
    "n = input().lower()\n",
    "for i in n:\n",
    "    if i in words:\n",
    "        sum_word += words.index(i)\n",
    "bin_sum= bin(sum_word)[2:]\n",
    "count0 = bin_sum.count('0')\n",
    "count1 = bin_sum.count('1')\n",
    "if sum_word == 0:\n",
    "    print(0,0)\n",
    "else:\n",
    "    print(count0,count1)\n"
   ]
  },
  {
   "cell_type": "code",
   "execution_count": null,
   "id": "1259b68e",
   "metadata": {},
   "outputs": [],
   "source": [
    "# 1.数壹零（PAT_1057）\n",
    "st = input()\n",
    "lst = [0]*26   # 存放字母数量\n",
    "\n",
    "for i in st :\n",
    "    # 可以在接收输入时，将输入字符串转为小写，这样可以避免判断大小写\n",
    "    if 'a' <= i <= 'z':\n",
    "        lst[ord(i) - ord('a')] +=1\n",
    "    elif 'A' <= i <= 'Z':\n",
    "        lst[ord(i)-ord('A')] += 1\n",
    "\n",
    "for i in range(26):\n",
    "    lst[i] = lst[i] * (i+1) # 计算权重\n",
    "if sum(lst) != 0:\n",
    "    total = list(bin(sum(lst)))[2:]     #如果lst是0的话，bin(0)[2:]会返回'0'，即total = '0'，所以total.count('0')最少也会等于1\n",
    "    print(total.count('0'),total.count('1'))\n",
    "else:\n",
    "    # print()\n",
    "    # print(0,0)            # 这样输出也行，我不清楚你怎么输出0 0的\n",
    "    print(f'{0} {0}')       # 若输入字符串里没有字母，则输出0 0，而不是输出空行，这里使用f-string格式化输出\n",
    "\n",
    "#这是我的,仅供参考\n",
    "# words = ['@','a','b','c','d','e','f','g','h','i','j','k','l','m','n','o','p','q','r','s','t','u','v','w','x','y','z']\n",
    "# sum_word = 0\n",
    "# n = input().lower()\n",
    "# for i in n:\n",
    "#     if i in words:\n",
    "#         sum_word += words.index(i)\n",
    "# bin_sum= bin(sum_word)[2:]\n",
    "# count0 = bin_sum.count('0')\n",
    "# count1 = bin_sum.count('1')\n",
    "# if sum_word == 0:\n",
    "#     print(0,0)\n",
    "# else:\n",
    "#     print(count0,count1)\n"
   ]
  },
  {
   "cell_type": "markdown",
   "id": "c27aebc6",
   "metadata": {},
   "source": [
    "#### PAT-1048 数字加密\n",
    "1. reverse()函数：将字符串反转\n",
    "2. A_zip_B = list(zip_longest(A, B,fillvalue=0))：将A和B按位组合成，并用0填充长度不足的位数(后面补0)\n",
    "3. zfill(n)函数：将字符串左侧填充0，使其长度为n\n",
    "4. 下面补充两种字符串填充方法"
   ]
  },
  {
   "cell_type": "code",
   "execution_count": 52,
   "id": "31fa0022",
   "metadata": {},
   "outputs": [
    {
     "name": "stdout",
     "output_type": "stream",
     "text": [
      "42000\n"
     ]
    }
   ],
   "source": [
    "text = \"42\"\n",
    "padded = text.ljust(5, '0')  # 右侧填充到总长度5，用'0'填充\n",
    "print(padded)  # 输出: \"42000\""
   ]
  },
  {
   "cell_type": "code",
   "execution_count": 51,
   "id": "7afd2147",
   "metadata": {},
   "outputs": [
    {
     "name": "stdout",
     "output_type": "stream",
     "text": [
      "00042\n"
     ]
    }
   ],
   "source": [
    "text = \"42\"\n",
    "padded = text.rjust(5, '0')  # 左侧填充到总长度5，用'0'填充\n",
    "print(padded)  # 输出: \"00042\""
   ]
  },
  {
   "cell_type": "code",
   "execution_count": null,
   "id": "50f63f4f",
   "metadata": {},
   "outputs": [],
   "source": [
    "from itertools import zip_longest\n",
    "A, B = input().split()\n",
    "A = list(map(int, A))\n",
    "B = list(map(int, B))\n",
    "A.reverse()\n",
    "B.reverse()\n",
    "# 默认要加密的数字B比长，这是不合理的，应该补齐长度，这里用0补齐\n",
    "\n",
    "A_zip_B = list(zip_longest(A, B,fillvalue=0))\n",
    "# print(A_zip_B)\n",
    "count = 1\n",
    "result_lst = []\n",
    "auxi_lst = [0, 1, 2, 3, 4, 5, 6, 7, 8, 9, 'J', 'Q', 'K']        #辅助列表\n",
    "for i in A_zip_B:\n",
    "    if count % 2 == 1:    #奇数\n",
    "        element_index = (i[0]+i[1]) % 13\n",
    "        result_lst.append(auxi_lst[element_index])\n",
    "    else:                #偶数\n",
    "        element = i[1] - i[0]\n",
    "        if element < 0:\n",
    "            result_lst.append(element+10)\n",
    "        else:\n",
    "            result_lst.append(element)\n",
    "    count += 1\n",
    "# if len(A) >= len(B):\n",
    "#     pass\n",
    "# else:\n",
    "#     # 179287863\n",
    "#     for i in range(len(B)-len(A)):\n",
    "#         result_lst.append(B[len(A)+i])\n",
    "\n",
    "result_lst.reverse()\n",
    "result = ''.join(map(str, result_lst))\n",
    "print(result)\n"
   ]
  },
  {
   "cell_type": "markdown",
   "id": "8c7c92f6",
   "metadata": {},
   "source": [
    "#### PAT-1061 判断题"
   ]
  },
  {
   "cell_type": "code",
   "execution_count": null,
   "id": "6023235a",
   "metadata": {},
   "outputs": [],
   "source": [
    "N, M = map(int, input().split())\n",
    "max_score = list(map(int, input().split()))\n",
    "answers = list(map(int, input().split()))\n",
    "for i in range(N):\n",
    "    stduent_answers = list(map(int, input().split()))\n",
    "    std_score = 0\n",
    "    for j in range(M):\n",
    "        if stduent_answers[j] == answers[j]:\n",
    "            std_score += max_score[j]\n",
    "    print(std_score)\n"
   ]
  },
  {
   "cell_type": "markdown",
   "id": "4fa2ecba",
   "metadata": {},
   "source": [
    "#### PAT-1064 朋友数"
   ]
  },
  {
   "cell_type": "code",
   "execution_count": null,
   "id": "53164db0",
   "metadata": {},
   "outputs": [],
   "source": [
    "N = int(input())\n",
    "nums = list(map(int, input().split()))\n",
    "\n",
    "num_sum = []\n",
    "friend_nums = []\n",
    "for i in nums:\n",
    "    num_sum.append(sum(list(map(int, str(i)))))\n",
    "\n",
    "print(num_sum)\n",
    "\n",
    "for i in num_sum:\n",
    "    if num_sum.count(i) >= 2 and i not in friend_nums:\n",
    "        friend_nums.append(i)\n",
    "        \n",
    "friend_nums.sort()\n",
    "print(len(friend_nums))\n",
    "result = ' '.join(map(str, friend_nums))\n",
    "print(result)\n"
   ]
  },
  {
   "cell_type": "code",
   "execution_count": null,
   "id": "9cf0bab6",
   "metadata": {},
   "outputs": [],
   "source": [
    "n = int(input())\n",
    "numbers = list(map(int, input().split()))\n",
    "friend_ids = set()\n",
    "\n",
    "for num in numbers:\n",
    "    digit_sum = sum(int(d) for d in str(num))\n",
    "    friend_ids.add(digit_sum)\n",
    "\n",
    "sorted_ids = sorted(friend_ids)\n",
    "print(len(sorted_ids))\n",
    "print(' '.join(map(str, sorted_ids)))"
   ]
  },
  {
   "cell_type": "markdown",
   "id": "7073da73",
   "metadata": {},
   "source": [
    "#### PAT-1053 住房空置率"
   ]
  },
  {
   "cell_type": "code",
   "execution_count": null,
   "id": "bf7056f5",
   "metadata": {},
   "outputs": [],
   "source": [
    "N, e, D = input().split()\n",
    "N = int(N)\n",
    "e = float(e)\n",
    "D = int(D)\n",
    "may_vacant = 0\n",
    "vacant = 0\n",
    "\n",
    "for i in range(int(N)):\n",
    "    input_lst = list(map(float, input().split()))\n",
    "    K = input_lst.pop(0)\n",
    "    count = len([x for x in input_lst if x < e])\n",
    "    if count > K//2:\n",
    "        if K > D:\n",
    "            vacant += 1\n",
    "            continue\n",
    "        may_vacant += 1\n",
    "\n",
    "print(f\"{may_vacant/N*100:.1f}% {vacant/N*100:.1f}%\")\n"
   ]
  }
 ],
 "metadata": {
  "kernelspec": {
   "display_name": "base",
   "language": "python",
   "name": "python3"
  },
  "language_info": {
   "codemirror_mode": {
    "name": "ipython",
    "version": 3
   },
   "file_extension": ".py",
   "mimetype": "text/x-python",
   "name": "python",
   "nbconvert_exporter": "python",
   "pygments_lexer": "ipython3",
   "version": "3.12.4"
  }
 },
 "nbformat": 4,
 "nbformat_minor": 5
}
