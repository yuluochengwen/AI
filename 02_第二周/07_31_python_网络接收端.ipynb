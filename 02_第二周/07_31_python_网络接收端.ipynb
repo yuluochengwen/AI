{
 "cells": [
  {
   "cell_type": "markdown",
   "id": "aa36eb65",
   "metadata": {},
   "source": [
    "#### 计算机网络\n",
    "##### 七层模型  （物理层、数据链路层、网络层、传输层、会话层、表示层、应用层）\n",
    "##### 网络协议\n",
    "1. UDP协议\n",
    "2. TCP协议\n"
   ]
  },
  {
   "cell_type": "code",
   "execution_count": null,
   "id": "66d426ca",
   "metadata": {},
   "outputs": [],
   "source": [
    "# UDP协议范例\n",
    "# 接收端\n",
    "import socket\n",
    "s = socket.socket(socket.AF_INET, socket.SOCK_DGRAM) # 创建UDP套接字\n",
    "s.bind(('127.0.0.1', 5000)) # 绑定地址和端口\n",
    "print('Waiting for message...')\n",
    "while True:\n",
    "    data,address = s.recvfrom(1024) # 接收数据和地址\n",
    "    data = data.decode('utf-8') # 解码数据\n",
    "    print(f'Received from {address}: {data}') # 打印接收到的信息\n",
    "    if data.lower() == \"bye\":\n",
    "        break\n"
   ]
  },
  {
   "cell_type": "code",
   "execution_count": null,
   "id": "2f27d036",
   "metadata": {},
   "outputs": [
    {
     "name": "stdout",
     "output_type": "stream",
     "text": [
      "Waiting for connection...\n",
      "Accept new connection from 127.0.0.1:50774\n"
     ]
    },
    {
     "name": "stderr",
     "output_type": "stream",
     "text": [
      "Exception in thread Thread-6 (tcplink):\n",
      "Traceback (most recent call last):\n",
      "  File \"e:\\Anaconda\\Lib\\threading.py\", line 1073, in _bootstrap_inner\n",
      "    self.run()\n",
      "  File \"e:\\Anaconda\\Lib\\threading.py\", line 1010, in run\n",
      "    self._target(*self._args, **self._kwargs)\n",
      "  File \"C:\\Users\\Man\\AppData\\Local\\Temp\\ipykernel_17384\\3511536655.py\", line 17, in tcplink\n",
      "ConnectionAbortedError: [WinError 10053] 你的主机中的软件中止了一个已建立的连接。\n"
     ]
    }
   ],
   "source": [
    "# TCP范例\n",
    "import socket\n",
    "import time\n",
    "import threading\n",
    "\n",
    "# 创建套接字\n",
    "s = socket.socket(socket.AF_INET, socket.SOCK_STREAM)\n",
    "# 绑定IP和端口\n",
    "s.bind(('127.0.0.1', 9999))\n",
    "s.listen(5)\n",
    "print('Waiting for connection...')\n",
    "\n",
    "def tcplink(sock, addr):\n",
    "    print(\"Accept new connection from %s:%s\"%addr)\n",
    "    sock.send(b\"Welcome!\")\n",
    "    while True:\n",
    "        data = sock.recv(1024)\n",
    "        time.sleep(1)\n",
    "        if not data or data.decode('utf-8') == 'exit':\n",
    "            break\n",
    "        sock.send(('Hello,%s!'%data.decode('utf-8')).encode('utf-8'))\n",
    "    sock.close()\n",
    "    print(\"Connection from %s:%s closed:\"%addr)\n",
    "\n",
    "# 开启多线程\n",
    "while True:\n",
    "    sock,addr = s.accept()\n",
    "    #创建新线程\n",
    "    t = threading.Thread(target=tcplink,args=(sock,addr))\n",
    "    t.start()"
   ]
  }
 ],
 "metadata": {
  "kernelspec": {
   "display_name": "base",
   "language": "python",
   "name": "python3"
  },
  "language_info": {
   "codemirror_mode": {
    "name": "ipython",
    "version": 3
   },
   "file_extension": ".py",
   "mimetype": "text/x-python",
   "name": "python",
   "nbconvert_exporter": "python",
   "pygments_lexer": "ipython3",
   "version": "3.12.4"
  }
 },
 "nbformat": 4,
 "nbformat_minor": 5
}
