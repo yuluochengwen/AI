{
 "cells": [
  {
   "cell_type": "code",
   "execution_count": 2,
   "id": "92c7f38e",
   "metadata": {},
   "outputs": [
    {
     "name": "stdout",
     "output_type": "stream",
     "text": [
      "请输入下标索引：\n",
      "索引越界，请重新输入。\n",
      "请输入下标索引：\n",
      "类型错误，请输入阿拉伯数字。\n",
      "请输入下标索引：\n",
      "Tom\n",
      "这是else里的语句\n"
     ]
    }
   ],
   "source": [
    "a_list = [\"Amanda\", \"Tom\", \"LiHua\", \"Kelak\"]\n",
    "while True:\n",
    "    try:\n",
    "        print(\"请输入下标索引：\")\n",
    "        n = int(input())\n",
    "        print(a_list[n])\n",
    "    except IndexError:\n",
    "        print(\"索引越界，请重新输入。\")\n",
    "    except ValueError:\n",
    "        print(\"类型错误，请输入阿拉伯数字。\")\n",
    "    else:                                       # 如果try块里的内容正常执行，则else里的代码也会跟着执行\n",
    "        print(\"这是else里的语句\")\n",
    "        break"
   ]
  },
  {
   "cell_type": "code",
   "execution_count": 2,
   "id": "ac221849",
   "metadata": {},
   "outputs": [
    {
     "name": "stdout",
     "output_type": "stream",
     "text": [
      "请输入阿拉伯数字。\n",
      "1.0\n"
     ]
    }
   ],
   "source": [
    "while True:\n",
    "    try:\n",
    "        a = float(input(\"请输入被除数：\"))\n",
    "        b = float(input(\"请输入除数：\"))\n",
    "        print(a/b)\n",
    "        break\n",
    "    except ZeroDivisionError:\n",
    "        print(\"被除数不能为零。\")\n",
    "\n",
    "    except ValueError:\n",
    "        print(\"请输入阿拉伯数字。\")\n"
   ]
  },
  {
   "cell_type": "code",
   "execution_count": 4,
   "id": "6d4d8e77",
   "metadata": {},
   "outputs": [
    {
     "name": "stdout",
     "output_type": "stream",
     "text": [
      "除数不能为0\n",
      "这一行是无论如何都会执行的，因为这一行放在了finally里。\n",
      "结果是： 2.0\n",
      "这一行是无论如何都会执行的，因为这一行放在了finally里。\n"
     ]
    }
   ],
   "source": [
    "def divide(x, y):\n",
    "    try:\n",
    "        result = x / y\n",
    "    except ZeroDivisionError:\n",
    "        print(\"除数不能为0\")\n",
    "    else:\n",
    "        print(\"结果是：\",result)\n",
    "    finally:\n",
    "        print(\"这一行是无论如何都会执行的，因为这一行放在了finally里。\")             # finally块的代码是无论如何都会输出的\n",
    "\n",
    "divide(10,0)\n",
    "divide(10,5)"
   ]
  }
 ],
 "metadata": {
  "kernelspec": {
   "display_name": "base",
   "language": "python",
   "name": "python3"
  },
  "language_info": {
   "codemirror_mode": {
    "name": "ipython",
    "version": 3
   },
   "file_extension": ".py",
   "mimetype": "text/x-python",
   "name": "python",
   "nbconvert_exporter": "python",
   "pygments_lexer": "ipython3",
   "version": "3.12.4"
  }
 },
 "nbformat": 4,
 "nbformat_minor": 5
}
