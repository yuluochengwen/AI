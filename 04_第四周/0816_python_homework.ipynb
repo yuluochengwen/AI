{
 "cells": [
  {
   "cell_type": "markdown",
   "id": "c6882f10",
   "metadata": {},
   "source": [
    "#### PAT-1078"
   ]
  },
  {
   "cell_type": "code",
   "execution_count": null,
   "id": "2ebb3ab7",
   "metadata": {},
   "outputs": [],
   "source": [
    "def compress(text):\n",
    "    if not text:\n",
    "        return \"\"\n",
    "    \n",
    "    result = []\n",
    "    current_char = text[0]\n",
    "    count = 1\n",
    "    \n",
    "    for char in text[1:]:\n",
    "        if char == current_char:\n",
    "            count += 1\n",
    "        else:\n",
    "            result.append(f\"{count}{current_char}\" if count > 1 else current_char)\n",
    "            current_char = char\n",
    "            count = 1\n",
    "    \n",
    "    # 处理最后一个字符序列\n",
    "    result.append(f\"{count}{current_char}\" if count > 1 else current_char)\n",
    "    return \"\".join(result)\n",
    "\n",
    "def decompress(text):\n",
    "    result = []\n",
    "    i = 0\n",
    "    n = len(text)\n",
    "    \n",
    "    while i < n:\n",
    "        if text[i].isdigit():\n",
    "            # 提取完整数字\n",
    "            num_str = []\n",
    "            while i < n and text[i].isdigit():\n",
    "                num_str.append(text[i])\n",
    "                i += 1\n",
    "            # 确保数字后跟字符\n",
    "            if i < n:\n",
    "                result.append(text[i] * int(\"\".join(num_str)))\n",
    "                i += 1\n",
    "        else:\n",
    "            result.append(text[i])\n",
    "            i += 1\n",
    "    \n",
    "    return \"\".join(result)\n",
    "\n",
    "if __name__ == \"__main__\":\n",
    "    mode = input()\n",
    "    input_str = input()\n",
    "    if mode == 'C':\n",
    "        print(compress(input_str))\n",
    "    elif mode == 'D':\n",
    "        print(decompress(input_str))"
   ]
  },
  {
   "cell_type": "markdown",
   "id": "85bc4db0",
   "metadata": {},
   "source": [
    "#### PAT-1079"
   ]
  },
  {
   "cell_type": "code",
   "execution_count": null,
   "id": "691da9bb",
   "metadata": {},
   "outputs": [],
   "source": [
    "def find_palindromic_number(N):\n",
    "    if N == N[::-1]:\n",
    "        return f\"{N} is a palindromic number.\"\n",
    "\n",
    "    for _ in range(10):\n",
    "        print(f\"{N} + {N[::-1]} = {int(N) + int(N[::-1])}\")\n",
    "        N = str(int(N) + int(N[::-1]))\n",
    "        if N == N[::-1]:\n",
    "            return f\"{N} is a palindromic number.\"\n",
    "\n",
    "    return \"Not found in 10 iterations.\"\n",
    "\n",
    "if __name__ == '__main__':\n",
    "    N = input()\n",
    "    print(find_palindromic_number(N))"
   ]
  },
  {
   "cell_type": "markdown",
   "id": "113ba9e4",
   "metadata": {},
   "source": [
    "#### PAT-1080"
   ]
  },
  {
   "cell_type": "code",
   "execution_count": null,
   "id": "aa4a8573",
   "metadata": {},
   "outputs": [],
   "source": []
  }
 ],
 "metadata": {
  "kernelspec": {
   "display_name": "base",
   "language": "python",
   "name": "python3"
  },
  "language_info": {
   "name": "python",
   "version": "3.12.4"
  }
 },
 "nbformat": 4,
 "nbformat_minor": 5
}
