{
 "cells": [
  {
   "cell_type": "code",
   "execution_count": 13,
   "id": "de6d0037",
   "metadata": {},
   "outputs": [
    {
     "name": "stdout",
     "output_type": "stream",
     "text": [
      "使用默认种子生成随机数： 0.27177381378898813\n",
      "使用默认种子生成随机数： 0.0902133264242937\n",
      "使用整数 10 种子生成随机数： 0.5714025946899135\n",
      "使用整数 10 种子生成随机数： 0.5714025946899135\n",
      "使用字符串种子生成随机数： 0.3537754404730722\n"
     ]
    }
   ],
   "source": [
    "#!/usr/bin/python3\n",
    "import random\n",
    "\n",
    "random.seed()\n",
    "print (\"使用默认种子生成随机数：\", random.random())\n",
    "print (\"使用默认种子生成随机数：\", random.random())\n",
    "\n",
    "random.seed(10)\n",
    "print (\"使用整数 10 种子生成随机数：\", random.random())\n",
    "random.seed(10)\n",
    "print (\"使用整数 10 种子生成随机数：\", random.random())\n",
    "\n",
    "random.seed(\"hello\",2)\n",
    "print (\"使用字符串种子生成随机数：\", random.random())"
   ]
  }
 ],
 "metadata": {
  "kernelspec": {
   "display_name": "base",
   "language": "python",
   "name": "python3"
  },
  "language_info": {
   "codemirror_mode": {
    "name": "ipython",
    "version": 3
   },
   "file_extension": ".py",
   "mimetype": "text/x-python",
   "name": "python",
   "nbconvert_exporter": "python",
   "pygments_lexer": "ipython3",
   "version": "3.12.4"
  }
 },
 "nbformat": 4,
 "nbformat_minor": 5
}
