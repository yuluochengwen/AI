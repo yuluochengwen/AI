{
 "cells": [
  {
   "cell_type": "code",
   "execution_count": 1,
   "id": "1d898863",
   "metadata": {},
   "outputs": [],
   "source": [
    "import numpy as np"
   ]
  },
  {
   "cell_type": "markdown",
   "id": "949ab326",
   "metadata": {},
   "source": [
    "#### numpy 切分/合并"
   ]
  },
  {
   "cell_type": "markdown",
   "id": "16b007cd",
   "metadata": {},
   "source": [
    "##### 切分"
   ]
  },
  {
   "cell_type": "code",
   "execution_count": 5,
   "id": "26ce0021",
   "metadata": {},
   "outputs": [
    {
     "data": {
      "text/plain": [
       "[array([[1, 2],\n",
       "        [5, 6]]),\n",
       " array([[3, 4],\n",
       "        [7, 8]])]"
      ]
     },
     "execution_count": 5,
     "metadata": {},
     "output_type": "execute_result"
    }
   ],
   "source": [
    "# 水平切分\n",
    "arr = np.array([[1, 2, 3, 4], \n",
    "                [5, 6, 7, 8]])\n",
    "\n",
    "# 水平切分成2个数组\n",
    "result = np.hsplit(arr, 2)\n",
    "result\n",
    "# [array([[1, 2],\n",
    "#        [5, 6]]), \n",
    "#  array([[3, 4],\n",
    "#        [7, 8]])]"
   ]
  },
  {
   "cell_type": "code",
   "execution_count": 6,
   "id": "dc3b9400",
   "metadata": {},
   "outputs": [
    {
     "data": {
      "text/plain": [
       "[array([[1, 2]]), array([[3, 4]]), array([[5, 6]])]"
      ]
     },
     "execution_count": 6,
     "metadata": {},
     "output_type": "execute_result"
    }
   ],
   "source": [
    "# 垂直切分\n",
    "arr = np.array([[1, 2], \n",
    "                [3, 4], \n",
    "                [5, 6]])\n",
    "\n",
    "# 垂直切分成3个数组\n",
    "result = np.vsplit(arr, 3)\n",
    "result\n",
    "# [array([[1, 2]]), \n",
    "#  array([[3, 4]]), \n",
    "#  array([[5, 6]])]"
   ]
  },
  {
   "cell_type": "code",
   "execution_count": null,
   "id": "f4a8d6a8",
   "metadata": {},
   "outputs": [],
   "source": [
    "# 通用切分\n",
    "arr = np.array([[1, 2, 3], \n",
    "                [4, 5, 6], \n",
    "                [7, 8, 9]])\n",
    "\n",
    "# 沿轴1切分(水平方向)\n",
    "result = np.split(arr, 3, axis=1)\n",
    "print(result)\n",
    "# [array([[1],\n",
    "#         [4],\n",
    "#         [7]]), \n",
    "#  array([[2],\n",
    "#         [5],\n",
    "#         [8]]), \n",
    "#  array([[3],\n",
    "#         [6],\n",
    "#         [9]])]\n",
    "\n",
    "# 沿轴0切分(垂直方向)\n",
    "result = np.split(arr, 3, axis=0)\n",
    "print(result)\n",
    "# [array([[1, 2, 3]]), \n",
    "#  array([[4, 5, 6]]), \n",
    "#  array([[7, 8, 9]])]"
   ]
  },
  {
   "cell_type": "markdown",
   "id": "418b2705",
   "metadata": {},
   "source": [
    "##### 合并"
   ]
  },
  {
   "cell_type": "code",
   "execution_count": 11,
   "id": "b10d03e3",
   "metadata": {},
   "outputs": [
    {
     "name": "stdout",
     "output_type": "stream",
     "text": [
      "[1 2 3 4 5 6]\n"
     ]
    },
    {
     "data": {
      "text/plain": [
       "array([[1, 4],\n",
       "       [2, 5],\n",
       "       [3, 6]])"
      ]
     },
     "execution_count": 11,
     "metadata": {},
     "output_type": "execute_result"
    }
   ],
   "source": [
    "# 水平合并\n",
    "a = np.array([1, 2, 3])\n",
    "b = np.array([4, 5, 6])\n",
    "\n",
    "result = np.hstack((a, b))\n",
    "print(result)  # [1 2 3 4 5 6]\n",
    "\n",
    "# 二维数组示例\n",
    "a = np.array([[1], [2], [3]])\n",
    "b = np.array([[4], [5], [6]])\n",
    "\n",
    "result = np.hstack((a, b))\n",
    "result\n",
    "# [[1 4]\n",
    "#  [2 5]\n",
    "#  [3 6]]"
   ]
  },
  {
   "cell_type": "code",
   "execution_count": 9,
   "id": "681607bd",
   "metadata": {},
   "outputs": [
    {
     "data": {
      "text/plain": [
       "array([[1],\n",
       "       [2],\n",
       "       [3],\n",
       "       [4],\n",
       "       [5],\n",
       "       [6]])"
      ]
     },
     "execution_count": 9,
     "metadata": {},
     "output_type": "execute_result"
    }
   ],
   "source": [
    "# 垂直合并\n",
    "a = np.array([1, 2, 3])\n",
    "b = np.array([4, 5, 6])\n",
    "\n",
    "result = np.vstack((a, b))\n",
    "result\n",
    "# [[1 2 3]\n",
    "#  [4 5 6]]\n",
    "\n",
    "# 二维数组示例\n",
    "a = np.array([[1], [2], [3]])\n",
    "b = np.array([[4], [5], [6]])\n",
    "\n",
    "result = np.vstack((a, b))\n",
    "result\n",
    "# [[1]\n",
    "#  [2]\n",
    "#  [3]\n",
    "#  [4]\n",
    "#  [5]\n",
    "#  [6]]"
   ]
  },
  {
   "cell_type": "code",
   "execution_count": null,
   "id": "1c8a617b",
   "metadata": {},
   "outputs": [],
   "source": [
    "# 通用合并\n",
    "a = np.array([1, 2, 3])\n",
    "b = np.array([4, 5, 6])\n",
    "\n",
    "# 沿新轴0堆叠\n",
    "result = np.stack((a, b), axis=0)\n",
    "print(result)\n",
    "# [[1 2 3]\n",
    "#  [4 5 6]]\n",
    "\n",
    "# 沿新轴1堆叠\n",
    "result = np.stack((a, b), axis=1)\n",
    "print(result)\n",
    "# [[1 4]\n",
    "#  [2 5]\n",
    "#  [3 6]]"
   ]
  },
  {
   "cell_type": "markdown",
   "id": "281627dc",
   "metadata": {},
   "source": [
    "#### PAT-1039 到底买不买\n",
    "1. 使用字典存储想要的珠子的颜色(key)和数量(value)\n",
    "2. 使用元组对想要的珠子进行去重,用以简化对老板珠子的遍历\n",
    "3. 遍历元组对老板的珠子进行遍历,检验是否有想要的珠\n",
    "4. 如果有且数量够,则对下一个要买的珠子进行检验\n",
    "5. 如果不够,则计算出缺多少,并用变量(lock)存储(因为不需要知道缺的是什么颜色)"
   ]
  },
  {
   "cell_type": "code",
   "execution_count": null,
   "id": "a64a24fe",
   "metadata": {},
   "outputs": [
    {
     "name": "stdout",
     "output_type": "stream",
     "text": [
      "Yes8\n"
     ]
    }
   ],
   "source": [
    "boos_beads = input()\n",
    "target_beads = input()\n",
    "\n",
    "target_dict = {}\n",
    "for bead in target_beads:\n",
    "    if bead in target_dict:\n",
    "        target_dict[bead] += 1\n",
    "    else:\n",
    "        target_dict[bead] = 1\n",
    "\n",
    "set_target = set(target_beads)\n",
    "\n",
    "lock = 0\n",
    "for i in set_target:\n",
    "    if i in boos_beads:\n",
    "        if boos_beads.count(i) >= target_dict[i]:\n",
    "            continue\n",
    "        else:\n",
    "            lock += target_dict[i] - boos_beads.count(i)\n",
    "    else:\n",
    "        lock += target_dict[i]\n",
    "\n",
    "if lock == 0:\n",
    "    print(\"Yes\", end=\" \")\n",
    "    print(len(boos_beads) - len(target_beads))\n",
    "else:\n",
    "    print(\"No\", end=\" \")\n",
    "    print(lock)"
   ]
  },
  {
   "cell_type": "code",
   "execution_count": null,
   "id": "c82fcbff",
   "metadata": {},
   "outputs": [
    {
     "name": "stdout",
     "output_type": "stream",
     "text": [
      "yes 8\n"
     ]
    }
   ],
   "source": [
    "# PAT --- 1039 ---到底买不买\n",
    "\n",
    "given = list(input())  # 摊主的\n",
    "want = list(input())   # 想要的\n",
    "glen = len(given)\n",
    "lst = []\n",
    "for i in want:\n",
    "    for j in given:\n",
    "        if i == j:\n",
    "            lst.append(i)\n",
    "            given.remove(j)\n",
    "            break\n",
    "\n",
    "if len(lst) == len(want) :  # want表不为空，即还有想要的珠子没有取到\n",
    "    print('Yes',glen-len(want))\n",
    "else:  # wan\n",
    "    print('No',len(want)-len(lst))\n",
    "\n",
    "#ppRYYGrrYBR2258\n",
    "#YrR8RrY\n",
    "\n"
   ]
  },
  {
   "cell_type": "code",
   "execution_count": 1,
   "id": "d12a7717",
   "metadata": {},
   "outputs": [
    {
     "name": "stdout",
     "output_type": "stream",
     "text": [
      "No 3\n"
     ]
    }
   ],
   "source": [
    "# PAT --- 1039 ---到底买不买\n",
    "\n",
    "given = list(input())  # 摊主的\n",
    "want = list(input())   # 想要的\n",
    "glen = len(given)\n",
    "lst = []\n",
    "for i in want:\n",
    "    for j in given:\n",
    "        if i == j:\n",
    "            want.remove(i)\n",
    "            given.remove(j)\n",
    "            break\n",
    "\n",
    "if len(lst) == len(want) :  # want表不为空，即还有想要的珠子没有取到\n",
    "    print('Yes',glen-len(want))\n",
    "else:  # wan\n",
    "    print('No',len(want)-len(lst))\n",
    "\n",
    "#ppRYYGrrYBR2258\n",
    "#YrR8RrY\n",
    "\n"
   ]
  },
  {
   "cell_type": "markdown",
   "id": "d55da523",
   "metadata": {},
   "source": [
    "#### PAT-1047 团体编程赛"
   ]
  },
  {
   "cell_type": "code",
   "execution_count": 26,
   "id": "776472f3",
   "metadata": {},
   "outputs": [
    {
     "name": "stdout",
     "output_type": "stream",
     "text": [
      "3 88\n"
     ]
    }
   ],
   "source": [
    "N = int(input())\n",
    "\n",
    "team_score = {}\n",
    "\n",
    "for i in range(N):\n",
    "    t_m, score = input().split()\n",
    "    team, member = t_m.split('-')\n",
    "    if team not in team_score:\n",
    "        team_score[team] = int(score)\n",
    "    else:\n",
    "        team_score[team] = team_score[team] + int(score)\n",
    "\n",
    "win_team = max(team_score.items(), key=lambda x: x[1])\n",
    "\n",
    "print(win_team[0],win_team[1])"
   ]
  },
  {
   "cell_type": "markdown",
   "id": "ecc22b08",
   "metadata": {},
   "source": [
    "#### PAT-1051 复数乘法\n",
    "1. A + Bi = R(cos(P) + i sin(P))\n",
    "2. A = R*cos(P)\n",
    "3. B = R*sin(P)\n",
    "4. (A1 + B1i) * (A2 + B2i) = (A1*A2 - B1 * B2) + (A1*B2 + B1*A2)i = R1*R2*(cos(P1 + P2) + sin(P1 + P2))i\n",
    "5. 当负数很小时,格式化输出为-0.00,但实际应该按照0.00输出\n",
    "\n",
    "```python\n",
    "\n",
    "print(f'{-0.0000005:.2f}')\n",
    "# 输出为 -0.00\n",
    "\n",
    "```"
   ]
  },
  {
   "cell_type": "code",
   "execution_count": null,
   "id": "e28192c0",
   "metadata": {},
   "outputs": [
    {
     "name": "stdout",
     "output_type": "stream",
     "text": [
      "-8.68-8.23i\n"
     ]
    }
   ],
   "source": [
    "import math\n",
    "\n",
    "R1, P1, R2, P2 = map(float, input().split())\n",
    "\n",
    "A = R1 * R2 * math.cos(P1 + P2)\n",
    "B = R1 * R2 * math.sin(P1 + P2)\n",
    "\n",
    "if f'{A:.2f}' == '-0.00':\n",
    "    A = 0.00\n",
    "if f'{B:.2f}' == '-0.00':\n",
    "    B = 0.00\n",
    "\n",
    "if B < 0:\n",
    "    print(f'{A:.2f}{B:.2f}i')\n",
    "else:\n",
    "    print(f'{A:.2f}+{B:.2f}i')\n"
   ]
  },
  {
   "cell_type": "code",
   "execution_count": 45,
   "id": "8683fb61",
   "metadata": {},
   "outputs": [
    {
     "name": "stdout",
     "output_type": "stream",
     "text": [
      "-0.00\n"
     ]
    }
   ],
   "source": [
    "print(f'{-0.0000005:.2f}')"
   ]
  }
 ],
 "metadata": {
  "kernelspec": {
   "display_name": "base",
   "language": "python",
   "name": "python3"
  },
  "language_info": {
   "codemirror_mode": {
    "name": "ipython",
    "version": 3
   },
   "file_extension": ".py",
   "mimetype": "text/x-python",
   "name": "python",
   "nbconvert_exporter": "python",
   "pygments_lexer": "ipython3",
   "version": "3.12.4"
  }
 },
 "nbformat": 4,
 "nbformat_minor": 5
}
