{
 "cells": [
  {
   "cell_type": "markdown",
   "id": "9d9c62ea",
   "metadata": {},
   "source": [
    "#### 创建Series对象"
   ]
  },
  {
   "cell_type": "markdown",
   "id": "966a01cf",
   "metadata": {},
   "source": [
    "![](./image/series.png)"
   ]
  },
  {
   "cell_type": "code",
   "execution_count": 2,
   "id": "0754e303",
   "metadata": {},
   "outputs": [
    {
     "data": {
      "text/plain": [
       "Math         80\n",
       "English      85\n",
       "Physics      90\n",
       "Art          95\n",
       "chemistry    98\n",
       "Sports       75\n",
       "dtype: int64"
      ]
     },
     "execution_count": 2,
     "metadata": {},
     "output_type": "execute_result"
    }
   ],
   "source": [
    "import pandas as pd\n",
    "import numpy as np\n",
    "\n",
    "ser = pd.Series([80, 85, 90, 95, 98, 75], index = ['Math', 'English', 'Physics','Art', 'chemistry','Sports'])\n",
    "ser"
   ]
  },
  {
   "cell_type": "markdown",
   "id": "907497d7",
   "metadata": {},
   "source": [
    "#### 创建DataFrame对象"
   ]
  },
  {
   "cell_type": "markdown",
   "id": "6585d2ed",
   "metadata": {},
   "source": [
    "![](./image/dataframe.png)"
   ]
  },
  {
   "cell_type": "code",
   "execution_count": 3,
   "id": "60502ab7",
   "metadata": {},
   "outputs": [
    {
     "name": "stdout",
     "output_type": "stream",
     "text": [
      "      name  age gender\n",
      "0    Alice   25      F\n",
      "1      Bob   30      M\n",
      "2  Charlie   35      M\n"
     ]
    }
   ],
   "source": [
    "import pandas as ps\n",
    "\n",
    "data = {'name': ['Alice', 'Bob', 'Charlie'], 'age': [25, 30, 35], 'gender': ['F', 'M', 'M']}\n",
    "df = ps.DataFrame(data)\n",
    "print(df)"
   ]
  }
 ],
 "metadata": {
  "kernelspec": {
   "display_name": "base",
   "language": "python",
   "name": "python3"
  },
  "language_info": {
   "codemirror_mode": {
    "name": "ipython",
    "version": 3
   },
   "file_extension": ".py",
   "mimetype": "text/x-python",
   "name": "python",
   "nbconvert_exporter": "python",
   "pygments_lexer": "ipython3",
   "version": "3.12.4"
  }
 },
 "nbformat": 4,
 "nbformat_minor": 5
}
