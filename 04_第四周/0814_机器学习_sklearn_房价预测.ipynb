{
 "cells": [
  {
   "cell_type": "markdown",
   "id": "82860152",
   "metadata": {},
   "source": [
    "#### 数据生成与查看"
   ]
  },
  {
   "cell_type": "code",
   "execution_count": null,
   "id": "2267b332",
   "metadata": {},
   "outputs": [
    {
     "name": "stdout",
     "output_type": "stream",
     "text": [
      "数据预览：\n",
      "   area  rooms  floor  year_built   location    price\n",
      "0    70      2      5        2005   Chaoyang  5000000\n",
      "1    85      3      2        2010    Haidian  6000000\n",
      "2   100      3      8        2012   Chaoyang  6500000\n",
      "3   120      4     10        2015  Dongcheng  7000000\n",
      "4    60      2      3        2000    Fengtai  4500000\n",
      "[[70 2 5 2005 'Chaoyang' 5000000]\n",
      " [85 3 2 2010 'Haidian' 6000000]\n",
      " [100 3 8 2012 'Chaoyang' 6500000]\n",
      " [120 4 10 2015 'Dongcheng' 7000000]\n",
      " [60 2 3 2000 'Fengtai' 4500000]\n",
      " [150 5 15 2018 'Haidian' 10000000]\n",
      " [200 6 18 2020 'Chaoyang' 12000000]\n",
      " [80 3 7 2008 'Fengtai' 5500000]\n",
      " [95 3 9 2011 'Dongcheng' 6200000]\n",
      " [110 4 11 2016 'Haidian' 7500000]]\n"
     ]
    }
   ],
   "source": [
    "import pandas as pd\n",
    "import numpy as np\n",
    "\n",
    "# 模拟数据：房屋面积 (平方米)、房间数、楼层、建造年份、位置（类别变量）\n",
    "data = {\n",
    "    'area': [70, 85, 100, 120, 60, 150, 200, 80, 95, 110],\n",
    "    'rooms': [2, 3, 3, 4, 2, 5, 6, 3, 3, 4],\n",
    "    'floor': [5, 2, 8, 10, 3, 15, 18, 7, 9, 11],\n",
    "    'year_built': [2005, 2010, 2012, 2015, 2000, 2018, 2020, 2008, 2011, 2016],\n",
    "    'location': ['Chaoyang', 'Haidian', 'Chaoyang', 'Dongcheng', 'Fengtai', 'Haidian', 'Chaoyang', 'Fengtai', 'Dongcheng', 'Haidian'],\n",
    "    'price': [5000000, 6000000, 6500000, 7000000, 4500000, 10000000, 12000000, 5500000, 6200000, 7500000]  # 房价（目标变量）\n",
    "}\n",
    "\n",
    "# 创建 DataFrame\n",
    "df = pd.DataFrame(data)\n",
    "\n",
    "# 查看数据\n",
    "print(\"数据预览：\")\n",
    "print(df.head())\n",
    "\n",
    "print(df.values)"
   ]
  },
  {
   "cell_type": "markdown",
   "id": "54d9c47a",
   "metadata": {},
   "source": [
    "#### 数据预处理"
   ]
  },
  {
   "cell_type": "code",
   "execution_count": 2,
   "id": "ad6b9e54",
   "metadata": {},
   "outputs": [
    {
     "name": "stdout",
     "output_type": "stream",
     "text": [
      "预处理后的训练数据：\n",
      "[[ 0.89826776  1.0440738   1.14636101  0.96800387  0.          0.\n",
      "   0.          1.        ]\n",
      " [-0.95622052 -1.23390539 -0.98640366 -1.04544418  1.          0.\n",
      "   0.          0.        ]\n",
      " [-0.72440948 -0.474579   -0.55985073 -0.58080232  0.          0.\n",
      "   1.          0.        ]\n",
      " [-0.26078741 -0.474579   -0.34657426  0.03872015  1.          0.\n",
      "   0.          0.        ]\n",
      " [-0.02897638  0.2847474   0.29325514  0.65824263  0.          0.\n",
      "   0.          1.        ]\n",
      " [-1.18803155 -1.23390539 -1.4129566  -1.81984727  0.          0.\n",
      "   1.          0.        ]\n",
      " [ 0.20283466  0.2847474   0.07997868  0.50336201  0.          1.\n",
      "   0.          0.        ]\n",
      " [ 2.05732294  1.80340019  1.78619041  1.2777651   1.          0.\n",
      "   0.          0.        ]]\n"
     ]
    }
   ],
   "source": [
    "from sklearn.model_selection import train_test_split\n",
    "from sklearn.preprocessing import StandardScaler, OneHotEncoder\n",
    "from sklearn.compose import ColumnTransformer\n",
    "from sklearn.pipeline import Pipeline\n",
    "\n",
    "# 特征选择\n",
    "X = df[['area', 'rooms', 'floor', 'year_built', 'location']]  # 特征\n",
    "y = df['price']  # 目标变量\n",
    "\n",
    "# 划分训练集和测试集\n",
    "X_train, X_test, y_train, y_test = train_test_split(X, y, test_size=0.2, random_state=42)\n",
    "\n",
    "# 构建预处理步骤\n",
    "numeric_features = ['area', 'rooms', 'floor', 'year_built']\n",
    "categorical_features = ['location']\n",
    "\n",
    "numeric_transformer = Pipeline(steps=[\n",
    "    ('scaler', StandardScaler())  # 数值特征标准化\n",
    "])\n",
    "\n",
    "categorical_transformer = Pipeline(steps=[\n",
    "    ('onehot', OneHotEncoder(handle_unknown='ignore'))  # 处理测试集中的新类别\n",
    "])\n",
    "\n",
    "# 组合成 ColumnTransformer\n",
    "preprocessor = ColumnTransformer(\n",
    "    transformers=[\n",
    "        ('num', numeric_transformer, numeric_features),\n",
    "        ('cat', categorical_transformer, categorical_features)\n",
    "    ]\n",
    ")\n",
    "\n",
    "# 查看数据预处理后的结构\n",
    "X_train_transformed = preprocessor.fit_transform(X_train)\n",
    "print(\"预处理后的训练数据：\")\n",
    "print(X_train_transformed)"
   ]
  },
  {
   "cell_type": "markdown",
   "id": "7e1d0a1d",
   "metadata": {},
   "source": [
    "#### 建立模型"
   ]
  },
  {
   "cell_type": "code",
   "execution_count": 3,
   "id": "ab1ac6a7",
   "metadata": {},
   "outputs": [
    {
     "name": "stdout",
     "output_type": "stream",
     "text": [
      "\n",
      "预测结果：\n",
      "[6375000.00000001 4874999.99999998]\n"
     ]
    }
   ],
   "source": [
    "from sklearn.linear_model import LinearRegression\n",
    "\n",
    "# 构建一个包含预处理和回归模型的 Pipeline\n",
    "model_pipeline = Pipeline(steps=[\n",
    "    ('preprocessor', preprocessor),  # 数据预处理步骤\n",
    "    ('regressor', LinearRegression())  # 回归模型\n",
    "])\n",
    "\n",
    "# 训练模型\n",
    "model_pipeline.fit(X_train, y_train)\n",
    "\n",
    "# 进行预测\n",
    "y_pred = model_pipeline.predict(X_test)\n",
    "\n",
    "# 输出预测结果\n",
    "print(\"\\n预测结果：\")\n",
    "print(y_pred)"
   ]
  },
  {
   "cell_type": "markdown",
   "id": "069b324c",
   "metadata": {},
   "source": [
    "#### 模型评估"
   ]
  },
  {
   "cell_type": "code",
   "execution_count": 5,
   "id": "a99783f5",
   "metadata": {},
   "outputs": [
    {
     "name": "stdout",
     "output_type": "stream",
     "text": [
      "\n",
      "模型评估：\n",
      "均方误差 (MSE): 648125000000.03\n",
      "决定系数 (R²): -63.81\n"
     ]
    }
   ],
   "source": [
    "from sklearn.metrics import mean_squared_error, r2_score\n",
    "\n",
    "# 计算均方误差（MSE）和决定系数（R²）\n",
    "mse = mean_squared_error(y_test, y_pred)\n",
    "r2 = r2_score(y_test, y_pred)\n",
    "\n",
    "# 输出评估结果\n",
    "print(\"\\n模型评估：\")\n",
    "print(f\"均方误差 (MSE): {mse:.2f}\")\n",
    "print(f\"决定系数 (R²): {r2:.2f}\")"
   ]
  },
  {
   "cell_type": "markdown",
   "id": "141b2e00",
   "metadata": {},
   "source": [
    "#### 模型优化"
   ]
  },
  {
   "cell_type": "code",
   "execution_count": 6,
   "id": "9e0ec995",
   "metadata": {},
   "outputs": [
    {
     "name": "stdout",
     "output_type": "stream",
     "text": [
      "Fitting 5 folds for each of 2 candidates, totalling 10 fits\n",
      "\n",
      "最佳参数：\n",
      "{'regressor__fit_intercept': True}\n",
      "\n",
      "优化后的模型评估：\n",
      "均方误差 (MSE): 648125000000.03\n",
      "决定系数 (R²): -63.81\n"
     ]
    }
   ],
   "source": [
    "from sklearn.model_selection import GridSearchCV\n",
    "\n",
    "# 5. 模型优化：使用网格搜索调整超参数\n",
    "# 对线性回归的超参数进行调优（仅调整 'fit_intercept'）\n",
    "param_grid = {\n",
    "    'regressor__fit_intercept': [True, False],  # 是否拟合截距\n",
    "}\n",
    "\n",
    "grid_search = GridSearchCV(model_pipeline, param_grid, cv=5, scoring='neg_mean_squared_error', verbose=1)\n",
    "grid_search.fit(X_train, y_train)\n",
    "\n",
    "# 输出最佳参数和结果\n",
    "print(\"\\n最佳参数：\")\n",
    "print(grid_search.best_params_)\n",
    "\n",
    "# 使用最佳模型进行预测\n",
    "best_model = grid_search.best_estimator_\n",
    "y_pred_optimized = best_model.predict(X_test)\n",
    "\n",
    "# 输出优化后的评估结果\n",
    "mse_opt = mean_squared_error(y_test, y_pred_optimized)\n",
    "r2_opt = r2_score(y_test, y_pred_optimized)\n",
    "\n",
    "print(\"\\n优化后的模型评估：\")\n",
    "print(f\"均方误差 (MSE): {mse_opt:.2f}\")\n",
    "print(f\"决定系数 (R²): {r2_opt:.2f}\")"
   ]
  }
 ],
 "metadata": {
  "kernelspec": {
   "display_name": "base",
   "language": "python",
   "name": "python3"
  },
  "language_info": {
   "codemirror_mode": {
    "name": "ipython",
    "version": 3
   },
   "file_extension": ".py",
   "mimetype": "text/x-python",
   "name": "python",
   "nbconvert_exporter": "python",
   "pygments_lexer": "ipython3",
   "version": "3.12.4"
  }
 },
 "nbformat": 4,
 "nbformat_minor": 5
}
