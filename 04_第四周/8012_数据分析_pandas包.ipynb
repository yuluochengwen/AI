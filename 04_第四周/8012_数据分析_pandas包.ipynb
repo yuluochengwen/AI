{
 "cells": [
  {
   "cell_type": "markdown",
   "id": "070d0861",
   "metadata": {},
   "source": [
    "#### pandas库"
   ]
  },
  {
   "cell_type": "code",
   "execution_count": null,
   "id": "a5148a92",
   "metadata": {},
   "outputs": [],
   "source": [
    "import numpy as np\n",
    "import pandas as pd\n",
    "import matplotlib.pyplot as plt"
   ]
  },
  {
   "cell_type": "markdown",
   "id": "6306a77f",
   "metadata": {},
   "source": [
    "##### Serise()方法\n",
    "1. 基本属性\n",
    "    * s.values  # 获取值数组\n",
    "    * s.index   # 获取索引\n",
    "    * s.dtype   # 获取数据类型\n",
    "    * s.name    # 获取Series名称\n",
    "    * s.size    # 获取元素数量\n",
    "    * s.empty   # 检查是否为空\n",
    "2. 常用方法\n",
    "    * s.head(n)     # 查看前n行\n",
    "    * s.tail(n)     # 查看后n行\n",
    "    * s.unique()    # 返回唯一值\n",
    "    * s.nunique()   # 返回唯一值数量\n",
    "    * s.value_counts()  # 统计值出现次数\n",
    "    * s.isnull()    # 检查缺失值\n",
    "    * s.notnull()   # 检查非缺失值\n",
    "    * s.sort_values()  # 按值排序\n",
    "    * s.sort_index()  # 按索引排序    \n"
   ]
  },
  {
   "cell_type": "code",
   "execution_count": null,
   "id": "62770d13",
   "metadata": {},
   "outputs": [],
   "source": [
    "# Series() 方法用于创建Series对象，Series对象是pandas中最基本的数据结构，它可以包含不同的数据类型，包括数值、字符串、布尔值等。\n",
    "s = pd.Series(np.random.randn(5),\n",
    "              index=['a', 'b', 'c', 'd', 'e'],\n",
    "              name='Random Series',\n",
    "              dtype='float64')\n",
    "\n",
    "s"
   ]
  },
  {
   "cell_type": "code",
   "execution_count": null,
   "id": "c056954e",
   "metadata": {},
   "outputs": [],
   "source": [
    "s.values"
   ]
  },
  {
   "cell_type": "code",
   "execution_count": null,
   "id": "96eeac48",
   "metadata": {},
   "outputs": [],
   "source": [
    "s.shape, s.size, s.ndim, s.dtype, s.index"
   ]
  },
  {
   "cell_type": "code",
   "execution_count": null,
   "id": "76b8be05",
   "metadata": {},
   "outputs": [],
   "source": [
    "s[1:2] # 下标访问,左闭右开 "
   ]
  },
  {
   "cell_type": "code",
   "execution_count": null,
   "id": "f6323b34",
   "metadata": {},
   "outputs": [],
   "source": [
    "s['a':'c'] # 索引访问,左闭右闭"
   ]
  },
  {
   "cell_type": "code",
   "execution_count": null,
   "id": "67da35e7",
   "metadata": {},
   "outputs": [],
   "source": [
    "s[['a','c']] # 多索引访问"
   ]
  },
  {
   "cell_type": "code",
   "execution_count": null,
   "id": "b8754488",
   "metadata": {},
   "outputs": [],
   "source": [
    "s[1]"
   ]
  },
  {
   "cell_type": "code",
   "execution_count": null,
   "id": "89b3474b",
   "metadata": {},
   "outputs": [],
   "source": [
    "# 从列表创建 Series\n",
    "s = pd.Series([1, 3, 5, 7, 9])\n",
    "print(s)"
   ]
  },
  {
   "cell_type": "code",
   "execution_count": null,
   "id": "f7ffcbd0",
   "metadata": {},
   "outputs": [],
   "source": [
    "# 从字典创建 Series\n",
    "data = {'a': 1, 'b': 2, 'c': 3}\n",
    "s = pd.Series(data)\n",
    "print(s)"
   ]
  },
  {
   "cell_type": "code",
   "execution_count": null,
   "id": "63eb0c35",
   "metadata": {},
   "outputs": [],
   "source": [
    "# 从标量创建 Series\n",
    "s = pd.Series(5, index=['a', 'b', 'c'])\n",
    "print(s)  # 所有值都是5"
   ]
  },
  {
   "cell_type": "markdown",
   "id": "c7d9c462",
   "metadata": {},
   "source": [
    "##### DataFrame()方法\n",
    "1. 基本属性\n",
    "    * df.shape     # 返回行列数 (行, 列)\n",
    "    * df.index     # 获取行索引\n",
    "    * df.columns   # 获取列名\n",
    "    * df.dtypes    # 每列的数据类型\n",
    "    * df.values    # 返回 NumPy 数组表示\n",
    "    * df.info()    # 显示数据概览\n",
    "2. 常用方法\n",
    "    * df.head(2)      # 查看前2行\n",
    "    * df.tail(2)      # 查看后2行\n",
    "    * df.describe()   # 统计描述\n",
    "    * df.sort_values('年龄')  # 按列排序\n",
    "    * df.dropna()     # 删除缺失值\n",
    "    * df.fillna(0)    # 填充缺失值\n",
    "3. 数据访问\n",
    "    * df['姓名']       # 获取单列\n",
    "    * df[['姓名', '年龄']]  # 获取多列\n",
    "    * df.loc[0]       # 按标签获取行,下标\n",
    "    * df.iloc[0]      # 按位置获取行,索引"
   ]
  },
  {
   "cell_type": "code",
   "execution_count": null,
   "id": "78f88171",
   "metadata": {},
   "outputs": [],
   "source": [
    "df = pd.DataFrame(\n",
    "    {\n",
    "        'col1':list('abcde'),\n",
    "        'col2':range(5),\n",
    "        'col3':[1, 2, 3, 4, 5]\n",
    "    },\n",
    "    index = list('一二三四五')\n",
    ")"
   ]
  },
  {
   "cell_type": "code",
   "execution_count": null,
   "id": "06d9eb50",
   "metadata": {},
   "outputs": [],
   "source": [
    "df"
   ]
  },
  {
   "cell_type": "code",
   "execution_count": null,
   "id": "1a13200b",
   "metadata": {},
   "outputs": [],
   "source": [
    "df.values"
   ]
  },
  {
   "cell_type": "code",
   "execution_count": null,
   "id": "37d4c4d7",
   "metadata": {},
   "outputs": [],
   "source": [
    "df.index"
   ]
  },
  {
   "cell_type": "code",
   "execution_count": null,
   "id": "b35f684c",
   "metadata": {},
   "outputs": [],
   "source": [
    "df.info()"
   ]
  },
  {
   "cell_type": "code",
   "execution_count": null,
   "id": "204b99a6",
   "metadata": {},
   "outputs": [],
   "source": [
    "df['col1'] # 取出列名为col1的列"
   ]
  },
  {
   "cell_type": "code",
   "execution_count": null,
   "id": "be799869",
   "metadata": {},
   "outputs": [],
   "source": [
    "df[:2] # 取前两行"
   ]
  },
  {
   "cell_type": "code",
   "execution_count": null,
   "id": "fb60f1f6",
   "metadata": {},
   "outputs": [],
   "source": [
    "type(df[:1]) "
   ]
  },
  {
   "cell_type": "code",
   "execution_count": null,
   "id": "36604232",
   "metadata": {},
   "outputs": [],
   "source": [
    "type(df['col1']) "
   ]
  },
  {
   "cell_type": "code",
   "execution_count": null,
   "id": "975824be",
   "metadata": {},
   "outputs": [],
   "source": [
    "df.index"
   ]
  },
  {
   "cell_type": "code",
   "execution_count": null,
   "id": "76cfc8e0",
   "metadata": {},
   "outputs": [],
   "source": [
    "df.columns"
   ]
  },
  {
   "cell_type": "markdown",
   "id": "3880b70c",
   "metadata": {},
   "source": [
    "##### read()方法"
   ]
  },
  {
   "cell_type": "code",
   "execution_count": null,
   "id": "554cfe35",
   "metadata": {},
   "outputs": [],
   "source": [
    "data1 = pd.read_csv('data/交易数据_gbk.csv',engine='python',encoding='gbk')\n",
    "data1[:5]"
   ]
  },
  {
   "cell_type": "code",
   "execution_count": null,
   "id": "8d7fbc00",
   "metadata": {},
   "outputs": [],
   "source": [
    "data2 = pd.read_excel('data/交易数据_gbk.xlsx')\n",
    "data2[:5]"
   ]
  },
  {
   "cell_type": "code",
   "execution_count": null,
   "id": "5e270506",
   "metadata": {},
   "outputs": [],
   "source": [
    "data3 = pd.read_table('data/交易数据_utf-8.txt',sep=',',engine='python',encoding='utf-8')\n",
    "data3[:5]"
   ]
  },
  {
   "cell_type": "code",
   "execution_count": null,
   "id": "9d72df25",
   "metadata": {},
   "outputs": [],
   "source": [
    "data3.to_csv('out.csv',encoding='gbk')"
   ]
  },
  {
   "cell_type": "code",
   "execution_count": null,
   "id": "33cb875d",
   "metadata": {},
   "outputs": [],
   "source": [
    "data4 = pd.read_csv('data/out.csv',engine='python',encoding='gbk')\n",
    "data4[:5]"
   ]
  },
  {
   "cell_type": "markdown",
   "id": "536bde29",
   "metadata": {},
   "source": [
    "##### 数据过滤(数据筛选)"
   ]
  },
  {
   "cell_type": "code",
   "execution_count": null,
   "id": "6d0d7b33",
   "metadata": {},
   "outputs": [],
   "source": [
    "df = pd.read_csv('data/交易数据_utf-8.csv')\n",
    "df"
   ]
  },
  {
   "cell_type": "code",
   "execution_count": null,
   "id": "4b053b0e",
   "metadata": {},
   "outputs": [],
   "source": [
    "boolindex = df.isin({'支付通道':['wxpay']})\n",
    "boolindex[:8]"
   ]
  },
  {
   "cell_type": "code",
   "execution_count": null,
   "id": "252522a5",
   "metadata": {},
   "outputs": [],
   "source": [
    "df[boolindex]"
   ]
  },
  {
   "cell_type": "code",
   "execution_count": null,
   "id": "31cccbad",
   "metadata": {},
   "outputs": [],
   "source": [
    "df[~boolindex]"
   ]
  },
  {
   "cell_type": "markdown",
   "id": "d845ea9c",
   "metadata": {},
   "source": [
    "##### 数据清洗"
   ]
  },
  {
   "cell_type": "code",
   "execution_count": null,
   "id": "528de2f3",
   "metadata": {},
   "outputs": [],
   "source": [
    "df = pd.read_csv('data/交易数据_na_utf-8.csv')\n",
    "df"
   ]
  },
  {
   "cell_type": "code",
   "execution_count": null,
   "id": "1cd027c9",
   "metadata": {},
   "outputs": [],
   "source": [
    "# dropna()函数用于删除含有缺失值的行或列。\n",
    "df1 = df.dropna()\n",
    "df1"
   ]
  },
  {
   "cell_type": "code",
   "execution_count": null,
   "id": "44fb97d3",
   "metadata": {},
   "outputs": [],
   "source": [
    "# dropna()函数用于删除含有缺失值的行或列。\n",
    "df2 = df.dropna(axis=1)\n",
    "df2"
   ]
  },
  {
   "cell_type": "code",
   "execution_count": null,
   "id": "b6fb3cf5",
   "metadata": {},
   "outputs": [],
   "source": [
    "# fillna()函数用于填充缺失值，fillna()函数的第一个参数是要填充的数值，第二个参数是要填充的列名。\n",
    "df['金额'].fillna(900)"
   ]
  },
  {
   "cell_type": "code",
   "execution_count": null,
   "id": "a31439fb",
   "metadata": {},
   "outputs": [],
   "source": [
    "# dorp_duplicates()函数用于删除重复的行\n",
    "df.drop_duplicates()"
   ]
  },
  {
   "cell_type": "code",
   "execution_count": null,
   "id": "6ee9751e",
   "metadata": {},
   "outputs": [],
   "source": [
    "# dorp_duplicates()函数用于删除重复的行\n",
    "df['商户号'].drop_duplicates()"
   ]
  },
  {
   "cell_type": "code",
   "execution_count": null,
   "id": "adac54bb",
   "metadata": {},
   "outputs": [],
   "source": [
    "# map()函数\n",
    "df['支付通道'].map({'wxpay':'微信支付','alipay':'支付宝'})"
   ]
  },
  {
   "cell_type": "code",
   "execution_count": null,
   "id": "d2b65d8d",
   "metadata": {},
   "outputs": [],
   "source": [
    "# replace()函数替换数据\n",
    "df['支付通道'].replace({'wxpay':'微信支付','alipay':'支付宝'})"
   ]
  },
  {
   "cell_type": "code",
   "execution_count": null,
   "id": "3e2a6174",
   "metadata": {},
   "outputs": [],
   "source": [
    "df.index = df.index.map(lambda x: 'A' + str(x)) # 将索引转换为字符串\n",
    "df[:7]"
   ]
  },
  {
   "cell_type": "code",
   "execution_count": null,
   "id": "4cde3f52",
   "metadata": {},
   "outputs": [],
   "source": [
    "# cut()函数\n",
    "pd.cut(df['金额'],[0,10,100,1000],labels=['低消费','中消费','高消费'])\n"
   ]
  },
  {
   "cell_type": "markdown",
   "id": "091db616",
   "metadata": {},
   "source": [
    "#### one-hot编码\n",
    "中  美  日\n",
    "1   0   0\n",
    "0   1   0\n",
    "0   0   1"
   ]
  },
  {
   "cell_type": "code",
   "execution_count": null,
   "id": "9bda86c8",
   "metadata": {},
   "outputs": [],
   "source": [
    "pd.get_dummies(df['支付通道'])"
   ]
  },
  {
   "cell_type": "code",
   "execution_count": null,
   "id": "0046f384",
   "metadata": {},
   "outputs": [],
   "source": [
    "df.dtypes  # 检查各列数据类型"
   ]
  },
  {
   "cell_type": "code",
   "execution_count": null,
   "id": "28537347",
   "metadata": {},
   "outputs": [],
   "source": [
    "pd.get_dummies(df,dtype=int)"
   ]
  },
  {
   "cell_type": "code",
   "execution_count": null,
   "id": "2a7fba2f",
   "metadata": {},
   "outputs": [],
   "source": [
    "# sort()排序\n",
    "df.sort_values(by='金额', ascending=False) # 按金额降序排序"
   ]
  },
  {
   "cell_type": "code",
   "execution_count": null,
   "id": "4642ffc9",
   "metadata": {},
   "outputs": [],
   "source": [
    "# 排序,默认升序\n",
    "df['金额'].sort_values()"
   ]
  },
  {
   "cell_type": "code",
   "execution_count": null,
   "id": "ff506208",
   "metadata": {},
   "outputs": [],
   "source": [
    "# 查找最大值的索引\n",
    "df['金额'].idxmax()"
   ]
  },
  {
   "cell_type": "code",
   "execution_count": null,
   "id": "0c0121e6",
   "metadata": {},
   "outputs": [],
   "source": [
    "# 查找最小值的索引\n",
    "df['金额'].idxmin()"
   ]
  },
  {
   "cell_type": "markdown",
   "id": "686fe17a",
   "metadata": {},
   "source": [
    "#### 数据分析"
   ]
  },
  {
   "cell_type": "code",
   "execution_count": null,
   "id": "1a0ec637",
   "metadata": {},
   "outputs": [],
   "source": [
    "# head(),tail()\n",
    "df.head() # 默认显示前5行\n",
    "df.tail() # 默认显示后5行"
   ]
  },
  {
   "cell_type": "code",
   "execution_count": null,
   "id": "11d3fc93",
   "metadata": {},
   "outputs": [],
   "source": [
    "# describe()\n",
    "df.describe()"
   ]
  },
  {
   "cell_type": "code",
   "execution_count": null,
   "id": "32c09142",
   "metadata": {},
   "outputs": [],
   "source": [
    "# unique()函数可以查看数据集中唯一的元素。适用于series对象和dataframe对象的列。\n",
    "df['支付通道'].unique()"
   ]
  },
  {
   "cell_type": "code",
   "execution_count": null,
   "id": "1671fa49",
   "metadata": {},
   "outputs": [],
   "source": [
    "# groupby()\n",
    "df['金额'].groupby(df['支付通道']).sum()"
   ]
  },
  {
   "cell_type": "code",
   "execution_count": null,
   "id": "b53b9c38",
   "metadata": {},
   "outputs": [],
   "source": [
    "df.groupby([df['支付方式']]).size()"
   ]
  },
  {
   "cell_type": "code",
   "execution_count": null,
   "id": "714d6c53",
   "metadata": {},
   "outputs": [],
   "source": [
    "# 选择所有数值列（自动排除非数值列）\n",
    "numeric_cols = df.select_dtypes(include=['number']).columns\n",
    "\n",
    "# 分组计算均值\n",
    "result = df.groupby('支付方式')[numeric_cols].mean()['金额']\n",
    "result"
   ]
  },
  {
   "cell_type": "code",
   "execution_count": null,
   "id": "faa02441",
   "metadata": {},
   "outputs": [],
   "source": [
    "df.groupby([df['支付通道'],df['商户号']]).sum()['金额'].unstack().fillna(0)\n"
   ]
  },
  {
   "cell_type": "code",
   "execution_count": null,
   "id": "ac217593",
   "metadata": {},
   "outputs": [],
   "source": [
    "def top(df, n = 5, column = '金额'):\n",
    "    index = df.sort_values(by=column)[-n:]\n",
    "    return index\n",
    "\n",
    "df.groupby('支付方式').apply(top)"
   ]
  },
  {
   "cell_type": "markdown",
   "id": "fbeb1afe",
   "metadata": {},
   "source": [
    "#### matplotlib库"
   ]
  },
  {
   "cell_type": "code",
   "execution_count": null,
   "id": "a474927d",
   "metadata": {},
   "outputs": [],
   "source": [
    "import matplotlib.pyplot as plt"
   ]
  },
  {
   "cell_type": "code",
   "execution_count": null,
   "id": "1e91d66d",
   "metadata": {},
   "outputs": [],
   "source": [
    "plt.rcParams['font.sans-serif'] = ['SimHei']"
   ]
  },
  {
   "cell_type": "code",
   "execution_count": null,
   "id": "9bca07cb",
   "metadata": {},
   "outputs": [],
   "source": [
    "# 可视化案例\n",
    "x2 = np.array(['2014', '2015', '2016', '2017', '2018'])\n",
    "y2 = np.array([100, 120, 140, 180, 250])\n",
    "y3 = [100, 130, 160, 190, 220]"
   ]
  },
  {
   "cell_type": "code",
   "execution_count": null,
   "id": "bd854aaa",
   "metadata": {},
   "outputs": [],
   "source": [
    "plt.scatter(x2,y2) # 绘制散点图\n",
    "plt.show() # 显示图"
   ]
  },
  {
   "cell_type": "code",
   "execution_count": null,
   "id": "4f5e3966",
   "metadata": {},
   "outputs": [],
   "source": [
    "plt.scatter(x2,y2) # 绘制散点图\n",
    "plt.scatter(x2,y3) # 绘制散点图\n",
    "plt.plot(x2,y2,label='出境人数') # 绘制折线图\n",
    "plt.plot(x2,y3,label='入境人数')\n",
    "plt.xlabel('年度') # 设置x轴标签\n",
    "plt.ylabel('出/入境人数/万人') # 设置y轴标签\n",
    "plt.title('出/入境人数与年度的关系') # 设置标题\n",
    "plt.legend() # 显示图例\n",
    "plt.show() # 显示图形"
   ]
  },
  {
   "cell_type": "code",
   "execution_count": null,
   "id": "e3b695ac",
   "metadata": {},
   "outputs": [],
   "source": [
    "# 数据准备\n",
    "x2 = [2015, 2016, 2017, 2018, 2019]  # 年度\n",
    "y2 = [120, 150, 180, 210, 240]       # 出境人数数据\n",
    "y3 = [100, 130, 160, 190, 220]       # 入境人数数据\n",
    "\n",
    "# 创建图形和坐标轴\n",
    "plt.figure(figsize=(10, 6))  # 设置图形大小\n",
    "\n",
    "# 绘制两条曲线（使用不同样式）\n",
    "plt.plot(x2, y2, \n",
    "         color='#FF6B6B',    # 珊瑚色\n",
    "         linestyle='-',      # 实线\n",
    "         linewidth=2,        # 线宽\n",
    "         marker='o',         # 圆形标记点\n",
    "         markersize=8,       # 标记大小\n",
    "         label='出境人数')\n",
    "\n",
    "plt.plot(x2, y3, \n",
    "         color='#4E79A7',    # 深蓝色\n",
    "         linestyle='--',     # 虚线\n",
    "         linewidth=2,\n",
    "         marker='s',         # 方形标记点\n",
    "         markersize=8,\n",
    "         label='入境人数')\n",
    "\n",
    "# 添加图例（调整位置和样式）\n",
    "plt.legend(loc='upper left',   # 图例位置\n",
    "           fontsize=12,       # 字体大小\n",
    "           frameon=True,      # 显示边框\n",
    "           shadow=True)       # 添加阴影\n",
    "\n",
    "# 设置标签和标题\n",
    "plt.xlabel('年度', fontsize=14)\n",
    "plt.ylabel('出/入境人数 (万人)', fontsize=14)\n",
    "plt.title('2015-2019年出入境人数变化趋势', fontsize=16, pad=20)\n",
    "\n",
    "# 调整坐标轴范围\n",
    "plt.xlim(2014.5, 2019.5)  # x轴范围\n",
    "plt.ylim(80, 260)         # y轴范围\n",
    "\n",
    "# 网格线\n",
    "plt.grid(True, linestyle='--', alpha=0.6)\n",
    "\n",
    "# 显示图形\n",
    "plt.tight_layout()  # 自动调整布局\n",
    "plt.show()"
   ]
  }
 ],
 "metadata": {
  "kernelspec": {
   "display_name": "base",
   "language": "python",
   "name": "python3"
  },
  "language_info": {
   "codemirror_mode": {
    "name": "ipython",
    "version": 3
   },
   "file_extension": ".py",
   "mimetype": "text/x-python",
   "name": "python",
   "nbconvert_exporter": "python",
   "pygments_lexer": "ipython3",
   "version": "3.12.4"
  }
 },
 "nbformat": 4,
 "nbformat_minor": 5
}
