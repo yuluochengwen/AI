{
 "cells": [
  {
   "cell_type": "markdown",
   "metadata": {},
   "source": [
    "## 第五章 DataFrame中常规数据统计"
   ]
  },
  {
   "cell_type": "markdown",
   "metadata": {},
   "source": [
    "### 1.Series中数据不同值出现的个数统计(unique(),value_counts()) \n",
    "* ### (Series的方法)"
   ]
  },
  {
   "cell_type": "code",
   "execution_count": 1,
   "metadata": {},
   "outputs": [
    {
     "data": {
      "text/plain": [
       "Women     7495\n",
       "Men      21721\n",
       "Name: Gender, dtype: int64"
      ]
     },
     "execution_count": 1,
     "metadata": {},
     "output_type": "execute_result"
    }
   ],
   "source": [
    "#### Series的方法unique()、vaule_counts()\n",
    "#这两个方法只对Series能用，DataFrame不能用\n",
    "import pandas as pd\n",
    "oly=pd.read_csv('olympics.csv',skiprows=4)\n",
    "\n",
    "#看一下该Series有哪些不同的值，返回一个array,非常有用\n",
    "oly.Gender.unique()   #非常有用\n",
    "\n",
    "#统计该Series中的不同数据出现的次数，dropna默认为True,表示统计时不包括缺失值\n",
    "oly.Gender.value_counts(ascending=True,dropna=True) #非常有用"
   ]
  },
  {
   "cell_type": "markdown",
   "metadata": {},
   "source": [
    "### 2.DataFrame各数值类型列的统计量描述(describe())"
   ]
  },
  {
   "cell_type": "code",
   "execution_count": 20,
   "metadata": {},
   "outputs": [
    {
     "data": {
      "text/html": [
       "<div>\n",
       "<style scoped>\n",
       "    .dataframe tbody tr th:only-of-type {\n",
       "        vertical-align: middle;\n",
       "    }\n",
       "\n",
       "    .dataframe tbody tr th {\n",
       "        vertical-align: top;\n",
       "    }\n",
       "\n",
       "    .dataframe thead th {\n",
       "        text-align: right;\n",
       "    }\n",
       "</style>\n",
       "<table border=\"1\" class=\"dataframe\">\n",
       "  <thead>\n",
       "    <tr style=\"text-align: right;\">\n",
       "      <th></th>\n",
       "      <th>Account</th>\n",
       "      <th>Quantity</th>\n",
       "      <th>Price</th>\n",
       "    </tr>\n",
       "  </thead>\n",
       "  <tbody>\n",
       "    <tr>\n",
       "      <th>count</th>\n",
       "      <td>17.000000</td>\n",
       "      <td>17.000000</td>\n",
       "      <td>17.000000</td>\n",
       "    </tr>\n",
       "    <tr>\n",
       "      <th>mean</th>\n",
       "      <td>462254.235294</td>\n",
       "      <td>1.764706</td>\n",
       "      <td>30705.882353</td>\n",
       "    </tr>\n",
       "    <tr>\n",
       "      <th>std</th>\n",
       "      <td>259093.442862</td>\n",
       "      <td>1.032558</td>\n",
       "      <td>28444.605609</td>\n",
       "    </tr>\n",
       "    <tr>\n",
       "      <th>min</th>\n",
       "      <td>141962.000000</td>\n",
       "      <td>1.000000</td>\n",
       "      <td>5000.000000</td>\n",
       "    </tr>\n",
       "    <tr>\n",
       "      <th>25%</th>\n",
       "      <td>218895.000000</td>\n",
       "      <td>1.000000</td>\n",
       "      <td>7000.000000</td>\n",
       "    </tr>\n",
       "    <tr>\n",
       "      <th>50%</th>\n",
       "      <td>412290.000000</td>\n",
       "      <td>2.000000</td>\n",
       "      <td>30000.000000</td>\n",
       "    </tr>\n",
       "    <tr>\n",
       "      <th>75%</th>\n",
       "      <td>714466.000000</td>\n",
       "      <td>2.000000</td>\n",
       "      <td>40000.000000</td>\n",
       "    </tr>\n",
       "    <tr>\n",
       "      <th>max</th>\n",
       "      <td>740150.000000</td>\n",
       "      <td>5.000000</td>\n",
       "      <td>100000.000000</td>\n",
       "    </tr>\n",
       "  </tbody>\n",
       "</table>\n",
       "</div>"
      ],
      "text/plain": [
       "             Account   Quantity          Price\n",
       "count      17.000000  17.000000      17.000000\n",
       "mean   462254.235294   1.764706   30705.882353\n",
       "std    259093.442862   1.032558   28444.605609\n",
       "min    141962.000000   1.000000    5000.000000\n",
       "25%    218895.000000   1.000000    7000.000000\n",
       "50%    412290.000000   2.000000   30000.000000\n",
       "75%    714466.000000   2.000000   40000.000000\n",
       "max    740150.000000   5.000000  100000.000000"
      ]
     },
     "execution_count": 20,
     "metadata": {},
     "output_type": "execute_result"
    }
   ],
   "source": [
    "import pandas as pd\n",
    "sales=pd.read_excel('sales-funnel.xlsx')\n",
    "sales.describe()    #显示DataFrame中具有数值型数据的三列的常用统计量"
   ]
  },
  {
   "cell_type": "markdown",
   "metadata": {},
   "source": [
    "### 3.DataFrame各数值类型按行、按列列统计方法"
   ]
  },
  {
   "cell_type": "code",
   "execution_count": 11,
   "metadata": {},
   "outputs": [
    {
     "name": "stdout",
     "output_type": "stream",
     "text": [
      "     n1  n2  n3  n4\n",
      "wyx   0   1   2   3\n",
      "yyf   4   5   6   7\n",
      "glf   8   9  10  11\n",
      "\n"
     ]
    },
    {
     "data": {
      "text/plain": [
       "xwyx    0.000000\n",
       "xyyf   -0.756802\n",
       "xglf    0.989358\n",
       "Name: xn1, dtype: float64"
      ]
     },
     "execution_count": 11,
     "metadata": {},
     "output_type": "execute_result"
    }
   ],
   "source": [
    "import pandas as pd\n",
    "import numpy as np\n",
    "#1.生成DataFrame\n",
    "data2=np.arange(12).reshape((3,4))\n",
    "f5=pd.DataFrame(data2,columns=['n1','n2','n3','n4'],index=['wyx','yyf','glf'])\n",
    "print(f5)\n",
    "print()\n",
    "f5.columns=['xn1','xn2','xn3','xn4']  #可以直接修改DataFrame的列索引\n",
    "f5.index=['xwyx','xyyf','xglf']       #可以直接修改DataFrame的行索引\n",
    "\n",
    "#2.对DataFrame中各数值型列一并进行相应的运算或统计\n",
    "f5.mean(axis=0)    #统计数值型各列均值，也是默认值的情况\n",
    "f5.mean(axis=1)    # 统计数值型各行均值\n",
    "f5.std()           #统计数值型各列标准差\n",
    "f5.max()           #统计数值型各列最大值\n",
    "f5.min()           #统计数值型各列最小值\n",
    "f5.sum()           #统计数值型各列求和\n",
    "\n",
    "#3.对DataFrame中指定的列进行相应的计算或统计\n",
    "#重要说明：由于DataFrame中的1列就是一个Series，而Series就和array一样支持Numpy的基\n",
    "#本运算操作，如向量化四则运算以及统计运算,这个很重要！\n",
    "f5.xn1.mean() \n",
    "np.sin(f5.xn1)"
   ]
  },
  {
   "cell_type": "markdown",
   "metadata": {},
   "source": [
    "#### 练习题1：读入当前工作目录下的数据文件selftest2.csv，统计该数据文件中'height'列中有几种不同的值，并统计这些不同值出现的次数。"
   ]
  },
  {
   "cell_type": "code",
   "execution_count": 2,
   "metadata": {},
   "outputs": [
    {
     "data": {
      "text/plain": [
       "X      4\n",
       "Xl     7\n",
       "Xxl    7\n",
       "Name: height, dtype: int64"
      ]
     },
     "execution_count": 2,
     "metadata": {},
     "output_type": "execute_result"
    }
   ],
   "source": [
    "#参考答案\n",
    "import pandas as pd\n",
    "selftest=pd.read_csv('selftest2.csv')\n",
    "selftest.height.unique()  \n",
    "selftest['height'].value_counts(ascending=True,dropna=True) "
   ]
  },
  {
   "cell_type": "markdown",
   "metadata": {},
   "source": [
    "#### 练习题2：读入当前工作目录下的数据文件selftest2.csv,给出该数据文件中数值类型列的统计量描述。"
   ]
  },
  {
   "cell_type": "code",
   "execution_count": 7,
   "metadata": {},
   "outputs": [
    {
     "data": {
      "text/html": [
       "<div>\n",
       "<style scoped>\n",
       "    .dataframe tbody tr th:only-of-type {\n",
       "        vertical-align: middle;\n",
       "    }\n",
       "\n",
       "    .dataframe tbody tr th {\n",
       "        vertical-align: top;\n",
       "    }\n",
       "\n",
       "    .dataframe thead th {\n",
       "        text-align: right;\n",
       "    }\n",
       "</style>\n",
       "<table border=\"1\" class=\"dataframe\">\n",
       "  <thead>\n",
       "    <tr style=\"text-align: right;\">\n",
       "      <th></th>\n",
       "      <th>age</th>\n",
       "      <th>test</th>\n",
       "      <th>math</th>\n",
       "      <th>physics</th>\n",
       "      <th>english</th>\n",
       "    </tr>\n",
       "  </thead>\n",
       "  <tbody>\n",
       "    <tr>\n",
       "      <th>count</th>\n",
       "      <td>18.000000</td>\n",
       "      <td>18.000000</td>\n",
       "      <td>18.000000</td>\n",
       "      <td>18.000000</td>\n",
       "      <td>18.000000</td>\n",
       "    </tr>\n",
       "    <tr>\n",
       "      <th>mean</th>\n",
       "      <td>42.611111</td>\n",
       "      <td>78.222222</td>\n",
       "      <td>74.611111</td>\n",
       "      <td>83.000000</td>\n",
       "      <td>76.833333</td>\n",
       "    </tr>\n",
       "    <tr>\n",
       "      <th>std</th>\n",
       "      <td>17.872552</td>\n",
       "      <td>15.813455</td>\n",
       "      <td>19.205204</td>\n",
       "      <td>15.358462</td>\n",
       "      <td>12.715206</td>\n",
       "    </tr>\n",
       "    <tr>\n",
       "      <th>min</th>\n",
       "      <td>25.000000</td>\n",
       "      <td>40.000000</td>\n",
       "      <td>20.000000</td>\n",
       "      <td>60.000000</td>\n",
       "      <td>60.000000</td>\n",
       "    </tr>\n",
       "    <tr>\n",
       "      <th>25%</th>\n",
       "      <td>35.000000</td>\n",
       "      <td>70.000000</td>\n",
       "      <td>67.750000</td>\n",
       "      <td>74.000000</td>\n",
       "      <td>65.000000</td>\n",
       "    </tr>\n",
       "    <tr>\n",
       "      <th>50%</th>\n",
       "      <td>36.000000</td>\n",
       "      <td>81.500000</td>\n",
       "      <td>79.500000</td>\n",
       "      <td>81.500000</td>\n",
       "      <td>74.500000</td>\n",
       "    </tr>\n",
       "    <tr>\n",
       "      <th>75%</th>\n",
       "      <td>45.000000</td>\n",
       "      <td>93.000000</td>\n",
       "      <td>88.000000</td>\n",
       "      <td>88.500000</td>\n",
       "      <td>88.750000</td>\n",
       "    </tr>\n",
       "    <tr>\n",
       "      <th>max</th>\n",
       "      <td>85.000000</td>\n",
       "      <td>97.000000</td>\n",
       "      <td>100.000000</td>\n",
       "      <td>127.000000</td>\n",
       "      <td>100.000000</td>\n",
       "    </tr>\n",
       "  </tbody>\n",
       "</table>\n",
       "</div>"
      ],
      "text/plain": [
       "             age       test        math     physics     english\n",
       "count  18.000000  18.000000   18.000000   18.000000   18.000000\n",
       "mean   42.611111  78.222222   74.611111   83.000000   76.833333\n",
       "std    17.872552  15.813455   19.205204   15.358462   12.715206\n",
       "min    25.000000  40.000000   20.000000   60.000000   60.000000\n",
       "25%    35.000000  70.000000   67.750000   74.000000   65.000000\n",
       "50%    36.000000  81.500000   79.500000   81.500000   74.500000\n",
       "75%    45.000000  93.000000   88.000000   88.500000   88.750000\n",
       "max    85.000000  97.000000  100.000000  127.000000  100.000000"
      ]
     },
     "execution_count": 7,
     "metadata": {},
     "output_type": "execute_result"
    }
   ],
   "source": [
    "#参考答案；\n",
    "import pandas as pd\n",
    "selftest=pd.read_csv('selftest2.csv')\n",
    "selftest.describe()"
   ]
  },
  {
   "cell_type": "markdown",
   "metadata": {},
   "source": [
    "#### 练习题3：读入当前工作目录下的数据文件selftest2.csv,给出该数据文件中math列数据的均值，并打印出来。"
   ]
  },
  {
   "cell_type": "code",
   "execution_count": 14,
   "metadata": {},
   "outputs": [
    {
     "data": {
      "text/plain": [
       "74.61111111111111"
      ]
     },
     "execution_count": 14,
     "metadata": {},
     "output_type": "execute_result"
    }
   ],
   "source": [
    "#参考答案；\n",
    "import pandas as pd\n",
    "selftest=pd.read_csv('selftest2.csv')\n",
    "selftest.math.mean()"
   ]
  }
 ],
 "metadata": {
  "kernelspec": {
   "display_name": "Python 3",
   "language": "python",
   "name": "python3"
  },
  "language_info": {
   "codemirror_mode": {
    "name": "ipython",
    "version": 3
   },
   "file_extension": ".py",
   "mimetype": "text/x-python",
   "name": "python",
   "nbconvert_exporter": "python",
   "pygments_lexer": "ipython3",
   "version": "3.6.5"
  }
 },
 "nbformat": 4,
 "nbformat_minor": 2
}
