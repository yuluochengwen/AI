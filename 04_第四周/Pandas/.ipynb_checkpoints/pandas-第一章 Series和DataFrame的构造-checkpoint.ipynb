{
 "cells": [
  {
   "cell_type": "markdown",
   "metadata": {},
   "source": [
    "## Pandas官网学习：http://pandas.pydata.org/"
   ]
  },
  {
   "cell_type": "markdown",
   "metadata": {},
   "source": [
    "## 第一章 Series和DataFrame的构造"
   ]
  },
  {
   "cell_type": "markdown",
   "metadata": {},
   "source": [
    "### 0.Pandas概述"
   ]
  },
  {
   "cell_type": "markdown",
   "metadata": {},
   "source": [
    "* Pandas是python的一个数据分析包，是基于NumPy 的一种工具,最初由AQR Capital Management于2008年4月开发，并于2009年底开源出来，目前由专注于Python数据包开发的PyData开发team继续开发和维护，属于PyData项目的一部分。Pandas的名称来自于面板数据（panel data）和python数据分析(data analysis)。\n",
    "* Pandas最初被作为金融数据分析工具而开发出来，因此，pandas为时间序列分析提供了很好的支持。\n",
    "* 和Numpy一样，Pandas提供了Series和DataFrame两种数据结构，提供了一些内置函数。\n",
    "* Pandas的内置函数计算速度不如Numpy中的内置函数计算速度快。"
   ]
  },
  {
   "cell_type": "code",
   "execution_count": 5,
   "metadata": {},
   "outputs": [
    {
     "name": "stdout",
     "output_type": "stream",
     "text": [
      "0.22.0\n"
     ]
    }
   ],
   "source": [
    "import pandas as pd\n",
    "print(pd.__version__)\n",
    "#print(pd.show_versions()) #详细显示当前pandas的环境，包括操作系统、相关联包的版本\n",
    "#help(pd.concat)，和下边这行功能一样,详细了解这个函数的详细内容\n",
    "pd.merge?\n",
    "#shift+tab键的使用：当不知道某一个函数具体使用尤其是函数中的参数是什么时，将鼠标放在该函数处，\n",
    "#按shift+tab键一次、两次、三次会逐步现实该函数详细介绍。此功能不仅对函数适用，对任何变量也适用。"
   ]
  },
  {
   "cell_type": "markdown",
   "metadata": {},
   "source": [
    "### 1.创建Series(支持 Numpy的基本运算操作)"
   ]
  },
  {
   "cell_type": "code",
   "execution_count": 2,
   "metadata": {},
   "outputs": [
    {
     "name": "stdout",
     "output_type": "stream",
     "text": [
      "tom      80\n",
      "jack     90\n",
      "alice    95\n",
      "luci     98\n",
      "dtype: int64\n",
      "\n",
      "tom      10\n",
      "jack     20\n",
      "alice    30\n",
      "luci     40\n",
      "dtype: int32\n"
     ]
    }
   ],
   "source": [
    "#Series支持 Numpy的基本运算操作，如向量化四则运算以及统计运算,这个很重要\n",
    "import pandas as pd\n",
    "import numpy as np\n",
    "#1.字典生成Series\n",
    "dic1 = {'a':10,'b':20,'c':30,'d':40,'e':50}\n",
    "s1=pd.Series(dic1)\n",
    "np.max(s1)   #numpy中的函数可以作用在Series上\n",
    "#2.列表生成Series(最常用的方法)\n",
    "arr=[10,20,30,40,50]\n",
    "s2=pd.Series(arr)\n",
    "English1=pd.Series([80,90,95,98],index=[\"tom\",\"jack\",\"alice\",\"luci\"])  #给出索引由列表生成Series，最好的一种方法\n",
    "print(English1)\n",
    "print()\n",
    "#3.由一维数组array生成的Series\n",
    "my_array=np.array([10,20,30,40])\n",
    "my_series=pd.Series(my_array,index=[\"tom\",\"jack\",\"alice\",\"luci\"])\n",
    "print(my_series)"
   ]
  },
  {
   "cell_type": "markdown",
   "metadata": {},
   "source": [
    "### 2.创建DataFrame"
   ]
  },
  {
   "cell_type": "markdown",
   "metadata": {},
   "source": [
    "#### (1)由字典生成DataFrame"
   ]
  },
  {
   "cell_type": "code",
   "execution_count": 5,
   "metadata": {},
   "outputs": [],
   "source": [
    "import numpy as np\n",
    "import pandas as pd\n",
    "data = {\"name\":[\"yahoo\",\"google\",\"facebook\"], \"marks\":[200,400,800],\\\n",
    "        \"price\":[9, 3, 7]} \n",
    "f1 = pd.DataFrame(data)   #行索引默认数字序号\n",
    "newdata = {\"lang\":{\"firstline\":\"python\",\"secondline\":\"java\"}, \\\n",
    "           \"price\":{\"firstline\":8000,\"secondline\":3000}}\n",
    "f2 = pd.DataFrame(newdata) #newdata字典本身就含有行索引和列索引"
   ]
  },
  {
   "cell_type": "code",
   "execution_count": 6,
   "metadata": {},
   "outputs": [
    {
     "data": {
      "text/html": [
       "<div>\n",
       "<style scoped>\n",
       "    .dataframe tbody tr th:only-of-type {\n",
       "        vertical-align: middle;\n",
       "    }\n",
       "\n",
       "    .dataframe tbody tr th {\n",
       "        vertical-align: top;\n",
       "    }\n",
       "\n",
       "    .dataframe thead th {\n",
       "        text-align: right;\n",
       "    }\n",
       "</style>\n",
       "<table border=\"1\" class=\"dataframe\">\n",
       "  <thead>\n",
       "    <tr style=\"text-align: right;\">\n",
       "      <th></th>\n",
       "      <th>lang</th>\n",
       "      <th>price</th>\n",
       "    </tr>\n",
       "  </thead>\n",
       "  <tbody>\n",
       "    <tr>\n",
       "      <th>firstline</th>\n",
       "      <td>python</td>\n",
       "      <td>8000</td>\n",
       "    </tr>\n",
       "    <tr>\n",
       "      <th>secondline</th>\n",
       "      <td>java</td>\n",
       "      <td>3000</td>\n",
       "    </tr>\n",
       "  </tbody>\n",
       "</table>\n",
       "</div>"
      ],
      "text/plain": [
       "              lang  price\n",
       "firstline   python   8000\n",
       "secondline    java   3000"
      ]
     },
     "execution_count": 6,
     "metadata": {},
     "output_type": "execute_result"
    }
   ],
   "source": [
    "f2"
   ]
  },
  {
   "cell_type": "markdown",
   "metadata": {},
   "source": [
    "#### (2)由列表生成DataFrame(最好的办法之一)"
   ]
  },
  {
   "cell_type": "code",
   "execution_count": 3,
   "metadata": {},
   "outputs": [],
   "source": [
    "import pandas as pd\n",
    "data1=[['yahoo',200,9],['google',400,3],['facebook',800,7]]\n",
    "f3=pd.DataFrame(data1,columns=['name','price','marks'])\n",
    "f4=pd.DataFrame(data1,columns=['name','price','marks'],index=['a','b','c'])"
   ]
  },
  {
   "cell_type": "code",
   "execution_count": 4,
   "metadata": {},
   "outputs": [
    {
     "data": {
      "text/html": [
       "<div>\n",
       "<style scoped>\n",
       "    .dataframe tbody tr th:only-of-type {\n",
       "        vertical-align: middle;\n",
       "    }\n",
       "\n",
       "    .dataframe tbody tr th {\n",
       "        vertical-align: top;\n",
       "    }\n",
       "\n",
       "    .dataframe thead th {\n",
       "        text-align: right;\n",
       "    }\n",
       "</style>\n",
       "<table border=\"1\" class=\"dataframe\">\n",
       "  <thead>\n",
       "    <tr style=\"text-align: right;\">\n",
       "      <th></th>\n",
       "      <th>name</th>\n",
       "      <th>price</th>\n",
       "      <th>marks</th>\n",
       "    </tr>\n",
       "  </thead>\n",
       "  <tbody>\n",
       "    <tr>\n",
       "      <th>a</th>\n",
       "      <td>yahoo</td>\n",
       "      <td>200</td>\n",
       "      <td>9</td>\n",
       "    </tr>\n",
       "    <tr>\n",
       "      <th>b</th>\n",
       "      <td>google</td>\n",
       "      <td>400</td>\n",
       "      <td>3</td>\n",
       "    </tr>\n",
       "    <tr>\n",
       "      <th>c</th>\n",
       "      <td>facebook</td>\n",
       "      <td>800</td>\n",
       "      <td>7</td>\n",
       "    </tr>\n",
       "  </tbody>\n",
       "</table>\n",
       "</div>"
      ],
      "text/plain": [
       "       name  price  marks\n",
       "a     yahoo    200      9\n",
       "b    google    400      3\n",
       "c  facebook    800      7"
      ]
     },
     "execution_count": 4,
     "metadata": {},
     "output_type": "execute_result"
    }
   ],
   "source": [
    "f4"
   ]
  },
  {
   "cell_type": "markdown",
   "metadata": {},
   "source": [
    "#### (3)由数组生成DataFrame(数组里边的元素类型必须一样才能创建)"
   ]
  },
  {
   "cell_type": "code",
   "execution_count": null,
   "metadata": {},
   "outputs": [],
   "source": [
    "import numpy as np\n",
    "import pandas as pd\n",
    "data2=np.arange(12).reshape((3,4))\n",
    "f5=pd.DataFrame(data2,columns=['n1','n2','n3','n4'],index=['wyx','yyf','glf'])"
   ]
  },
  {
   "cell_type": "markdown",
   "metadata": {},
   "source": [
    "#### (4)从数据文件读入一个DataFrame（最好的办法之二）"
   ]
  },
  {
   "cell_type": "code",
   "execution_count": 25,
   "metadata": {},
   "outputs": [
    {
     "data": {
      "text/plain": [
       "pandas.core.frame.DataFrame"
      ]
     },
     "execution_count": 25,
     "metadata": {},
     "output_type": "execute_result"
    }
   ],
   "source": [
    "import numpy as np\n",
    "import pandas as pd\n",
    "oly=pd.read_csv('olympics.csv',skiprows=4)\n",
    "type(oly)    #显示oly的数据类型为DataFrame"
   ]
  },
  {
   "cell_type": "markdown",
   "metadata": {},
   "source": [
    "#### 练习题1：生成如下形式的一个Series,并打印显示出来。\n",
    "![caption](scores.png)"
   ]
  },
  {
   "cell_type": "code",
   "execution_count": 11,
   "metadata": {},
   "outputs": [
    {
     "name": "stdout",
     "output_type": "stream",
     "text": [
      "Math         80\n",
      "English      85\n",
      "Physics      90\n",
      "Art          95\n",
      "Chemistry    98\n",
      "Sports       75\n",
      "dtype: int32\n"
     ]
    }
   ],
   "source": [
    "#参考答案\n",
    "import pandas as pd\n",
    "import numpy as np\n",
    "my_array=np.array([80,85,90,95,98,75])\n",
    "my_series=pd.Series(my_array,index=[\"Math\",\"English\",\"Physics\",\"Art\",\"Chemistry\",\"Sports\"])\n",
    "print(my_series)"
   ]
  },
  {
   "cell_type": "markdown",
   "metadata": {},
   "source": [
    "#### 练习题2：生成如下形式的一个DataFrame，并打印显示出来。\n",
    "![caption](mydata.png)"
   ]
  },
  {
   "cell_type": "code",
   "execution_count": 17,
   "metadata": {},
   "outputs": [
    {
     "data": {
      "text/html": [
       "<div>\n",
       "<style scoped>\n",
       "    .dataframe tbody tr th:only-of-type {\n",
       "        vertical-align: middle;\n",
       "    }\n",
       "\n",
       "    .dataframe tbody tr th {\n",
       "        vertical-align: top;\n",
       "    }\n",
       "\n",
       "    .dataframe thead th {\n",
       "        text-align: right;\n",
       "    }\n",
       "</style>\n",
       "<table border=\"1\" class=\"dataframe\">\n",
       "  <thead>\n",
       "    <tr style=\"text-align: right;\">\n",
       "      <th></th>\n",
       "      <th>name</th>\n",
       "      <th>math</th>\n",
       "      <th>english</th>\n",
       "      <th>sex</th>\n",
       "      <th>success</th>\n",
       "    </tr>\n",
       "  </thead>\n",
       "  <tbody>\n",
       "    <tr>\n",
       "      <th>0</th>\n",
       "      <td>lihong</td>\n",
       "      <td>80</td>\n",
       "      <td>90</td>\n",
       "      <td>female</td>\n",
       "      <td>Yes</td>\n",
       "    </tr>\n",
       "    <tr>\n",
       "      <th>1</th>\n",
       "      <td>wangwu</td>\n",
       "      <td>90</td>\n",
       "      <td>100</td>\n",
       "      <td>male</td>\n",
       "      <td>Yes</td>\n",
       "    </tr>\n",
       "    <tr>\n",
       "      <th>2</th>\n",
       "      <td>zhangsan</td>\n",
       "      <td>60</td>\n",
       "      <td>40</td>\n",
       "      <td>male</td>\n",
       "      <td>No</td>\n",
       "    </tr>\n",
       "    <tr>\n",
       "      <th>3</th>\n",
       "      <td>liumei</td>\n",
       "      <td>85</td>\n",
       "      <td>95</td>\n",
       "      <td>female</td>\n",
       "      <td>Yes</td>\n",
       "    </tr>\n",
       "  </tbody>\n",
       "</table>\n",
       "</div>"
      ],
      "text/plain": [
       "       name  math  english     sex success\n",
       "0    lihong    80       90  female     Yes\n",
       "1    wangwu    90      100    male     Yes\n",
       "2  zhangsan    60       40    male      No\n",
       "3    liumei    85       95  female     Yes"
      ]
     },
     "execution_count": 17,
     "metadata": {},
     "output_type": "execute_result"
    }
   ],
   "source": [
    "#参考答案:\n",
    "import numpy as np\n",
    "import pandas as pd\n",
    "my_values=[['lihong',80,90,'female','Yes'],['wangwu',90,100,'male','Yes'],\\\n",
    "           ['zhangsan',60,40,'male','No'],['liumei',85,95,'female','Yes']]\n",
    "my_data=pd.DataFrame(my_values,columns=['name','math','english','sex','success'])\n",
    "my_data"
   ]
  }
 ],
 "metadata": {
  "kernelspec": {
   "display_name": "Python 3",
   "language": "python",
   "name": "python3"
  },
  "language_info": {
   "codemirror_mode": {
    "name": "ipython",
    "version": 3
   },
   "file_extension": ".py",
   "mimetype": "text/x-python",
   "name": "python",
   "nbconvert_exporter": "python",
   "pygments_lexer": "ipython3",
   "version": "3.6.4"
  }
 },
 "nbformat": 4,
 "nbformat_minor": 2
}
