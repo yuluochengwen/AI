{
 "cells": [
  {
   "cell_type": "markdown",
   "metadata": {},
   "source": [
    "## 第四章 DataFrame的合并、分组操作"
   ]
  },
  {
   "cell_type": "markdown",
   "metadata": {},
   "source": [
    "### 1.分组(groupby())(可以得到多个分组的DataFrame)（了解）"
   ]
  },
  {
   "cell_type": "code",
   "execution_count": 1,
   "metadata": {},
   "outputs": [],
   "source": [
    "#1.分组\n",
    "#groupby可以通过传入需要分组的参数实现对数据的分组\n",
    "import pandas as pd\n",
    "oly=pd.read_csv('olympics.csv',skiprows=4)\n",
    "group1=oly.groupby('Edition')  #按时间分组，生成一个新对象DataFrameGroupBy，但不是DataFrame\n",
    "group2=oly.groupby(['Edition','NOC'])  #多层分组\n",
    "#list(group1)  \n",
    "group1.size()   #是方法不是属性，给出各组的数据个数\n",
    "group2.size()\n",
    "#2.提取分组结果(index,columns都未变)\n",
    "#通过get_group方法来获取某一指定分组的结果（返回DataFrame）。\n",
    "group1.get_group(1912)   #提取;Edition=1912那组值，返回DataFrame(包含1912那一列)\n",
    "b=group2.get_group((1912,'FRA'))  #多层分组提取，提取Edition=1912,NOC='FRA'那个分组，返回DataFrame"
   ]
  },
  {
   "cell_type": "markdown",
   "metadata": {},
   "source": [
    "### 2.透视表（pivot table）(本质是一种分组计算）（了解）\n",
    "* 相当于分组选定的数据列进行函数运算"
   ]
  },
  {
   "cell_type": "code",
   "execution_count": 2,
   "metadata": {},
   "outputs": [
    {
     "data": {
      "text/html": [
       "<div>\n",
       "<style scoped>\n",
       "    .dataframe tbody tr th:only-of-type {\n",
       "        vertical-align: middle;\n",
       "    }\n",
       "\n",
       "    .dataframe tbody tr th {\n",
       "        vertical-align: top;\n",
       "    }\n",
       "\n",
       "    .dataframe thead tr th {\n",
       "        text-align: left;\n",
       "    }\n",
       "\n",
       "    .dataframe thead tr:last-of-type th {\n",
       "        text-align: right;\n",
       "    }\n",
       "</style>\n",
       "<table border=\"1\" class=\"dataframe\">\n",
       "  <thead>\n",
       "    <tr>\n",
       "      <th></th>\n",
       "      <th></th>\n",
       "      <th>mean</th>\n",
       "      <th>len</th>\n",
       "    </tr>\n",
       "    <tr>\n",
       "      <th></th>\n",
       "      <th></th>\n",
       "      <th>Price</th>\n",
       "      <th>Price</th>\n",
       "    </tr>\n",
       "    <tr>\n",
       "      <th>Manager</th>\n",
       "      <th>Rep</th>\n",
       "      <th></th>\n",
       "      <th></th>\n",
       "    </tr>\n",
       "  </thead>\n",
       "  <tbody>\n",
       "    <tr>\n",
       "      <th rowspan=\"3\" valign=\"top\">Debra Henley</th>\n",
       "      <th>Craig Booker</th>\n",
       "      <td>20000.000000</td>\n",
       "      <td>4</td>\n",
       "    </tr>\n",
       "    <tr>\n",
       "      <th>Daniel Hilton</th>\n",
       "      <td>38333.333333</td>\n",
       "      <td>3</td>\n",
       "    </tr>\n",
       "    <tr>\n",
       "      <th>John Smith</th>\n",
       "      <td>20000.000000</td>\n",
       "      <td>2</td>\n",
       "    </tr>\n",
       "    <tr>\n",
       "      <th rowspan=\"2\" valign=\"top\">Fred Anderson</th>\n",
       "      <th>Cedric Moss</th>\n",
       "      <td>27500.000000</td>\n",
       "      <td>4</td>\n",
       "    </tr>\n",
       "    <tr>\n",
       "      <th>Wendy Yule</th>\n",
       "      <td>44250.000000</td>\n",
       "      <td>4</td>\n",
       "    </tr>\n",
       "  </tbody>\n",
       "</table>\n",
       "</div>"
      ],
      "text/plain": [
       "                                     mean   len\n",
       "                                    Price Price\n",
       "Manager       Rep                              \n",
       "Debra Henley  Craig Booker   20000.000000     4\n",
       "              Daniel Hilton  38333.333333     3\n",
       "              John Smith     20000.000000     2\n",
       "Fred Anderson Cedric Moss    27500.000000     4\n",
       "              Wendy Yule     44250.000000     4"
      ]
     },
     "execution_count": 2,
     "metadata": {},
     "output_type": "execute_result"
    }
   ],
   "source": [
    "#数据透视表 pivot table(改变index的值,操作只对数据类型列进行)\n",
    "import pandas as np\n",
    "import numpy as np\n",
    "df = pd.read_excel(\"sales-funnel.xlsx\")\n",
    "df.head()\n",
    "#将\"Name\"作为index,对各数据型列进行操作,默认是mean操作，返回作用结果\n",
    "pd.pivot_table(df,index=[\"Name\"])  \n",
    "#将\"Manager\",\"Rep\"作为index,对各数据型列进行操作，返回作用结果\n",
    "pd.pivot_table(df,index=[\"Manager\",\"Rep\"]) \n",
    "#只对\"Price\"数据列进行操作\n",
    "pd.pivot_table(df,index=[\"Manager\",\"Rep\"],values=[\"Price\"]) \n",
    "ss=pd.pivot_table(df,index=[\"Manager\",\"Rep\"],values=[\"Price\"],aggfunc=np.sum)\n",
    "pd.pivot_table(df,index=[\"Manager\",\"Rep\"],values=[\"Price\"],aggfunc=[np.mean,len])"
   ]
  },
  {
   "cell_type": "markdown",
   "metadata": {},
   "source": [
    "### 3.合并（append、insert）\n",
    "* 常用append,insert实现行追加、列追加和列插入"
   ]
  },
  {
   "cell_type": "markdown",
   "metadata": {},
   "source": [
    "#### (1)append(用于行追加数据，不能利用该命令做行插入)"
   ]
  },
  {
   "cell_type": "code",
   "execution_count": 3,
   "metadata": {},
   "outputs": [],
   "source": [
    "#append是series和dataframe的方法，使用它就是按行进行追加数据（不能横拼接）\n",
    "#append不能实现行插入，若想实现行插入功能，只能分块拆分再合并追加。\n",
    "import pandas as pd\n",
    "s1=[['a0','b0','c0','d0'],['a1','b1','c1','d1'],['a2','b2','c2','d2'],['a3','b3','c3','d3']]\n",
    "s2=[['a4','b4','c4','d4'],['a5','b5','c5','d5'],['a6','b6','c6','d6'],['a7','b7','c7','d7']]\n",
    "s3=[['a8','b8','c8','d8'],['a9','b9','c9','d9'],['a10','b10','c10','d10'],['a11','b11','c11','d11']]\n",
    "s4=[['b2','d2','f2'],['b3','d3','f3'],['b6','d6','f6'],['b7','d7','f7']]\n",
    "df1=pd.DataFrame(s1,index=[0,1,2,3],columns=['A','B','C','D'])\n",
    "df2=pd.DataFrame(s2,index=[4,5,6,7],columns=['A','B','C','D'])\n",
    "df3=pd.DataFrame(s3,index=[8,9,10,11],columns=['A','B','C','D'])    \n",
    "df4=pd.DataFrame(s4,index=[2,3,6,7],columns=['B','D','F'])\n",
    "result1 = df1.append(df3,ignore_index=True)  #忽略df3的index,重新以0,1,2,...定义新的index。"
   ]
  },
  {
   "cell_type": "markdown",
   "metadata": {},
   "source": [
    "#### (2)insert(列插入，只能插入1列)"
   ]
  },
  {
   "cell_type": "code",
   "execution_count": null,
   "metadata": {},
   "outputs": [],
   "source": [
    "#一个DataFrame,除在最右侧插入用标签直接创建外，其他列用.insert()方法进行插入。\n",
    "import numpy as np\n",
    "import pandas as pd\n",
    "my_array=np.arange(20).reshape((4,5))\n",
    "my_data=pd.DataFrame(my_array,columns=['A','B','C','D','E'])\n",
    "\n",
    "#在最右侧增加一列，用标签创建\n",
    "my_data['F']=pd.Series([89,90,100,110])\n",
    "my_data['G']=np.array([89,90,100,110])\n",
    "my_data['H']=[89,90,100,110]\n",
    "\n",
    "#在非最右侧列增加一列数据(只能增加一列数据)\n",
    "insert_col=np.array([89,90,100,110])\n",
    "my_data.insert(4,'insert1',insert_col)#第4列前插入一列，这一列可以是列表、数组、series\n",
    "my_data.insert(2,'insert2',1000)  #在第2列前插入全是2的1列"
   ]
  },
  {
   "cell_type": "markdown",
   "metadata": {},
   "source": [
    "#### 练习题1：下边是两个DataFrame，请将第2个DataFrame附在第1个DataFrame下边生成一个新的DataFrame.\n",
    "![caption](dfapp.png)"
   ]
  },
  {
   "cell_type": "code",
   "execution_count": 9,
   "metadata": {},
   "outputs": [],
   "source": [
    "#参考答案\n",
    "import pandas as pd\n",
    "list1=[['a0','b0','c0','d0'],['a1','b1','c1','d1'],['a2','b2','c2','d2'],['a3','b3','c3','d3']]\n",
    "list2=[['a4','b4','c4','d4'],['a5','b5','c5','d5'],['a6','b6','c6','d6'],['a7','b7','c7','d7']]\n",
    "df1=pd.DataFrame(list1,columns=['A','B','C','D'])  \n",
    "df2=pd.DataFrame(list2,columns=['A','B','C','D']) \n",
    "result = df1.append(df2,ignore_index=True)  #忽略df3的index,重新以0,1,2,...定义新的index。"
   ]
  },
  {
   "cell_type": "markdown",
   "metadata": {},
   "source": [
    "#### 练习题2：根据下边给出的代码，按要求完成任务。   \n",
    "已知代码：    \n",
    "import numpy as np    \n",
    "import pandas as pd    \n",
    "my_array=np.arange(20).reshape((4,5))    \n",
    "my_data=pd.DataFrame(my_array,columns=['A','B','C','D','E'])    \n",
    "求：在my_data中新增1列标签为'MMM'的Series，其中元素分别是75,60,85,90.    \n"
   ]
  },
  {
   "cell_type": "code",
   "execution_count": 1,
   "metadata": {},
   "outputs": [
    {
     "name": "stdout",
     "output_type": "stream",
     "text": [
      "    A   B   C   D   E  MMM\n",
      "0   0   1   2   3   4   75\n",
      "1   5   6   7   8   9   60\n",
      "2  10  11  12  13  14   85\n",
      "3  15  16  17  18  19   90\n"
     ]
    }
   ],
   "source": [
    "#参考答案\n",
    "import numpy as np\n",
    "import pandas as pd\n",
    "my_array=np.arange(20).reshape((4,5))\n",
    "my_data=pd.DataFrame(my_array,columns=['A','B','C','D','E'])\n",
    "my_data['MMM']=[75,60,85,90]\n",
    "print(my_data)"
   ]
  }
 ],
 "metadata": {
  "kernelspec": {
   "display_name": "Python 3",
   "language": "python",
   "name": "python3"
  },
  "language_info": {
   "codemirror_mode": {
    "name": "ipython",
    "version": 3
   },
   "file_extension": ".py",
   "mimetype": "text/x-python",
   "name": "python",
   "nbconvert_exporter": "python",
   "pygments_lexer": "ipython3",
   "version": "3.6.4"
  }
 },
 "nbformat": 4,
 "nbformat_minor": 2
}
