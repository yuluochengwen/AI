{
 "cells": [
  {
   "cell_type": "markdown",
   "id": "da3defc4",
   "metadata": {},
   "source": [
    "#### PAT-1049 数列的片段和\n",
    "1. 求所有连续子数列的和"
   ]
  },
  {
   "cell_type": "code",
   "execution_count": null,
   "id": "e873ed0c",
   "metadata": {},
   "outputs": [
    {
     "name": "stdout",
     "output_type": "stream",
     "text": [
      "5.00\n"
     ]
    }
   ],
   "source": [
    "# 双循环,超时\n",
    "N = int(input())\n",
    "data = list(map(float, input().split()))\n",
    "\n",
    "one_p = 0\n",
    "two_p = 0\n",
    "total = 0\n",
    "\n",
    "while one_p < len(data):\n",
    "    two_p = one_p\n",
    "    while two_p < len(data):\n",
    "        total = total + sum(data[one_p:two_p+1])\n",
    "        two_p += 1\n",
    "    one_p += 1\n",
    "print(f'{total:.2f}')"
   ]
  },
  {
   "cell_type": "code",
   "execution_count": null,
   "id": "bf6d6b2d",
   "metadata": {},
   "outputs": [],
   "source": [
    "n = int(input())\n",
    "nums = list(map(float, input().split()))\n",
    "total = 0.0\n",
    "\n",
    "for i in range(n):\n",
    "    # 1-based 位置\n",
    "    pos = i + 1\n",
    "    # 出现次数 = 左边可能数 * 右边可能数\n",
    "    count = pos * (n - pos + 1)\n",
    "    total += nums[i] * count\n",
    "\n",
    "print(\"{:.2f}\".format(total))"
   ]
  },
  {
   "cell_type": "markdown",
   "id": "6239813e",
   "metadata": {},
   "source": [
    "#### PAT-1076 wifi密码\n",
    "1. 字符串模糊匹配搭配列表推导式"
   ]
  },
  {
   "cell_type": "code",
   "execution_count": null,
   "id": "c37be757",
   "metadata": {},
   "outputs": [],
   "source": [
    "N = int(input())\n",
    "\n",
    "letter_to_num = {'A': 1, 'B': 2, 'C': 3, 'D': 4}\n",
    "password = ''\n",
    "\n",
    "for _ in range(N):\n",
    "    line = input().split()\n",
    "    true_word = [x[0] for x in line if '-T' in x]\n",
    "    password += str(letter_to_num[true_word[0]])\n",
    "print(password)"
   ]
  },
  {
   "cell_type": "markdown",
   "id": "84f549e6",
   "metadata": {},
   "source": [
    "#### PAT-1077 互评成绩计算\n",
    "1. 剔除非法输入,使用if\n"
   ]
  },
  {
   "cell_type": "code",
   "execution_count": null,
   "id": "8057d8f4",
   "metadata": {},
   "outputs": [],
   "source": [
    "N, M = map(int, input().split())\n",
    "\n",
    "for _ in range(N):\n",
    "    # 逐行读入分数\n",
    "    initial_score = list(map(int, input().split()))\n",
    "    # 取出老师的评分\n",
    "    teacher_score = initial_score.pop(0)\n",
    "    # 去除学生给出的异常评分\n",
    "    initial_score = [x for x in initial_score if 0 <= x <= M]\n",
    "    # 排序\n",
    "    initial_score.sort()\n",
    "    # 去除最低分\n",
    "    initial_score.pop(0)\n",
    "    # 去除最高分\n",
    "    initial_score.pop(-1)\n",
    "    # 计算学生评分的平均分\n",
    "    avg_score = sum(initial_score)/len(initial_score)\n",
    "    # 计算最终的评分\n",
    "    final_score = (teacher_score+avg_score)/2+0.5\n",
    "    print(int(final_score))\n"
   ]
  },
  {
   "cell_type": "code",
   "execution_count": null,
   "id": "d392da95",
   "metadata": {},
   "outputs": [],
   "source": [
    "n, m = map(int, input().split())\n",
    "for _ in range(n):\n",
    "    parts = input().split()\n",
    "    g2 = int(parts[0])  # 老师评分\n",
    "    others = list(map(int, parts[1:n]))  # 其他组评分（确保只取N-1个）\n",
    "    \n",
    "    # 过滤非法分数\n",
    "    valid = [x for x in others if 0 <= x <= m]\n",
    "    \n",
    "    # 去掉最高和最低分\n",
    "    valid_sorted = sorted(valid)\n",
    "    if len(valid_sorted) > 2:\n",
    "        trimmed = valid_sorted[1:-1]\n",
    "    else:\n",
    "        trimmed = valid_sorted  # 题目保证至少3个合法评分，所以这行不会执行\n",
    "    \n",
    "    # 计算G1\n",
    "    g1 = sum(trimmed) / len(trimmed)\n",
    "    \n",
    "    # 计算最终得分并四舍五入（使用int(x+0.5)确保正确四舍五入）\n",
    "    final_score = int((g1 + g2) / 2 + 0.5)\n",
    "    \n",
    "    print(final_score)"
   ]
  }
 ],
 "metadata": {
  "kernelspec": {
   "display_name": "base",
   "language": "python",
   "name": "python3"
  },
  "language_info": {
   "codemirror_mode": {
    "name": "ipython",
    "version": 3
   },
   "file_extension": ".py",
   "mimetype": "text/x-python",
   "name": "python",
   "nbconvert_exporter": "python",
   "pygments_lexer": "ipython3",
   "version": "3.12.4"
  }
 },
 "nbformat": 4,
 "nbformat_minor": 5
}
